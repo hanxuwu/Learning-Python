{
 "cells": [
  {
   "cell_type": "markdown",
   "metadata": {},
   "source": [
    "##   \\__init\\__"
   ]
  },
  {
   "cell_type": "code",
   "execution_count": 1,
   "metadata": {},
   "outputs": [
    {
     "name": "stdout",
     "output_type": "stream",
     "text": [
      "hello\n",
      "neo\n",
      "\n",
      "male\n"
     ]
    }
   ],
   "source": [
    "class testClass:\n",
    "    def __init__(self,name,gender):\n",
    "        ##定义__init__方法，self指创建实例的时候会创建实例本身\n",
    "        self.Name=name\n",
    "        ## 通常写成self.name=name  这里为了区分前后两个是不同的东西\n",
    "        ## 等号左边的Name是实例的属性，后面的是方法__init__的参数\n",
    "        self.Gender=gender \n",
    "        ## 通常会写成self.gender=gender\n",
    "        print('hello') #只有第一次创建的时候调用\n",
    "        ## 为了说明创建类的实例的时候，__init__方法就被调用了\n",
    "        \n",
    "testman=testClass('neo','male')\n",
    "## 创建类testClass的一个实例testman，类中有__init__这个方法，在创建类的实例的时候\n",
    "## 就必须要有和方法__init__匹配的参数了\n",
    "## self 指创建实例本身，self不用传入\n",
    "##实例testman的两个属性Name Gender就被赋值初始化了，Name是neo，Gender是male\n",
    "\n",
    "print(testman.Name)\n",
    "print()\n",
    "print(testman.Gender)\n",
    "        \n",
    "        "
   ]
  },
  {
   "cell_type": "code",
   "execution_count": null,
   "metadata": {
    "collapsed": true
   },
   "outputs": [],
   "source": [
    "'''\n",
    "当类被调用，实例化的第一步是创建实例对象。\n",
    "一旦对象创建了，Python检查是否实现了__init__()方法。\n",
    "默认情况下，如果没有定义（或覆盖）特殊方法__init__()， \n",
    "对实例不会施加任何特别的操作。任何所需的特定操作，\n",
    "都需要程序员实现__init__()，覆盖它的默认行为。\n",
    "如果__init__()没有实现，则返回它的对象，实例化过程完毕。\n",
    "然而，如果__init__()已经被实现，那么它将被调用，\n",
    "实例对象作为第一个参数(self)被传递进去，像标准方法调用一样。\n",
    "调用类时，传进的任何参数都交给了__init__()。实际中，\n",
    "你可以想象成这样：把创建实例的调用当成是对构造器的调用。\n",
    "总之，\n",
    "(a) 你没有通过调用 new 来创建实例，你也没有定义一个构造器。\n",
    "是Python为你创建了对象；\n",
    "(b) __init__()，是在解释器为你创建个实例后调用的第一个方法，在你开始使用它之前，这一步可以让你做一些准备工作。__init__()是很多为类定义的特殊方法之一。其中一些特殊方法是预定义的，缺省情况下，不进行任何操作，比如__init__()，要定制，就必须对它进行重载，还有些方法，可能要按需要去实现。\n",
    "'''"
   ]
  },
  {
   "cell_type": "markdown",
   "metadata": {},
   "source": [
    "## 注意"
   ]
  },
  {
   "cell_type": "markdown",
   "metadata": {},
   "source": [
    "### 1.__init__并不相当于C#中的构造函数，执行它的时候，实例已构造出来了"
   ]
  },
  {
   "cell_type": "code",
   "execution_count": 8,
   "metadata": {
    "collapsed": true
   },
   "outputs": [],
   "source": [
    "class A(object):\n",
    "    def __init__(self,name):\n",
    "        self.name=name\n",
    "    def getName(self):\n",
    "        return 'A'+self.name\n",
    "a=A('Hello')\n",
    "\n"
   ]
  },
  {
   "cell_type": "code",
   "execution_count": null,
   "metadata": {
    "collapsed": true
   },
   "outputs": [],
   "source": [
    "#可以理解为\n",
    "a=object.__New__(A)\n",
    "A.__init__(a,'hello')\n",
    "#__init__作用是初始化已实例化后的对象"
   ]
  },
  {
   "cell_type": "markdown",
   "metadata": {},
   "source": [
    "### 2.子类可以不重写__init__，实例化子类时，会自动调用超类中已定义的__init__"
   ]
  },
  {
   "cell_type": "code",
   "execution_count": 11,
   "metadata": {},
   "outputs": [
    {
     "name": "stdout",
     "output_type": "stream",
     "text": [
      "Bhello\n"
     ]
    }
   ],
   "source": [
    "class B(A):\n",
    "    def getName(self):\n",
    "        return 'B'+self.name\n",
    "    \n",
    "if __name__=='__main__':\n",
    "    b=B('hello')\n",
    "    print(b.getName())"
   ]
  },
  {
   "cell_type": "markdown",
   "metadata": {},
   "source": [
    " 但如果重写了\\__init\\__ 实例化子类时，则不会隐式的再去调用超类中已定义的\\__init__"
   ]
  },
  {
   "cell_type": "code",
   "execution_count": 14,
   "metadata": {},
   "outputs": [
    {
     "ename": "AttributeError",
     "evalue": "'C' object has no attribute 'name'",
     "output_type": "error",
     "traceback": [
      "\u001b[1;31m---------------------------------------------------------------------------\u001b[0m",
      "\u001b[1;31mAttributeError\u001b[0m                            Traceback (most recent call last)",
      "\u001b[1;32m<ipython-input-14-b00d207e3d93>\u001b[0m in \u001b[0;36m<module>\u001b[1;34m()\u001b[0m\n\u001b[0;32m      7\u001b[0m \u001b[1;32mif\u001b[0m \u001b[0m__name__\u001b[0m\u001b[1;33m==\u001b[0m\u001b[1;34m'__main__'\u001b[0m\u001b[1;33m:\u001b[0m\u001b[1;33m\u001b[0m\u001b[0m\n\u001b[0;32m      8\u001b[0m     \u001b[0mc\u001b[0m\u001b[1;33m=\u001b[0m\u001b[0mC\u001b[0m\u001b[1;33m(\u001b[0m\u001b[1;33m)\u001b[0m\u001b[1;33m\u001b[0m\u001b[0m\n\u001b[1;32m----> 9\u001b[1;33m     \u001b[0mprint\u001b[0m\u001b[1;33m(\u001b[0m\u001b[0mc\u001b[0m\u001b[1;33m.\u001b[0m\u001b[0mgetName\u001b[0m\u001b[1;33m(\u001b[0m\u001b[1;33m)\u001b[0m\u001b[1;33m)\u001b[0m\u001b[1;33m\u001b[0m\u001b[0m\n\u001b[0m",
      "\u001b[1;32m<ipython-input-14-b00d207e3d93>\u001b[0m in \u001b[0;36mgetName\u001b[1;34m(self)\u001b[0m\n\u001b[0;32m      3\u001b[0m         \u001b[1;32mpass\u001b[0m\u001b[1;33m\u001b[0m\u001b[0m\n\u001b[0;32m      4\u001b[0m     \u001b[1;32mdef\u001b[0m \u001b[0mgetName\u001b[0m\u001b[1;33m(\u001b[0m\u001b[0mself\u001b[0m\u001b[1;33m)\u001b[0m\u001b[1;33m:\u001b[0m\u001b[1;33m\u001b[0m\u001b[0m\n\u001b[1;32m----> 5\u001b[1;33m         \u001b[1;32mreturn\u001b[0m \u001b[1;34m'C'\u001b[0m\u001b[1;33m+\u001b[0m\u001b[0mself\u001b[0m\u001b[1;33m.\u001b[0m\u001b[0mname\u001b[0m\u001b[1;33m\u001b[0m\u001b[0m\n\u001b[0m\u001b[0;32m      6\u001b[0m \u001b[1;33m\u001b[0m\u001b[0m\n\u001b[0;32m      7\u001b[0m \u001b[1;32mif\u001b[0m \u001b[0m__name__\u001b[0m\u001b[1;33m==\u001b[0m\u001b[1;34m'__main__'\u001b[0m\u001b[1;33m:\u001b[0m\u001b[1;33m\u001b[0m\u001b[0m\n",
      "\u001b[1;31mAttributeError\u001b[0m: 'C' object has no attribute 'name'"
     ]
    }
   ],
   "source": [
    "class C(A):\n",
    "    def __init__(self):\n",
    "        pass\n",
    "    def getName(self):\n",
    "        return 'C'+self.name\n",
    "    \n",
    "if __name__=='__main__':\n",
    "    c=C()\n",
    "    print(c.getName())"
   ]
  },
  {
   "cell_type": "markdown",
   "metadata": {},
   "source": [
    "### 所以如果重写了__init__，为了能使用或扩展超类中的行为，最好显式地调用超类的__init__方法"
   ]
  },
  {
   "cell_type": "code",
   "execution_count": 18,
   "metadata": {},
   "outputs": [
    {
     "name": "stdout",
     "output_type": "stream",
     "text": [
      "C hello\n"
     ]
    }
   ],
   "source": [
    "class C(A):\n",
    "    def __init__(self,name):\n",
    "        super(C,self).__init__(name)  #super(C,self) 逗号\n",
    "    def getName(self):\n",
    "        return 'C '+self.name\n",
    "    \n",
    "if __name__=='__main__':\n",
    "    c=C('hello')\n",
    "    print(c.getName())"
   ]
  },
  {
   "cell_type": "markdown",
   "metadata": {},
   "source": [
    "# \\__init\\__、\\__new\\__、\\__call\\__"
   ]
  },
  {
   "cell_type": "markdown",
   "metadata": {},
   "source": [
    " \\__new\\__(cls,*args,**kwargs) 创建对象时调用，返回当前对象的一个实例：注意：这里的第一个参数是cls，即class本身"
   ]
  },
  {
   "cell_type": "markdown",
   "metadata": {},
   "source": [
    " \\__init\\__(self,*args,**kwargs) 创建完对象后调用，对当前对象的实例的一些初始化，无返回值，即在调用__new__之后，根据返回的实例初始化；注意，质量的第一个参数是self即对象本身【注意和new的区别】"
   ]
  },
  {
   "cell_type": "markdown",
   "metadata": {},
   "source": [
    " \\__call\\__(self,*args,**kwargs) 如果类实现了这个方法，相当于把这个类型的对象当作函数来使用，相当于重载了括号运算符"
   ]
  },
  {
   "cell_type": "code",
   "execution_count": 29,
   "metadata": {},
   "outputs": [
    {
     "name": "stdout",
     "output_type": "stream",
     "text": [
      "New <class '__main__.O'>\n",
      "init\n",
      "--------\n",
      "call\n"
     ]
    }
   ],
   "source": [
    "class O(object):\n",
    "    def __init__(self,*args,**kwargs):\n",
    "        print('init')\n",
    "        super(O,self).__init__(*args,**kwargs)\n",
    "    def __new__(cls,*args,**kwargs):\n",
    "        print('New',cls)\n",
    "        return super(O,cls).__new__(cls,*args,**kwargs)\n",
    "    def __call__(self,*args,**kwargs):\n",
    "        print('call')\n",
    "        \n",
    "oo=O()\n",
    "print(\"--------\")\n",
    "oo(None)"
   ]
  },
  {
   "cell_type": "markdown",
   "metadata": {},
   "source": [
    "### Python 中\\__ new\\__ 与\\__init\\__方法的区别详解"
   ]
  },
  {
   "cell_type": "markdown",
   "metadata": {},
   "source": [
    "Python 3 中默认都是新式类(object类默认是所有类的祖先)\n",
    "不必显式地继承object"
   ]
  },
  {
   "cell_type": "code",
   "execution_count": 31,
   "metadata": {},
   "outputs": [
    {
     "name": "stdout",
     "output_type": "stream",
     "text": [
      "['__class__', '__delattr__', '__dict__', '__dir__', '__doc__', '__eq__', '__format__', '__ge__', '__getattribute__', '__gt__', '__hash__', '__init__', '__init_subclass__', '__le__', '__lt__', '__module__', '__ne__', '__new__', '__reduce__', '__reduce_ex__', '__repr__', '__setattr__', '__sizeof__', '__str__', '__subclasshook__', '__weakref__']\n"
     ]
    }
   ],
   "source": [
    "class A():\n",
    "    pass\n",
    "    print(dir(A))\n",
    "    \n",
    "# python3中有__new__方法"
   ]
  },
  {
   "cell_type": "markdown",
   "metadata": {},
   "source": [
    "\\__new\\__方法和\\__init\\__的区别"
   ]
  },
  {
   "cell_type": "markdown",
   "metadata": {},
   "source": [
    "该类具有\\__new\\__ 方法，会先调用\\__new\\__ 方法，\\__new\\__ 方法接受正在实例化的类作为第一个参数，其返回值是本次创建产生的实例，也就是我们熟知的\\__init\\__ 方法中的第一个参数self"
   ]
  },
  {
   "cell_type": "markdown",
   "metadata": {},
   "source": [
    "有\\__new\\__的方法都是object类的后代，因此如果我们自己想要改写\\__new\\__ 方法（注意不改写时在创建实例的时候使用的是父类的\\__new\\__ 方法，如果父类没有则继续上溯）可以通过调用object的\\__new\\__ 方法类得到这个实例"
   ]
  },
  {
   "cell_type": "code",
   "execution_count": 32,
   "metadata": {},
   "outputs": [
    {
     "name": "stdout",
     "output_type": "stream",
     "text": [
      "new\n",
      "<class 'type'>\n",
      "init\n"
     ]
    }
   ],
   "source": [
    "class display(object):\n",
    "    def __init__(self,*args,**kwargs):\n",
    "        print('init')\n",
    "    def __new__(cls,*args,**kwargs):\n",
    "        print('new')\n",
    "        print(type(cls))\n",
    "        return object.__new__(cls,*args,**kwargs)\n",
    "    \n",
    "a=display()"
   ]
  },
  {
   "cell_type": "markdown",
   "metadata": {},
   "source": [
    "实际创建过程中\\__new\\__ 方法先于 \\__init\\__方法被调用，它的第一个参数类型为type  \n",
    "如果不需要其他特殊处理，可以使用object的\\__new\\__方法来得到创建的实例  \n",
    "实际上可以使用其他类的\\__new\\__ 方法类得到这个实例，只要那个类或其父类或祖先有\\__new\\__方法"
   ]
  },
  {
   "cell_type": "code",
   "execution_count": 33,
   "metadata": {},
   "outputs": [
    {
     "name": "stdout",
     "output_type": "stream",
     "text": [
      "new_display\n",
      "<class 'type'>\n",
      "new_another\n",
      "init\n"
     ]
    }
   ],
   "source": [
    "class another(object):\n",
    "    def __new__(cls,*args,**kwargs):\n",
    "        print('new_another')\n",
    "        return object.__new__(cls,*args,**kwargs)\n",
    "class display(object):\n",
    "    def __init__(self,*args,**kwargs):\n",
    "        print('init')\n",
    "    def __new__(cls,*args,**kwargs):\n",
    "        print('new_display')\n",
    "        print(type(cls))\n",
    "        return another.__new__(cls,*args,**kwargs)\n",
    "a=display()\n",
    "\n"
   ]
  },
  {
   "cell_type": "markdown",
   "metadata": {},
   "source": [
    "\\__new\\__ 和 \\__init\\__就像这么一个关系，\\__init\\__提供生产原料self(但并不保证这个来源正宗，像上面那样它用的是另一个不相关的类的__new__方法类得到这个实例)，而\\__init\\__就用\\__new\\__给这个原料完善这个对象(尽管不知道这些原料是不是正宗的)"
   ]
  },
  {
   "cell_type": "markdown",
   "metadata": {},
   "source": [
    "http://www.jb51.net/article/65300.htm"
   ]
  },
  {
   "cell_type": "markdown",
   "metadata": {},
   "source": [
    "## 详解\\__init()\\__方法"
   ]
  },
  {
   "cell_type": "code",
   "execution_count": 42,
   "metadata": {},
   "outputs": [
    {
     "name": "stdout",
     "output_type": "stream",
     "text": [
      "<class 'type'>\n",
      "<class 'object'>\n"
     ]
    }
   ],
   "source": [
    "class X:\n",
    "    pass\n",
    "\n",
    "print(X.__class__)\n",
    "print(X.__class__.__base__)"
   ]
  },
  {
   "cell_type": "code",
   "execution_count": 47,
   "metadata": {},
   "outputs": [
    {
     "data": {
      "text/plain": [
       "104"
      ]
     },
     "execution_count": 47,
     "metadata": {},
     "output_type": "execute_result"
    }
   ],
   "source": [
    "class Rectangle:\n",
    "    def area(self):\n",
    "        return self.length * self.width\n",
    "    \n",
    "# Rectangle类有一个使用两个属性来返回一个值的方法，这些属性没有初始化。\n",
    "# 这是合格的python代码。他可以有效的避免专门设置属性\n",
    "r=Rectangle()\n",
    "r.length,r.width=13,8\n",
    "r.area()\n",
    "\n"
   ]
  },
  {
   "cell_type": "markdown",
   "metadata": {},
   "source": [
    "## 显式比隐式更好\n",
    "一个\\__init\\__()方法应该让实例变量显式"
   ]
  },
  {
   "cell_type": "code",
   "execution_count": 48,
   "metadata": {
    "collapsed": true
   },
   "outputs": [],
   "source": [
    "class Card:\n",
    "    def __init__(self,rank,suit):\n",
    "        self.suit=suit\n",
    "        self.rank=rank\n",
    "        self.hard,self.soft=self._points()\n",
    "class NumberCard(Card):\n",
    "    def _points(self):\n",
    "        return int(self.rank),int(self.rank)\n",
    "    \n",
    "class AceCard(Card):\n",
    "    def _points(self):\n",
    "        return 1,11\n",
    "class FaceCard(Card):\n",
    "    def _points(self):\n",
    "        return 10,10\n",
    "#在这个示例中，我们提取__init()方法到超类，\n",
    "#这样在Card超类中的通用初始化可以适用于三个子类NumberCard、AceCard和FacrCard\n",
    "#这是一种 多态设计，每一个子类都提供一个唯一的_points()方法实现，\n",
    "#所有子类都有相同的签名，有相同的方法和属性。这三个子类的对象可以在一个应用程序只中\n",
    "#交替使用"
   ]
  },
  {
   "cell_type": "markdown",
   "metadata": {},
   "source": [
    "##   \\__str\\__"
   ]
  },
  {
   "cell_type": "markdown",
   "metadata": {},
   "source": [
    "如果要把一个类的实例变成str，急需要实现特殊方法\\__str\\__():\n",
    "\n"
   ]
  },
  {
   "cell_type": "code",
   "execution_count": 54,
   "metadata": {},
   "outputs": [
    {
     "name": "stdout",
     "output_type": "stream",
     "text": [
      "(person:Bob,male)\n"
     ]
    },
    {
     "data": {
      "text/plain": [
       "<__main__.Person at 0x257ffdb4a90>"
      ]
     },
     "execution_count": 54,
     "metadata": {},
     "output_type": "execute_result"
    }
   ],
   "source": [
    "class Person(object):\n",
    "    def __init__(self,name,gender):\n",
    "        self.name = name\n",
    "        self.gender=gender \n",
    "    def __str__(self):\n",
    "        return '(person:%s,%s)'%(self.name,self.gender)\n",
    "    \n",
    "p=Person('Bob','male')\n",
    "print(p)\n",
    "p #直接敲p __str__()不会被调用"
   ]
  },
  {
   "cell_type": "markdown",
   "metadata": {},
   "source": [
    "Python 定义了 \\__str\\__() 和\\__repr\\__()两种方法，\\__str\\__()用于显示给用户，\\__repr\\__()用于显示给开发人员"
   ]
  },
  {
   "cell_type": "code",
   "execution_count": 55,
   "metadata": {
    "collapsed": true
   },
   "outputs": [],
   "source": [
    "class Person(object):\n",
    "    def __init__(self,name,gender):\n",
    "        self.name=name\n",
    "        self.gender=gender\n",
    "    def __str__(self):\n",
    "        return '(Person:%s,%s)'%(self.name,self.gender)\n",
    "    __repr__ = __str__"
   ]
  },
  {
   "cell_type": "markdown",
   "metadata": {},
   "source": [
    "task:请给Student类定义\\__str\\__和\\__repr\\__方法，使得能打印出\n",
    "Student:name,gender,score"
   ]
  },
  {
   "cell_type": "code",
   "execution_count": 56,
   "metadata": {
    "collapsed": true
   },
   "outputs": [],
   "source": [
    "class Student(Person):\n",
    "    def __init__(self,name,gender,score):\n",
    "        super(Student,self).__init__(name,gender)\n",
    "        self.score=score"
   ]
  },
  {
   "cell_type": "code",
   "execution_count": 57,
   "metadata": {},
   "outputs": [
    {
     "data": {
      "text/plain": [
       "(Student:Bob,male,88)"
      ]
     },
     "execution_count": 57,
     "metadata": {},
     "output_type": "execute_result"
    }
   ],
   "source": [
    "class Person(object):\n",
    "    def __init__(self,name,gender):\n",
    "        self.name = name\n",
    "        self.gender = gender\n",
    "        \n",
    "class Student(Person):\n",
    "    def __init__(self,name,gender,score):\n",
    "        super(Student,self).__init__(name,gender)\n",
    "        self.score=score\n",
    "    def __str__(self):\n",
    "        return '(Student:%s,%s,%s)'%(self.name,self.gender,self.score)\n",
    "    __repr__=__str__\n",
    "    \n",
    "s=Student('Bob','male',88)\n",
    "s"
   ]
  },
  {
   "cell_type": "markdown",
   "metadata": {},
   "source": [
    "## Name_mangling\n"
   ]
  },
  {
   "cell_type": "markdown",
   "metadata": {},
   "source": [
    "name mangling (又叫name decoration命名修饰).  \n",
    "在很多现代编程语言中,这一技术用来解决需要唯一名称而引起的问题,比如命名冲突/重载等.  \n",
    "\n",
    "在python中,双下划线开头的类变量就用到了name mangling技术,会自动加上类名前缀.  \n",
    "\n",
    "有什么用呢?可以防止意外在子类或者类外面被修改到.  \n",
    "虽然单下划线开头的变量也有private的意味,但是更多的只是个约定,可以直接访问到.而双下划线开头的变量更彻底."
   ]
  },
  {
   "cell_type": "code",
   "execution_count": 59,
   "metadata": {},
   "outputs": [
    {
     "name": "stdout",
     "output_type": "stream",
     "text": [
      "{'_A__foo': 'foo', '_bar': 'bar'}\n",
      "bar\n"
     ]
    },
    {
     "ename": "AttributeError",
     "evalue": "'A' object has no attribute '__foo'",
     "output_type": "error",
     "traceback": [
      "\u001b[1;31m---------------------------------------------------------------------------\u001b[0m",
      "\u001b[1;31mAttributeError\u001b[0m                            Traceback (most recent call last)",
      "\u001b[1;32m<ipython-input-59-98a042fa25a0>\u001b[0m in \u001b[0;36m<module>\u001b[1;34m()\u001b[0m\n\u001b[0;32m      6\u001b[0m \u001b[0mprint\u001b[0m\u001b[1;33m(\u001b[0m\u001b[0ma\u001b[0m\u001b[1;33m.\u001b[0m\u001b[0m__dict__\u001b[0m\u001b[1;33m)\u001b[0m\u001b[1;33m\u001b[0m\u001b[0m\n\u001b[0;32m      7\u001b[0m \u001b[0mprint\u001b[0m\u001b[1;33m(\u001b[0m\u001b[0ma\u001b[0m\u001b[1;33m.\u001b[0m\u001b[0m_bar\u001b[0m\u001b[1;33m)\u001b[0m\u001b[1;33m\u001b[0m\u001b[0m\n\u001b[1;32m----> 8\u001b[1;33m \u001b[0mprint\u001b[0m\u001b[1;33m(\u001b[0m\u001b[0ma\u001b[0m\u001b[1;33m.\u001b[0m\u001b[0m__foo\u001b[0m\u001b[1;33m)\u001b[0m\u001b[1;33m\u001b[0m\u001b[0m\n\u001b[0m",
      "\u001b[1;31mAttributeError\u001b[0m: 'A' object has no attribute '__foo'"
     ]
    }
   ],
   "source": [
    "class A:\n",
    "    def __init__(self):\n",
    "        self.__foo='foo'\n",
    "        self._bar='bar'\n",
    "a=A()\n",
    "print(a.__dict__)\n",
    "print(a._bar)\n",
    "print(a.__foo) #这句报错"
   ]
  },
  {
   "cell_type": "markdown",
   "metadata": {},
   "source": [
    "print a.\\__dict\\__输出{'_A__foo': 'foo', '_bar': 'bar'}\n",
    "可以看到，__foo 加上类名前缀变成了_A_foo"
   ]
  },
  {
   "cell_type": "markdown",
   "metadata": {},
   "source": [
    "_xxx:表示内部使用，不能被from M import * 导入  \n",
    "\n",
    "xxx_:表示避免和关键字冲突如Tkinter.Toplevel(master,class_='ClassName')  \n",
    "\n",
    "__xxx:更彻底的private.用到了name mangling技术,会自动加上类名前缀.不能被子类和类外访问.  \n",
    "\n",
    "\\__xxx\\__:魔术方法或用户控制的命名空间."
   ]
  },
  {
   "cell_type": "markdown",
   "metadata": {},
   "source": [
    "## \\__str\\__ 和 \\__repr\\__的区别"
   ]
  },
  {
   "cell_type": "markdown",
   "metadata": {},
   "source": [
    "\\__str\\__ 的目标是可读性  \n",
    "\\__repr\\__ 的目标是准确性  \n",
    "容器的\\__str\\__使用包含了对象的\\__repr\\__  \n",
    "\n",
    "如果定义了\\__repr\\__,但没有定义\\__str\\__,对象将表现为\\__str\\__=\\__repr\\__"
   ]
  },
  {
   "cell_type": "markdown",
   "metadata": {
    "collapsed": true
   },
   "source": [
    "## 自定义异常  \n",
    "一旦使用了 raise 之后的语句就不会再执行了，因为这里抛出了一个异常"
   ]
  },
  {
   "cell_type": "code",
   "execution_count": 64,
   "metadata": {},
   "outputs": [
    {
     "name": "stdout",
     "output_type": "stream",
     "text": [
      "Before raise\n",
      "printError\n"
     ]
    }
   ],
   "source": [
    "class printException(Exception):\n",
    "    pass\n",
    "\n",
    "def testRaise():\n",
    "    raise printException('printError')\n",
    "\n",
    "try:\n",
    "    print('Before raise')\n",
    "    testRaise()\n",
    "    print('After raise')\n",
    "except printException as e:\n",
    "    print(e)\n"
   ]
  },
  {
   "cell_type": "markdown",
   "metadata": {},
   "source": [
    "上面例子不足的一点就是每一次raise的时候我们都需要写异常说明，也就是printERR这个字符串，接下来稍微做点改进"
   ]
  },
  {
   "cell_type": "code",
   "execution_count": 66,
   "metadata": {},
   "outputs": [
    {
     "name": "stdout",
     "output_type": "stream",
     "text": [
      "数据库错误\n"
     ]
    }
   ],
   "source": [
    "class DatabaseException(Exception):\n",
    "    def __init__(self,err='数据库错误'):\n",
    "        Exception.__init__(self,err)\n",
    "class PreconditionException(DatabaseException):\n",
    "    def __init__(self,err='PreconditionsErr'):\n",
    "        DatabaseException.__init__(self,err)\n",
    "        \n",
    "#新定义两个异常类，各有自己的初始代码，并有一个默认的错误说明，这样raise的时候就不需要自己再输入错误说明了\n",
    "\n",
    "def testRaise():\n",
    "    raise DatabaseException()\n",
    "    \n",
    "try:\n",
    "    testRaise()\n",
    "except DatabaseException as e:\n",
    "    print(e)"
   ]
  },
  {
   "cell_type": "markdown",
   "metadata": {},
   "source": [
    "如果你不确定抛出来的异常是什么，那么就except Exception，因为这是所有异常的基类，因此，这样写可以捕获到所有的异常类，上面的例，如果改成  \n",
    "except PreconditionsException as e  \n",
    "那么程序是不会捕获到异常的，因为此刻，抛出是PreconditionException的基类，此处无法捕获，程序终止  "
   ]
  },
  {
   "cell_type": "code",
   "execution_count": 71,
   "metadata": {},
   "outputs": [
    {
     "ename": "DatabaseException",
     "evalue": "数据库错误",
     "output_type": "error",
     "traceback": [
      "\u001b[1;31m---------------------------------------------------------------------------\u001b[0m",
      "\u001b[1;31mDatabaseException\u001b[0m                         Traceback (most recent call last)",
      "\u001b[1;32m<ipython-input-71-ed48513ab7d8>\u001b[0m in \u001b[0;36m<module>\u001b[1;34m()\u001b[0m\n\u001b[0;32m     12\u001b[0m \u001b[1;33m\u001b[0m\u001b[0m\n\u001b[0;32m     13\u001b[0m \u001b[1;32mtry\u001b[0m\u001b[1;33m:\u001b[0m\u001b[1;33m\u001b[0m\u001b[0m\n\u001b[1;32m---> 14\u001b[1;33m     \u001b[0mtestRaise\u001b[0m\u001b[1;33m(\u001b[0m\u001b[1;33m)\u001b[0m\u001b[1;33m\u001b[0m\u001b[0m\n\u001b[0m\u001b[0;32m     15\u001b[0m \u001b[1;32mexcept\u001b[0m \u001b[0mPreconditionException\u001b[0m \u001b[1;32mas\u001b[0m \u001b[0me\u001b[0m\u001b[1;33m:\u001b[0m\u001b[1;33m\u001b[0m\u001b[0m\n\u001b[0;32m     16\u001b[0m     \u001b[0mprint\u001b[0m\u001b[1;33m(\u001b[0m\u001b[0me\u001b[0m\u001b[1;33m)\u001b[0m\u001b[1;33m\u001b[0m\u001b[0m\n",
      "\u001b[1;32m<ipython-input-71-ed48513ab7d8>\u001b[0m in \u001b[0;36mtestRaise\u001b[1;34m()\u001b[0m\n\u001b[0;32m      9\u001b[0m \u001b[1;33m\u001b[0m\u001b[0m\n\u001b[0;32m     10\u001b[0m \u001b[1;32mdef\u001b[0m \u001b[0mtestRaise\u001b[0m\u001b[1;33m(\u001b[0m\u001b[1;33m)\u001b[0m\u001b[1;33m:\u001b[0m\u001b[1;33m\u001b[0m\u001b[0m\n\u001b[1;32m---> 11\u001b[1;33m     \u001b[1;32mraise\u001b[0m \u001b[0mDatabaseException\u001b[0m\u001b[1;33m(\u001b[0m\u001b[1;33m)\u001b[0m\u001b[1;33m\u001b[0m\u001b[0m\n\u001b[0m\u001b[0;32m     12\u001b[0m \u001b[1;33m\u001b[0m\u001b[0m\n\u001b[0;32m     13\u001b[0m \u001b[1;32mtry\u001b[0m\u001b[1;33m:\u001b[0m\u001b[1;33m\u001b[0m\u001b[0m\n",
      "\u001b[1;31mDatabaseException\u001b[0m: 数据库错误"
     ]
    }
   ],
   "source": [
    "class DatabaseException(Exception):\n",
    "    def __init__(self,err='数据库错误'):\n",
    "        Exception.__init__(self,err)\n",
    "class PreconditionException(DatabaseException):\n",
    "    def __init__(self,err='PreconditionsErr'):\n",
    "        DatabaseException.__init__(self,err)\n",
    "        \n",
    "#新定义两个异常类，各有自己的初始代码，并有一个默认的错误说明，这样raise的时候就不需要自己再输入错误说明了\n",
    "\n",
    "def testRaise():\n",
    "    raise DatabaseException()\n",
    "    \n",
    "try:\n",
    "    testRaise()\n",
    "except PreconditionException as e:\n",
    "    print(e)\n",
    "    \n"
   ]
  },
  {
   "cell_type": "markdown",
   "metadata": {},
   "source": [
    "## 自定义异常2"
   ]
  },
  {
   "cell_type": "code",
   "execution_count": 73,
   "metadata": {},
   "outputs": [
    {
     "name": "stdout",
     "output_type": "stream",
     "text": [
      "My exception occurred,value: 4\n"
     ]
    },
    {
     "ename": "MyError",
     "evalue": "'oops'",
     "output_type": "error",
     "traceback": [
      "\u001b[1;31m---------------------------------------------------------------------------\u001b[0m",
      "\u001b[1;31mMyError\u001b[0m                                   Traceback (most recent call last)",
      "\u001b[1;32m<ipython-input-73-fa94ddfef6f4>\u001b[0m in \u001b[0;36m<module>\u001b[1;34m()\u001b[0m\n\u001b[0;32m     10\u001b[0m     \u001b[0mprint\u001b[0m\u001b[1;33m(\u001b[0m\u001b[1;34m'My exception occurred,value:'\u001b[0m \u001b[1;33m,\u001b[0m\u001b[0me\u001b[0m\u001b[1;33m.\u001b[0m\u001b[0mvalue\u001b[0m\u001b[1;33m)\u001b[0m\u001b[1;33m\u001b[0m\u001b[0m\n\u001b[0;32m     11\u001b[0m \u001b[1;33m\u001b[0m\u001b[0m\n\u001b[1;32m---> 12\u001b[1;33m \u001b[1;32mraise\u001b[0m \u001b[0mMyError\u001b[0m\u001b[1;33m(\u001b[0m\u001b[1;34m'oops'\u001b[0m\u001b[1;33m)\u001b[0m\u001b[1;33m\u001b[0m\u001b[0m\n\u001b[0m",
      "\u001b[1;31mMyError\u001b[0m: 'oops'"
     ]
    }
   ],
   "source": [
    "class MyError(Exception):\n",
    "    def __init__(self,value):\n",
    "        self.value=value\n",
    "    def __str__(self):\n",
    "        return repr(self.value)\n",
    "    \n",
    "try:\n",
    "    raise MyError(2*2)\n",
    "except MyError as e:\n",
    "    print('My exception occurred,value:' ,e.value)\n",
    "    \n",
    "raise MyError('oops')"
   ]
  },
  {
   "cell_type": "markdown",
   "metadata": {},
   "source": [
    "## 异常捕获"
   ]
  },
  {
   "cell_type": "code",
   "execution_count": null,
   "metadata": {
    "collapsed": true
   },
   "outputs": [],
   "source": [
    "try:\n",
    "    if True:\n",
    "        raise Exception('try') #自定义报错信息，raise后面语句不会被执行，控制流跳异常捕获\n",
    "except (Exception1,exception2,....) as e:#可以带多个异常\n",
    "    print('except')\n",
    "else:  #可选\n",
    "    print('else')\n",
    "finally:# 可选\n",
    "    print('finally')"
   ]
  }
 ],
 "metadata": {
  "kernelspec": {
   "display_name": "Python 3",
   "language": "python",
   "name": "python3"
  },
  "language_info": {
   "codemirror_mode": {
    "name": "ipython",
    "version": 3
   },
   "file_extension": ".py",
   "mimetype": "text/x-python",
   "name": "python",
   "nbconvert_exporter": "python",
   "pygments_lexer": "ipython3",
   "version": "3.6.1"
  }
 },
 "nbformat": 4,
 "nbformat_minor": 2
}
