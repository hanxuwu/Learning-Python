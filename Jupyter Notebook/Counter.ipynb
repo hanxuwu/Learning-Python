{
 "cells": [
  {
   "cell_type": "markdown",
   "metadata": {},
   "source": [
    "# 统计"
   ]
  },
  {
   "cell_type": "markdown",
   "metadata": {},
   "source": [
    "## 1.使用dict()"
   ]
  },
  {
   "cell_type": "code",
   "execution_count": 1,
   "metadata": {},
   "outputs": [
    {
     "data": {
      "text/plain": [
       "{'a': 3, '2': 2, 2: 1, 4: 2, 5: 2, 'b': 1, 7: 1, 'd': 1, 'z': 1}"
      ]
     },
     "execution_count": 1,
     "metadata": {},
     "output_type": "execute_result"
    }
   ],
   "source": [
    "data = ['a','2',2,4,5,'2','b',4,7,'a',5,'d','a','z']\n",
    "count_frq = dict()\n",
    "for one in data:\n",
    "    if one in count_frq:\n",
    "        count_frq[one]+=1\n",
    "    else:\n",
    "        count_frq[one]=1\n",
    "        \n",
    "count_frq"
   ]
  },
  {
   "cell_type": "markdown",
   "metadata": {},
   "source": [
    "## 2. 使用set 和list"
   ]
  },
  {
   "cell_type": "code",
   "execution_count": 2,
   "metadata": {},
   "outputs": [
    {
     "data": {
      "text/plain": [
       "[(2, 1),\n",
       " ('2', 2),\n",
       " (5, 2),\n",
       " (4, 2),\n",
       " ('b', 1),\n",
       " (7, 1),\n",
       " ('d', 1),\n",
       " ('z', 1),\n",
       " ('a', 3)]"
      ]
     },
     "execution_count": 2,
     "metadata": {},
     "output_type": "execute_result"
    }
   ],
   "source": [
    "data = ['a','2',2,4,5,'2','b',4,7,'a',5,'d','a','z']\n",
    "data_set=set(data)\n",
    "count_list=[]\n",
    "for one in data_set:\n",
    "    count_list.append((one,data.count(one)))\n",
    "    \n",
    "count_list"
   ]
  },
  {
   "cell_type": "markdown",
   "metadata": {},
   "source": [
    "## 3.使用Counter类"
   ]
  },
  {
   "cell_type": "code",
   "execution_count": 3,
   "metadata": {},
   "outputs": [
    {
     "name": "stdout",
     "output_type": "stream",
     "text": [
      "Counter({'l': 3, 'o': 2, 'h': 1, 'e': 1, ' ': 1, 'w': 1, 'r': 1, 'd': 1})\n",
      "Counter({'l': 3, 'o': 2, 'h': 1})\n",
      "Counter({'l': 3, 'o': 2, 'h': 1})\n",
      "Counter()\n"
     ]
    }
   ],
   "source": [
    "from collections import Counter\n",
    "\n",
    "c=Counter('hello world') #可迭代对象创建\n",
    "print(c)\n",
    "c=Counter(h=1,l=3,o=2) #关键字创建\n",
    "print(c)\n",
    "c=Counter({'h':1,'l':3,'o':2}) #字典创建\n",
    "print(c)\n",
    "c=Counter() # 空 Counter类\n",
    "print(c)\n",
    "\n",
    "\n",
    "\n",
    "\n"
   ]
  },
  {
   "cell_type": "markdown",
   "metadata": {},
   "source": [
    "element() 返回一个迭代器。元素被重复了多少次，在该迭代器就包含多少个元素。所有元素按照字典序排序，个数小于去的元素不被包含。\n",
    "\n"
   ]
  },
  {
   "cell_type": "code",
   "execution_count": 4,
   "metadata": {},
   "outputs": [
    {
     "data": {
      "text/plain": [
       "Counter({'a': 3, '2': 2, 2: 1, 4: 2, 5: 2, 'b': 1, 7: 1, 'd': 1, 'z': 1})"
      ]
     },
     "execution_count": 4,
     "metadata": {},
     "output_type": "execute_result"
    }
   ],
   "source": [
    "from collections import Counter\n",
    "data = ['a','2',2,4,5,'2','b',4,7,'a',5,'d','a','z']\n",
    "c=Counter(data)\n",
    "c"
   ]
  },
  {
   "cell_type": "code",
   "execution_count": 5,
   "metadata": {},
   "outputs": [
    {
     "name": "stdout",
     "output_type": "stream",
     "text": [
      "<itertools.chain object at 0x000002A7D4059780>\n",
      "['a', 'a', 'a', '2', '2', 2, 4, 4, 5, 5, 'b', 7, 'd', 'z']\n"
     ]
    }
   ],
   "source": [
    "print(c.elements())\n",
    "print(list(c.elements()))"
   ]
  },
  {
   "cell_type": "code",
   "execution_count": 6,
   "metadata": {},
   "outputs": [
    {
     "name": "stdout",
     "output_type": "stream",
     "text": [
      "Counter({'a': 3, '2': 2, 4: 2, 5: 2, 2: 1, 'b': 1, 7: 1, 'd': 1, 'z': 0})\n"
     ]
    }
   ],
   "source": [
    "c['z']-=1\n",
    "print(c)"
   ]
  },
  {
   "cell_type": "code",
   "execution_count": 9,
   "metadata": {},
   "outputs": [
    {
     "name": "stdout",
     "output_type": "stream",
     "text": [
      "<itertools.chain object at 0x000002A7D4059240>\n"
     ]
    },
    {
     "data": {
      "text/plain": [
       "['a', 'a', 'a', '2', '2', 2, 4, 4, 5, 5, 'b', 7, 'd']"
      ]
     },
     "execution_count": 9,
     "metadata": {},
     "output_type": "execute_result"
    }
   ],
   "source": [
    "print (c.elements())\n",
    "list(c.elements())"
   ]
  },
  {
   "cell_type": "code",
   "execution_count": 11,
   "metadata": {},
   "outputs": [
    {
     "name": "stdout",
     "output_type": "stream",
     "text": [
      "Counter({'a': 7, '2': 2, 4: 2, 5: 2, 2: 1, 'b': 1, 7: 1, 'd': 1, 'z': 0})\n"
     ]
    }
   ],
   "source": [
    "c.update('aaaa')\n",
    "print(c)"
   ]
  },
  {
   "cell_type": "code",
   "execution_count": 12,
   "metadata": {},
   "outputs": [
    {
     "name": "stdout",
     "output_type": "stream",
     "text": [
      "Counter({'a': 5, '2': 2, 4: 2, 5: 2, 2: 1, 'b': 1, 7: 1, 'd': 1, 'z': 0})\n"
     ]
    }
   ],
   "source": [
    "c.subtract('aa')\n",
    "print(c)"
   ]
  },
  {
   "cell_type": "markdown",
   "metadata": {},
   "source": [
    "算术和集合操作\n"
   ]
  },
  {
   "cell_type": "code",
   "execution_count": 18,
   "metadata": {},
   "outputs": [
    {
     "name": "stdout",
     "output_type": "stream",
     "text": [
      "Counter({'a': 3, '2': 2, 'b': 1, 'd': 1})\n",
      "Counter({'b': 2, 'a': 1})\n",
      "Counter({'a': 4, 'b': 3, '2': 2, 'd': 1})\n",
      "Counter({'a': 2, '2': 2, 'd': 1})\n",
      "Counter({'a': 1, 'b': 1})\n",
      "Counter({'a': 3, '2': 2, 'b': 2, 'd': 1})\n"
     ]
    }
   ],
   "source": [
    "from collections import Counter\n",
    "data = ['a','2','2','b','a','d','a']\n",
    "c= Counter(data)\n",
    "b = Counter(a=1,b=2)\n",
    "print(c)\n",
    "print(b)\n",
    "print(b+c)\n",
    "print(c-b)\n",
    "print(c&b)\n",
    "print(c|b)"
   ]
  },
  {
   "cell_type": "markdown",
   "metadata": {},
   "source": [
    "Counter 类返回值跟字典很类似，所以字典类方法对counter对象也适用"
   ]
  },
  {
   "cell_type": "code",
   "execution_count": 31,
   "metadata": {},
   "outputs": [
    {
     "name": "stdout",
     "output_type": "stream",
     "text": [
      "Counter({'a': 3, '2': 2, 4: 2, 5: 2, 2: 1, 'b': 1, 7: 1, 'd': 1, 'z': 1})\n",
      "dict_keys(['a', '2', 2, 4, 5, 'b', 7, 'd', 'z'])\n",
      "3\n",
      "dict_items([('a', 3), ('2', 2), (2, 1), (4, 2), (5, 2), ('b', 1), (7, 1), ('d', 1), ('z', 1)])\n",
      "dict_values([3, 2, 1, 2, 2, 1, 1, 1, 1])\n"
     ]
    }
   ],
   "source": [
    "from collections import Counter\n",
    "data = ['a','2',2,4,5,'2','b',4,7,'a',5,'d','a','z']\n",
    "c=Counter(data)\n",
    "print(c)\n",
    "print(c.keys())\n",
    "print(c.get('a'))\n",
    "print(c.items())\n",
    "print(c.values())\n",
    "\n"
   ]
  },
  {
   "cell_type": "markdown",
   "metadata": {},
   "source": [
    "##  collections 中的其他类\n"
   ]
  },
  {
   "cell_type": "markdown",
   "metadata": {},
   "source": [
    "### 1.deque"
   ]
  },
  {
   "cell_type": "code",
   "execution_count": 40,
   "metadata": {},
   "outputs": [
    {
     "name": "stdout",
     "output_type": "stream",
     "text": [
      "deque(['a', 'b', 'c', 'd'])\n",
      "deque(['z', 'a', 'b', 'c', 'd'])\n",
      "1\n",
      "deque(['z', 'a', 'b', 'c', 'd'])\n",
      "deque(['c', 'd', 'z', 'a', 'b'])\n"
     ]
    }
   ],
   "source": [
    "from collections import deque\n",
    "q = deque(['a','b','c'])\n",
    "q.append('d')\n",
    "print(q)\n",
    "q.appendleft('z')\n",
    "print(q)\n",
    "print(q.count('a'))\n",
    "print(q)\n",
    "q.rotate(2)\n",
    "print(q)\n"
   ]
  },
  {
   "cell_type": "code",
   "execution_count": 43,
   "metadata": {},
   "outputs": [
    {
     "name": "stdout",
     "output_type": "stream",
     "text": [
      ">-------------- None\n",
      "->------------- None\n",
      "-->------------ None\n",
      "--->----------- None\n",
      "---->---------- None\n",
      "----->--------- None\n",
      "------>-------- None\n",
      "------->------- None\n",
      "-------->------ None\n",
      "--------->----- None\n",
      "---------->---- None\n",
      "----------->--- None\n",
      "------------>-- None\n",
      "------------->- None\n",
      "--------------> None\n",
      ">-------------- None\n",
      "->------------- None\n",
      "-->------------ None\n",
      "--->----------- None\n",
      "---->---------- None\n",
      "----->--------- None\n",
      "------>-------- None\n",
      "------->------- None\n",
      "-------->------ None\n",
      "--------->----- None\n",
      "---------->---- None\n",
      "----------->--- None\n",
      "------------>-- None\n",
      "------------->- None\n",
      "--------------> None\n"
     ]
    }
   ],
   "source": [
    "import sys\n",
    "import time\n",
    "from collections import deque\n",
    "fancy_loading = deque('>--------------')\n",
    "for i in range(30):\n",
    "    print('\\r%s'% ''.join(fancy_loading),fancy_loading.rotate(1))\n",
    "    #sys.stdount.flush()\n",
    "    time.sleep(0.1)"
   ]
  },
  {
   "cell_type": "code",
   "execution_count": null,
   "metadata": {
    "collapsed": true
   },
   "outputs": [],
   "source": []
  }
 ],
 "metadata": {
  "kernelspec": {
   "display_name": "Python 3",
   "language": "python",
   "name": "python3"
  },
  "language_info": {
   "codemirror_mode": {
    "name": "ipython",
    "version": 3
   },
   "file_extension": ".py",
   "mimetype": "text/x-python",
   "name": "python",
   "nbconvert_exporter": "python",
   "pygments_lexer": "ipython3",
   "version": "3.6.1"
  }
 },
 "nbformat": 4,
 "nbformat_minor": 2
}
