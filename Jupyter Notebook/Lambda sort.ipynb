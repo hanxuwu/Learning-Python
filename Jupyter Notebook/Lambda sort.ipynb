{
 "cells": [
  {
   "cell_type": "markdown",
   "metadata": {},
   "source": [
    "# sort Lambda"
   ]
  },
  {
   "cell_type": "markdown",
   "metadata": {},
   "source": [
    "sorted(iterable[,key][,reverse])"
   ]
  },
  {
   "cell_type": "code",
   "execution_count": 1,
   "metadata": {},
   "outputs": [
    {
     "data": {
      "text/plain": [
       "<function __main__.<lambda>>"
      ]
     },
     "execution_count": 1,
     "metadata": {},
     "output_type": "execute_result"
    }
   ],
   "source": [
    "lambda ardument:expression"
   ]
  },
  {
   "cell_type": "code",
   "execution_count": 2,
   "metadata": {
    "collapsed": true
   },
   "outputs": [],
   "source": [
    "def lambda_1(argument):\n",
    "    return expression "
   ]
  },
  {
   "cell_type": "markdown",
   "metadata": {},
   "source": [
    "## 1.简单的list排序"
   ]
  },
  {
   "cell_type": "code",
   "execution_count": 5,
   "metadata": {},
   "outputs": [
    {
     "name": "stdout",
     "output_type": "stream",
     "text": [
      "['a', 'b', 'c']\n",
      "['c', 'b', 'a']\n"
     ]
    }
   ],
   "source": [
    "lis= ['a','b','c']\n",
    "print(sorted(lis))\n",
    "print(sorted(lis,reverse=True))\n"
   ]
  },
  {
   "cell_type": "markdown",
   "metadata": {},
   "source": [
    " ## 2. dict的key排序"
   ]
  },
  {
   "cell_type": "code",
   "execution_count": 8,
   "metadata": {},
   "outputs": [
    {
     "name": "stdout",
     "output_type": "stream",
     "text": [
      "['a', 'b', 'c']\n",
      "['c', 'b', 'a']\n"
     ]
    }
   ],
   "source": [
    "dic = {'c':1,'b':2,'a':3}\n",
    "print(sorted(dic))\n",
    "print(sorted(dic,reverse=True))"
   ]
  },
  {
   "cell_type": "markdown",
   "metadata": {},
   "source": [
    "## 3. dict的value排序"
   ]
  },
  {
   "cell_type": "code",
   "execution_count": 11,
   "metadata": {},
   "outputs": [
    {
     "name": "stdout",
     "output_type": "stream",
     "text": [
      "['c', 'b', 'a']\n",
      "['a', 'b', 'c']\n"
     ]
    }
   ],
   "source": [
    "dic= {'c':1,'b':2,'a':3}\n",
    "print(sorted(dic,key=lambda k:dic[k]))\n",
    "print(sorted(dic,key=lambda k:dic[k],reverse=True))"
   ]
  },
  {
   "cell_type": "markdown",
   "metadata": {},
   "source": [
    "## 4.list内嵌套list排序"
   ]
  },
  {
   "cell_type": "code",
   "execution_count": 16,
   "metadata": {},
   "outputs": [
    {
     "name": "stdout",
     "output_type": "stream",
     "text": [
      "[[1, 5, 6], [4, 2, 9], [7, 8, 3]]\n",
      "[[4, 2, 9], [1, 5, 6], [7, 8, 3]]\n",
      "[[7, 8, 3], [4, 2, 9], [1, 5, 6]]\n"
     ]
    }
   ],
   "source": [
    "lis=[[4,2,9],[1,5,6],[7,8,3]]\n",
    "print(sorted(lis,key=lambda k:k[0]))\n",
    "print(sorted(lis,key=lambda k:k[1]))\n",
    "print(sorted(lis,key=lambda k:k[0],reverse=True))"
   ]
  },
  {
   "cell_type": "markdown",
   "metadata": {},
   "source": [
    "## 5.dict 内嵌套dict排序"
   ]
  },
  {
   "cell_type": "code",
   "execution_count": 17,
   "metadata": {},
   "outputs": [
    {
     "name": "stdout",
     "output_type": "stream",
     "text": [
      "['c', 'b', 'a']\n"
     ]
    }
   ],
   "source": [
    "dic = {\n",
    "    'a':{'x':3,'y':2,'z':1},\n",
    "    'b':{'x':2,'y':1,'z':3},\n",
    "    'c':{'x':1,'y':3,'z':2},\n",
    "}\n",
    "\n",
    "print(sorted(dic,key=lambda k:dic[k]['x']))"
   ]
  },
  {
   "cell_type": "markdown",
   "metadata": {},
   "source": [
    "## 6.list内嵌套dict排序"
   ]
  },
  {
   "cell_type": "code",
   "execution_count": 20,
   "metadata": {},
   "outputs": [
    {
     "name": "stdout",
     "output_type": "stream",
     "text": [
      "[{'x': 1, 'y': 3, 'z': 2}, {'x': 2, 'y': 1, 'z': 3}, {'x': 3, 'y': 2, 'z': 1}]\n"
     ]
    }
   ],
   "source": [
    "lis = [\n",
    "    {'x':3,'y':2,'z':1},\n",
    "    {'x':2,'y':1,'z':3},\n",
    "    {'x':1,'y':3,'z':2},\n",
    "]\n",
    "\n",
    "print(sorted(lis,key=lambda k:k['x']))"
   ]
  },
  {
   "cell_type": "markdown",
   "metadata": {},
   "source": [
    "## 7.dict 内嵌套list排序"
   ]
  },
  {
   "cell_type": "code",
   "execution_count": 21,
   "metadata": {},
   "outputs": [
    {
     "name": "stdout",
     "output_type": "stream",
     "text": [
      "['a', 'b', 'c']\n"
     ]
    }
   ],
   "source": [
    "dic={\n",
    "    'a':[1,2,3],\n",
    "    'b':[2,1,3],\n",
    "    'c':[3,1,2],\n",
    "}\n",
    "\n",
    "print(sorted(dic,key=lambda k:dic[k][0]))"
   ]
  },
  {
   "cell_type": "code",
   "execution_count": null,
   "metadata": {
    "collapsed": true
   },
   "outputs": [],
   "source": []
  }
 ],
 "metadata": {
  "kernelspec": {
   "display_name": "Python 3",
   "language": "python",
   "name": "python3"
  },
  "language_info": {
   "codemirror_mode": {
    "name": "ipython",
    "version": 3
   },
   "file_extension": ".py",
   "mimetype": "text/x-python",
   "name": "python",
   "nbconvert_exporter": "python",
   "pygments_lexer": "ipython3",
   "version": "3.6.1"
  }
 },
 "nbformat": 4,
 "nbformat_minor": 2
}
