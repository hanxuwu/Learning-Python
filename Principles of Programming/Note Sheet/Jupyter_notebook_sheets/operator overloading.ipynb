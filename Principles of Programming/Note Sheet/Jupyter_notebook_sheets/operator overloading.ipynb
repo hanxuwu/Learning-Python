{
 "cells": [
  {
   "cell_type": "markdown",
   "metadata": {},
   "source": [
    "<h1 align=\"center\">Operator overloading</h1>"
   ]
  },
  {
   "cell_type": "code",
   "execution_count": null,
   "metadata": {
    "collapsed": true
   },
   "outputs": [],
   "source": [
    "class C:\n",
    "    def __init__(self):\n",
    "        print('Object creation')\n",
    "        \n",
    "I = C()\n",
    "print()"
   ]
  },
  {
   "cell_type": "code",
   "execution_count": null,
   "metadata": {
    "collapsed": true
   },
   "outputs": [],
   "source": [
    "class C:\n",
    "    def __call__(self):\n",
    "        print('Calling object!')\n",
    "        \n",
    "I = C()\n",
    "I()"
   ]
  },
  {
   "cell_type": "code",
   "execution_count": null,
   "metadata": {
    "collapsed": true
   },
   "outputs": [],
   "source": [
    "class C:\n",
    "    def __repr__(self):\n",
    "        return 'Using __repr__'\n",
    "\n",
    "I = C()\n",
    "print(I)\n",
    "I"
   ]
  },
  {
   "cell_type": "code",
   "execution_count": null,
   "metadata": {
    "collapsed": true
   },
   "outputs": [],
   "source": [
    "class C:\n",
    "    def __repr__(self):\n",
    "        return 'Using __repr__'\n",
    "        \n",
    "    def __str__(self):\n",
    "        return 'Using __str__'\n",
    "\n",
    "I = C()\n",
    "print(I)\n",
    "I"
   ]
  },
  {
   "cell_type": "code",
   "execution_count": null,
   "metadata": {
    "collapsed": true
   },
   "outputs": [],
   "source": [
    "class C:\n",
    "    def __init__(self, datum):\n",
    "        self.datum = datum\n",
    "    \n",
    "    def __len__(self):\n",
    "        return len(self.datum)\n",
    "    \n",
    "    \n",
    "I = C('')\n",
    "if I:\n",
    "    print('Datum is not the empty string')\n",
    "else:\n",
    "    print('Datum is the empty string')\n",
    "print('The length of datum is:', len(I))\n",
    "print()\n",
    "\n",
    "I = C('X')\n",
    "if I:\n",
    "    print('Datum is not the empty string')\n",
    "else:\n",
    "    print('Datum is the empty string')\n",
    "print('The length of datum is:', len(I))"
   ]
  },
  {
   "cell_type": "code",
   "execution_count": null,
   "metadata": {
    "collapsed": true
   },
   "outputs": [],
   "source": [
    "class C:\n",
    "    def __init__(self, datum):\n",
    "        self.datum = datum\n",
    "        \n",
    "    def __bool__(self):\n",
    "        print('Let me evaluate...')\n",
    "        return bool(self.datum)\n",
    "    \n",
    "    def __len__(self):\n",
    "        return len(self.datum)\n",
    "    \n",
    "    \n",
    "I = C('')\n",
    "# __bool__() takes over __len__().\n",
    "if I:\n",
    "    print('Datum is not the empty string')\n",
    "else:\n",
    "    print('Datum is the empty string')\n",
    "print()\n",
    "\n",
    "I = C('X')\n",
    "# __bool__() takes over __len__().\n",
    "if I:\n",
    "    print('Datum is not the empty string')\n",
    "else:\n",
    "    print('Datum is the empty string')"
   ]
  },
  {
   "cell_type": "code",
   "execution_count": null,
   "metadata": {
    "collapsed": true
   },
   "outputs": [],
   "source": [
    "class C:\n",
    "    def __index__(self):\n",
    "        return 16\n",
    "        \n",
    "    def __getitem__(self, index):\n",
    "        if isinstance(index, int):\n",
    "            print('Index:', index)\n",
    "        else:\n",
    "            print('Slice:', index, '--', index.start, index.stop, index.step)\n",
    "        return range(0, 100, 10)[index]\n",
    "  \n",
    "    def __setitem__(self, index, value):\n",
    "        if isinstance(index, int):\n",
    "            print('1. Index:', index)\n",
    "            print('2. Value:', value)\n",
    "        else:\n",
    "            print('1. Slice:', index, '--', index.start, index.stop, index.step)\n",
    "            print('2. Value:', value)\n",
    "\n",
    "\n",
    "I = C()\n",
    "\n",
    "print(bin(I), oct(I), hex(I))\n",
    "print(range(10, 30)[I])\n",
    "print()\n",
    "\n",
    "I[4]\n",
    "I[2: 10: 3]\n",
    "I[7] = 'X'\n",
    "I[2: 10: 3] = 'X'\n",
    "print()\n",
    "# Example of an iteration context.\n",
    "# When index becomes equal to 10, IndexError is raised.\n",
    "print(list(I))\n",
    "print()\n",
    "\n",
    "print(30 in I)\n",
    "print(35 in I)"
   ]
  },
  {
   "cell_type": "code",
   "execution_count": null,
   "metadata": {
    "collapsed": true
   },
   "outputs": [],
   "source": [
    "class C:\n",
    "    def __init__(self):\n",
    "        self.data = list(range(0, 100, 10))\n",
    "        \n",
    "    def __getitem__(self, index):\n",
    "        return self.data[index]\n",
    "    \n",
    "    def __iter__(self):\n",
    "        return self\n",
    "    \n",
    "    def __next__(self):\n",
    "        try:\n",
    "            return self.data.pop()\n",
    "        except IndexError:\n",
    "            raise StopIteration\n",
    "\n",
    "\n",
    "# __iter__() takes over __getitem__() in an iteration context.\n",
    "print(list(C()))\n",
    "print()\n",
    "\n",
    "# __iter__() takes over __getitem__() for membership test\n",
    "print(30 in C())\n",
    "print(35 in C())"
   ]
  },
  {
   "cell_type": "code",
   "execution_count": null,
   "metadata": {
    "collapsed": true
   },
   "outputs": [],
   "source": [
    "class C:\n",
    "    def __init__(self):\n",
    "        self.data = list(range(0, 100, 10))\n",
    "        \n",
    "    def __getitem__(self, index):\n",
    "        return self.data[index]\n",
    "    \n",
    "    def __iter__(self):\n",
    "        return self\n",
    "    \n",
    "    def __next__(self):\n",
    "        try:\n",
    "            return self.data.pop()\n",
    "        except IndexError:\n",
    "            raise StopIteration\n",
    "            \n",
    "    def __contains__(self, value):\n",
    "        if value in self.data:\n",
    "            print('Contains', value)\n",
    "        else:\n",
    "            print('Does not contain', value)\n",
    "\n",
    "#  __contains()__ takes over __iter__() for membership test\n",
    "30 in C()\n",
    "35 in C()\n",
    "print()"
   ]
  },
  {
   "cell_type": "code",
   "execution_count": null,
   "metadata": {
    "collapsed": true
   },
   "outputs": [],
   "source": [
    "class C:\n",
    "    def __init__(self, datum):\n",
    "        self.datum = datum\n",
    "    \n",
    "    def __lt__(self, value):\n",
    "        return self.datum < value\n",
    "   \n",
    "    def __le__(self, value):\n",
    "        return self.datum <= value\n",
    "\n",
    "    def __eq__(self, value):\n",
    "        return self.datum == value\n",
    "    \n",
    "    # Better to implement __eq__() but not __ne__(),\n",
    "    # in which case the negation of the value returned by\n",
    "    # a == b will be used when evaluating a != b.\n",
    "    def __ne__(self, value):\n",
    "        return self.datum != value\n",
    "    \n",
    "    def __gt__(self, value):\n",
    "        return self.datum > value\n",
    "    \n",
    "    def __ge__(self, value):\n",
    "        return self.datum >= value\n",
    "\n",
    "\n",
    "I = C(2)\n",
    "J = C(3)\n",
    "print(I < J, I <= J, I == J, I != J, I > J, I >= J)"
   ]
  },
  {
   "cell_type": "markdown",
   "metadata": {},
   "source": [
    "Illustration of __add__, __radd__ and __iadd__\n",
    "as examples for the following list of operators, each of which has left and in-place variants:\n",
    "\n",
    "* __add__ for +\n",
    "* __sub__ for -\n",
    "* __mul__ for *\n",
    "* __truediv__ for /\n",
    "* __floordiv__ for //\n",
    "* __mod__ for %\n",
    "* __pow__ for **\n",
    "* __lshift__ for <<\n",
    "* __rshift__ for >>\n",
    "* __and__ for &\n",
    "* __xor__ for ^\n",
    "* __or__ for |"
   ]
  },
  {
   "cell_type": "code",
   "execution_count": null,
   "metadata": {
    "collapsed": true
   },
   "outputs": [],
   "source": [
    "class C:\n",
    "    def __init__(self, datum):\n",
    "        self.datum = datum\n",
    "        \n",
    "    def __add__(self, value):\n",
    "        return C(self.datum + value)\n",
    "    \n",
    "    \n",
    "I = C(2)\n",
    "J = I + 3\n",
    "print(J.datum)\n",
    "# Cannot perform 3 + I\n",
    "I += 5\n",
    "print(I.datum)"
   ]
  },
  {
   "cell_type": "code",
   "execution_count": null,
   "metadata": {
    "collapsed": true
   },
   "outputs": [],
   "source": [
    "class C:\n",
    "    def __init__(self, datum):\n",
    "        self.datum = datum\n",
    "        \n",
    "    def __add__(self, value):\n",
    "        return self.datum + value\n",
    "\n",
    "    def __radd__(self, value):\n",
    "        return self + value\n",
    "        # Alternatively:\n",
    "        # return self.__add__(value)\n",
    "    # A possible alternative:\n",
    "    # __radd__ = __add__\n",
    "\n",
    "    def __iadd__(self, value):\n",
    "        self.datum += value\n",
    "        return self\n",
    "    \n",
    "    \n",
    "I = C(2)\n",
    "print(I + 3)\n",
    "print(4 + I)\n",
    "# __iadd__() takes over __add__().\n",
    "I += 5\n",
    "print(I.datum)"
   ]
  },
  {
   "cell_type": "code",
   "execution_count": null,
   "metadata": {
    "collapsed": true
   },
   "outputs": [],
   "source": [
    "class C:\n",
    "    def __init__(self, datum):\n",
    "        self.datum = datum\n",
    "    \n",
    "    def __getattr__(self, attribute):\n",
    "        if attribute == 'accepted_undefined':\n",
    "            return 'Accepted undefined'\n",
    "        elif attribute == '__add__':\n",
    "            print('Accepted addition')\n",
    "            return getattr(self.datum, attribute)\n",
    "#        else:\n",
    "#            raise AttributeError(attribute)\n",
    "        \n",
    "\n",
    "I = C(2)\n",
    "I.__mul__ = lambda value: I.datum * value\n",
    "print(I.datum)\n",
    "print(I.accepted_undefined)\n",
    "print(I.unaccepted_undefined)\n",
    "print(I.__add__(4))\n",
    "# Raises TypeError:\n",
    "# print(I + 4)\n",
    "print(I.__mul__(4))\n",
    "# Raises TypeError:\n",
    "# print(I * 4)"
   ]
  },
  {
   "cell_type": "code",
   "execution_count": null,
   "metadata": {
    "collapsed": true
   },
   "outputs": [],
   "source": [
    "class C:\n",
    "    def __init__(self, datum):\n",
    "        self.datum = datum\n",
    "    \n",
    "    def __getattribute__(self, attribute):\n",
    "        if attribute == 'accepted_undefined':\n",
    "            return 'Accepted undefined'\n",
    "        elif attribute == '__add__':\n",
    "            print('Accepted addition')\n",
    "            return getattr(object.__getattribute__(self, 'datum'), attribute)\n",
    "#        else:\n",
    "#            raise AttributeError(attribute)\n",
    "        \n",
    "\n",
    "I = C(2)\n",
    "I.__mul__ = lambda value: object.__getattribute__(self, 'datum') * value\n",
    "print(I.datum)\n",
    "print(I.accepted_undefined)\n",
    "print(I.unaccepted_undefined)\n",
    "print(I.__add__(4))\n",
    "# Raises TypeError:\n",
    "# print(I + 4)\n",
    "# Raises TypeError:\n",
    "# print(I.__mul__(4))"
   ]
  },
  {
   "cell_type": "code",
   "execution_count": null,
   "metadata": {
    "collapsed": true
   },
   "outputs": [],
   "source": [
    "class C:\n",
    "    def __setattr__(self, attribute, value):\n",
    "        if attribute == 'handled_attribute':\n",
    "            self.__dict__['handled_attribute'] = value\n",
    "        \n",
    "\n",
    "I = C()\n",
    "I.handled_attribute = 'X'\n",
    "print(I.handled_attribute)\n",
    "# Raises AttributeError:\n",
    "# I.other_attribute = 'Y'\n",
    "# print(I.other_attribute)"
   ]
  },
  {
   "cell_type": "code",
   "execution_count": null,
   "metadata": {
    "collapsed": true
   },
   "outputs": [],
   "source": [
    "class C:\n",
    "    def __init__(self):\n",
    "        self.datum_1 = 'X'\n",
    "        self.datum_2 = 'Y'\n",
    "        self.datum_3 = 'Z'\n",
    "\n",
    "\n",
    "    def __delattr__(self, attribute):\n",
    "        if attribute == 'datum_1':\n",
    "            print('datum_1 deleted')\n",
    "        elif attribute == 'datum_2':\n",
    "            print('datum_2 deleted')\n",
    "            del self.__dict__['datum_2']\n",
    "\n",
    "I = C()\n",
    "del I.datum_1\n",
    "del I.datum_2\n",
    "print(I.__dict__)\n",
    "print()"
   ]
  },
  {
   "cell_type": "code",
   "execution_count": null,
   "metadata": {
    "collapsed": true
   },
   "outputs": [],
   "source": [
    "class C:\n",
    "    def __del__(self):\n",
    "        print('Bye C object!')\n",
    "\n",
    "I = C()\n",
    "I = 'Something else'\n",
    "print()"
   ]
  }
 ],
 "metadata": {
  "kernelspec": {
   "display_name": "Python 3",
   "language": "python",
   "name": "python3"
  },
  "language_info": {
   "codemirror_mode": {
    "name": "ipython",
    "version": 3
   },
   "file_extension": ".py",
   "mimetype": "text/x-python",
   "name": "python",
   "nbconvert_exporter": "python",
   "pygments_lexer": "ipython3",
   "version": "3.6.1"
  }
 },
 "nbformat": 4,
 "nbformat_minor": 1
}
