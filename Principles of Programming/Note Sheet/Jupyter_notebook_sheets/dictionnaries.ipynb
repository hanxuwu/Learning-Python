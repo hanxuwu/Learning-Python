{
 "cells": [
  {
   "cell_type": "markdown",
   "metadata": {},
   "source": [
    "<h1 align=\"center\">Dictionnaries</h1>"
   ]
  },
  {
   "cell_type": "code",
   "execution_count": null,
   "metadata": {
    "collapsed": true
   },
   "outputs": [],
   "source": [
    "D1 = dict.fromkeys(['A', 'B', 'C'])\n",
    "print(D1)\n",
    "D2 = dict.fromkeys({'A', 'B', 'C'}, 1)\n",
    "print(D2)\n",
    "\n",
    "D1 = {'A': 0, 'B': 1, 'C': 2}\n",
    "D2 = dict([('A', 0), ['B', 1], ('C', 2)])\n",
    "D3 = dict((['A', 0], ('B', 1), ('C', 2)))\n",
    "D4 = dict(A = 0, B = 1, C = 2)\n",
    "D5 = D1.copy()\n",
    "D1 == D2 == D3 == D4 == D5"
   ]
  },
  {
   "cell_type": "code",
   "execution_count": null,
   "metadata": {
    "collapsed": true
   },
   "outputs": [],
   "source": [
    "D = {'A': 0, 'B': 1, 'C': 2}\n",
    "print(len(D))\n",
    "print(1 not in D)\n",
    "print('B' in D)"
   ]
  },
  {
   "cell_type": "code",
   "execution_count": null,
   "metadata": {
    "collapsed": true
   },
   "outputs": [],
   "source": [
    "D = {}\n",
    "D['A'] = 0\n",
    "print(D)\n",
    "print(D.setdefault('B'))\n",
    "print(D)\n",
    "print(D.setdefault('B', 1))\n",
    "print(D)\n",
    "D['B'] = 1\n",
    "print(D)\n",
    "print(D.setdefault('C', 2))\n",
    "print(D)\n",
    "D.update({'D': 4, 'E': 3})\n",
    "print(D)\n",
    "D.update({'D': 3, 'E': 4})\n",
    "print(D)\n",
    "D.update((('F', 6), ('G', 5)))\n",
    "print(D)\n",
    "D.update((('F', 5), ('G', 6)))\n",
    "print(D)\n",
    "D.update({'H': 8, 'I': 7}, J = 10, K = 9)\n",
    "print(D)\n",
    "D.update([['H', 7], ['I', 8]], J = 9, K = 10)\n",
    "print(D)\n",
    "D.update(I = 0, J = 0, K = 0)\n",
    "print(D)\n",
    "D.clear()\n",
    "print(D)"
   ]
  },
  {
   "cell_type": "code",
   "execution_count": null,
   "metadata": {
    "collapsed": true
   },
   "outputs": [],
   "source": [
    "D = {'A': 0, 'B': 1, 'C': 2, 'D': 3, 'E': 4, 'F': 5}\n",
    "print(D.pop('C'))\n",
    "print(D)\n",
    "print(D.pop('F', -1))\n",
    "print(D)\n",
    "print(D.pop('F', -1))\n",
    "print(D)\n",
    "# Removes an arbitrary (key, value)\n",
    "print(D.popitem())\n",
    "print(D)\n",
    "print(D.popitem())\n",
    "print(D)\n",
    "del D['D']\n",
    "print(D)"
   ]
  },
  {
   "cell_type": "code",
   "execution_count": null,
   "metadata": {
    "collapsed": true
   },
   "outputs": [],
   "source": [
    "D = {'A': 0, 'B': 1, 'C': 2, 'D': 3, 'E': 4, 'F': 5}\n",
    "print(D['C'])\n",
    "print(D.get('F'))\n",
    "print(D.get('G'))\n",
    "print(D.get('G', -1))\n",
    "print(list(D.keys()))\n",
    "print((tuple(D.values())))\n",
    "print(set(D.items()))"
   ]
  },
  {
   "cell_type": "code",
   "execution_count": null,
   "metadata": {},
   "outputs": [],
   "source": [
    "D1 = {'a': 1, 'b': 2, 'c': 3}\n",
    "D2 = {'b': 2, 'c': 30, 'd': 4}\n",
    "\n",
    "print(D1.keys() & D2.keys())\n",
    "print(D1.items() & D2.items())\n",
    "print()\n",
    "\n",
    "print(D1.keys() | D2.keys())\n",
    "print(D1.items() | D2.items())\n",
    "print()\n",
    "\n",
    "print(D1.keys() - D2.keys())\n",
    "print(D1.items() - D2.items())"
   ]
  }
 ],
 "metadata": {
  "kernelspec": {
   "display_name": "Python 3",
   "language": "python",
   "name": "python3"
  },
  "language_info": {
   "codemirror_mode": {
    "name": "ipython",
    "version": 3
   },
   "file_extension": ".py",
   "mimetype": "text/x-python",
   "name": "python",
   "nbconvert_exporter": "python",
   "pygments_lexer": "ipython3",
   "version": "3.6.2"
  }
 },
 "nbformat": 4,
 "nbformat_minor": 1
}
