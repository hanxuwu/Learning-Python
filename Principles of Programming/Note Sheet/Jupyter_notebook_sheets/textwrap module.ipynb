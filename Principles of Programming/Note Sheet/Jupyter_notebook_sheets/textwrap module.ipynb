{
 "cells": [
  {
   "cell_type": "code",
   "execution_count": null,
   "metadata": {},
   "outputs": [],
   "source": [
    "from textwrap import dedent\n",
    "\n",
    "print('    One\\n     Two\\n  Three\\n     Four\\n    Five')\n",
    "print(dedent('    One\\n     Two\\n  Three\\n     Four\\n    Five'))\n",
    "\n"
   ]
  },
  {
   "cell_type": "code",
   "execution_count": null,
   "metadata": {},
   "outputs": [],
   "source": [
    "from textwrap import indent\n",
    "\n",
    "print(indent('12\\n  \\n456\\n\\n\\n789', '*****'))\n",
    "print()\n",
    "\n",
    "print(indent('12\\n  \\n456\\n\\n\\n789', '*****', lambda l: len(l) <= 3))"
   ]
  },
  {
   "cell_type": "code",
   "execution_count": null,
   "metadata": {},
   "outputs": [],
   "source": [
    "from textwrap import wrap, fill\n",
    "\n",
    "print(wrap('123\\t45       123456 78901234567890\\t1                123', width = 10))\n",
    "print(fill('123\\t45       123456 78901234567890\\t1                123', width = 10))"
   ]
  },
  {
   "cell_type": "code",
   "execution_count": null,
   "metadata": {},
   "outputs": [],
   "source": [
    "from textwrap import shorten\n",
    "\n",
    "print(shorten('   1   2   3', width = 10))\n",
    "print(shorten('   1   2   345678', width = 10))\n",
    "print(shorten('   1   2   3456789 0', width = 10))"
   ]
  }
 ],
 "metadata": {
  "kernelspec": {
   "display_name": "Python 3",
   "language": "python",
   "name": "python3"
  },
  "language_info": {
   "codemirror_mode": {
    "name": "ipython",
    "version": 3
   },
   "file_extension": ".py",
   "mimetype": "text/x-python",
   "name": "python",
   "nbconvert_exporter": "python",
   "pygments_lexer": "ipython3",
   "version": "3.6.2"
  }
 },
 "nbformat": 4,
 "nbformat_minor": 2
}
