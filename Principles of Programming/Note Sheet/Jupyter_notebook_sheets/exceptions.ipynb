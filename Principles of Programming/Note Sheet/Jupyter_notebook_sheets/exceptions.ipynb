{
 "cells": [
  {
   "cell_type": "markdown",
   "metadata": {},
   "source": [
    "<h1 align=\"center\">Exceptions</h1>"
   ]
  },
  {
   "cell_type": "raw",
   "metadata": {},
   "source": [
    "Form without except:\n",
    "\n",
    "try:\n",
    "    statements\n",
    "finally:\n",
    "    statements\n",
    "    \n",
    "\n",
    "Form with except:\n",
    "\n",
    "try:\n",
    "    statements\n",
    "except [type [as value]]:\n",
    "    statements\n",
    "[except [type [as value]]:\n",
    "    statements]*\n",
    "[else:\n",
    "    statements]\n",
    "[finally:\n",
    "    statements]"
   ]
  },
  {
   "cell_type": "code",
   "execution_count": 20,
   "metadata": {},
   "outputs": [
    {
     "name": "stdout",
     "output_type": "stream",
     "text": [
      "\"hello\" + 2\n",
      "Output in any case\n"
     ]
    },
    {
     "ename": "TypeError",
     "evalue": "Can't convert 'int' object to str implicitly",
     "output_type": "error",
     "traceback": [
      "\u001b[0;31m---------------------------------------------------------------------------\u001b[0m",
      "\u001b[0;31mTypeError\u001b[0m                                 Traceback (most recent call last)",
      "\u001b[0;32m<ipython-input-20-d86dd5e8ce44>\u001b[0m in \u001b[0;36m<module>\u001b[0;34m()\u001b[0m\n\u001b[1;32m     12\u001b[0m     \u001b[0mstring\u001b[0m \u001b[0;34m=\u001b[0m \u001b[0mchoice\u001b[0m\u001b[0;34m(\u001b[0m\u001b[0mstrings\u001b[0m\u001b[0;34m)\u001b[0m\u001b[0;34m\u001b[0m\u001b[0m\n\u001b[1;32m     13\u001b[0m     \u001b[0mprint\u001b[0m\u001b[0;34m(\u001b[0m\u001b[0mstring\u001b[0m\u001b[0;34m)\u001b[0m\u001b[0;34m\u001b[0m\u001b[0m\n\u001b[0;32m---> 14\u001b[0;31m     \u001b[0mexec\u001b[0m\u001b[0;34m(\u001b[0m\u001b[0mstring\u001b[0m\u001b[0;34m)\u001b[0m\u001b[0;34m\u001b[0m\u001b[0m\n\u001b[0m\u001b[1;32m     15\u001b[0m \u001b[0;32mfinally\u001b[0m\u001b[0;34m:\u001b[0m\u001b[0;34m\u001b[0m\u001b[0m\n\u001b[1;32m     16\u001b[0m     \u001b[0mprint\u001b[0m\u001b[0;34m(\u001b[0m\u001b[0;34m'Output in any case'\u001b[0m\u001b[0;34m)\u001b[0m\u001b[0;34m\u001b[0m\u001b[0m\n",
      "\u001b[0;32m<string>\u001b[0m in \u001b[0;36m<module>\u001b[0;34m()\u001b[0m\n",
      "\u001b[0;31mTypeError\u001b[0m: Can't convert 'int' object to str implicitly"
     ]
    }
   ],
   "source": [
    "class cello :\n",
    "    pass\n",
    "\n",
    "strings = ('\"hello\"',\n",
    "           'hello',\n",
    "           '\"hello\" + 2',\n",
    "           '\"hello\"[5]',\n",
    "           '{\"hello\": 0}[\"hi\"]',\n",
    "           'cello.pitch',\n",
    "           'open(\"hello.txt\")')\n",
    "\n",
    "from random import choice\n",
    "\n",
    "try:\n",
    "    string = choice(strings)\n",
    "    print(string)\n",
    "    exec(string)\n",
    "finally:\n",
    "    print('Output in any case')"
   ]
  },
  {
   "cell_type": "code",
   "execution_count": 23,
   "metadata": {},
   "outputs": [
    {
     "ename": "NameError",
     "evalue": "name 'cello' is not defined",
     "output_type": "error",
     "traceback": [
      "\u001b[0;31m---------------------------------------------------------------------------\u001b[0m",
      "\u001b[0;31mNameError\u001b[0m                                 Traceback (most recent call last)",
      "\u001b[0;32m<ipython-input-23-0e47ad07a9fe>\u001b[0m in \u001b[0;36m<module>\u001b[0;34m()\u001b[0m\n\u001b[0;32m----> 1\u001b[0;31m \u001b[0;32mclass\u001b[0m \u001b[0mcello\u001b[0m \u001b[0;34m:\u001b[0m \u001b[0;32mpass\u001b[0m\u001b[0;34m;\u001b[0m \u001b[0mexec\u001b[0m\u001b[0;34m(\u001b[0m\u001b[0mcello\u001b[0m\u001b[0;34m.\u001b[0m\u001b[0mpitch\u001b[0m\u001b[0;34m)\u001b[0m\u001b[0;34m\u001b[0m\u001b[0m\n\u001b[0m",
      "\u001b[0;32m<ipython-input-23-0e47ad07a9fe>\u001b[0m in \u001b[0;36mcello\u001b[0;34m()\u001b[0m\n\u001b[0;32m----> 1\u001b[0;31m \u001b[0;32mclass\u001b[0m \u001b[0mcello\u001b[0m \u001b[0;34m:\u001b[0m \u001b[0;32mpass\u001b[0m\u001b[0;34m;\u001b[0m \u001b[0mexec\u001b[0m\u001b[0;34m(\u001b[0m\u001b[0mcello\u001b[0m\u001b[0;34m.\u001b[0m\u001b[0mpitch\u001b[0m\u001b[0;34m)\u001b[0m\u001b[0;34m\u001b[0m\u001b[0m\n\u001b[0m",
      "\u001b[0;31mNameError\u001b[0m: name 'cello' is not defined"
     ]
    }
   ],
   "source": [
    "class cello :\n",
    "    pass; exec(cello.pitch)"
   ]
  },
  {
   "cell_type": "code",
   "execution_count": null,
   "metadata": {},
   "outputs": [],
   "source": [
    "strings = ('\"hello\"',\n",
    "           'hello',\n",
    "           '\"hello\" + 2',\n",
    "           '\"hello\"[5]',\n",
    "           '{\"hello\": 0}[\"hi\"]',\n",
    "           'class cello : {} ; cello.pitch',\n",
    "           'open(\"hello.txt\")')\n",
    "\n",
    "from random import choice\n",
    "\n",
    "try:\n",
    "    string = choice(strings)\n",
    "    print(string)\n",
    "    exec(string)\n",
    "except NameError:\n",
    "    print\n",
    "    print('NameError!')\n",
    "except TypeError as e:\n",
    "    print('TypeError!')\n",
    "    print(e)\n",
    "except (IndexError, KeyError):\n",
    "    print('IndexError or KeyError!')\n",
    "except:\n",
    "    print('Any other error...')\n",
    "else:\n",
    "    print('All good, no error.')\n",
    "finally:\n",
    "    print('Output in any case')"
   ]
  },
  {
   "cell_type": "code",
   "execution_count": null,
   "metadata": {},
   "outputs": [],
   "source": [
    "try:\n",
    "    hello\n",
    "except NameError:\n",
    "    try:\n",
    "        'hello'[5]\n",
    "    except IndexError:\n",
    "        try:\n",
    "            {\"hello\": 0}[\"hi\"]\n",
    "        except KeyError as e:\n",
    "            raise ZeroDivisionError from e"
   ]
  },
  {
   "cell_type": "code",
   "execution_count": null,
   "metadata": {},
   "outputs": [],
   "source": [
    "try:\n",
    "    1 / 0\n",
    "except ZeroDivisionError:\n",
    "    raise ZeroDivisionError('I shall not divide by 0!') from None"
   ]
  }
 ],
 "metadata": {
  "kernelspec": {
   "display_name": "Python 3",
   "language": "python",
   "name": "python3"
  },
  "language_info": {
   "codemirror_mode": {
    "name": "ipython",
    "version": 3
   },
   "file_extension": ".py",
   "mimetype": "text/x-python",
   "name": "python",
   "nbconvert_exporter": "python",
   "pygments_lexer": "ipython3",
   "version": "3.6.1"
  }
 },
 "nbformat": 4,
 "nbformat_minor": 1
}
