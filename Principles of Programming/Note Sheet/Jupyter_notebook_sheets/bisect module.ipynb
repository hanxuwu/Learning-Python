{
 "cells": [
  {
   "cell_type": "markdown",
   "metadata": {},
   "source": [
    "<h1 align=\"center\">Bisect module</h1>"
   ]
  },
  {
   "cell_type": "code",
   "execution_count": null,
   "metadata": {
    "collapsed": true
   },
   "outputs": [],
   "source": [
    "import bisect\n",
    "\n",
    "L = [1, 1, 1, 2, 2, 2, 3, 3, 3]\n",
    "\n",
    "# bisect is an alias for bisect_right\n",
    "print(bisect.bisect(L, 0))\n",
    "print(bisect.bisect(L, 1))\n",
    "print(bisect.bisect(L, 4))\n",
    "print()\n",
    "\n",
    "print(bisect.bisect_right(L, 2))\n",
    "print(bisect.bisect_right(L, 2, 7))\n",
    "print(bisect.bisect_right(L, 2, 0, 5))"
   ]
  },
  {
   "cell_type": "code",
   "execution_count": null,
   "metadata": {
    "collapsed": true
   },
   "outputs": [],
   "source": [
    "import bisect\n",
    "\n",
    "L = [1, 1, 1, 2, 2, 2, 3, 3, 3]\n",
    "\n",
    "print(bisect.bisect_left(L, 0))\n",
    "print(bisect.bisect_left(L, 1))\n",
    "print(bisect.bisect_left(L, 4))\n",
    "print()\n",
    "\n",
    "print(bisect.bisect_left(L, 2))\n",
    "print(bisect.bisect_left(L, 2, 4))\n",
    "print(bisect.bisect_left(L, 2, 0, 2))"
   ]
  },
  {
   "cell_type": "code",
   "execution_count": null,
   "metadata": {
    "collapsed": true
   },
   "outputs": [],
   "source": [
    "import bisect\n",
    "\n",
    "# insort is an alias for insort_right\n",
    "L = [[1]]\n",
    "bisect.insort(L, [0])\n",
    "print(L)\n",
    "bisect.insort(L, [2])\n",
    "print(L)\n",
    "print()\n",
    "\n",
    "E1 = [1]\n",
    "print(id(E1))\n",
    "bisect.insort_right(L, E1)\n",
    "print(L)\n",
    "print([id(E) for E in L])\n",
    "print()\n",
    "\n",
    "E2 = [1]\n",
    "print(id(E2))\n",
    "bisect.insort_left(L, E2)\n",
    "print([id(E) for E in L])\n",
    "print(L)\n",
    "print()\n",
    "\n",
    "L = [0, 1, 2, 0, 1, 2]\n",
    "bisect.insort_right(L, 2, 3)\n",
    "print(L)\n",
    "bisect.insort_right(L, 2, 3, 4)\n",
    "print(L)\n",
    "bisect.insort_left(L, 1, 7)\n",
    "print(L)\n",
    "bisect.insort_left(L, 1, 3, 3)\n",
    "print(L)"
   ]
  }
 ],
 "metadata": {
  "kernelspec": {
   "display_name": "Python 3",
   "language": "python",
   "name": "python3"
  },
  "language_info": {
   "codemirror_mode": {
    "name": "ipython",
    "version": 3
   },
   "file_extension": ".py",
   "mimetype": "text/x-python",
   "name": "python",
   "nbconvert_exporter": "python",
   "pygments_lexer": "ipython3",
   "version": "3.6.1"
  }
 },
 "nbformat": 4,
 "nbformat_minor": 2
}
