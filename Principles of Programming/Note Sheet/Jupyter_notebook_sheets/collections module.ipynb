{
 "cells": [
  {
   "cell_type": "markdown",
   "metadata": {},
   "source": [
    "<h1 align=\"center\">Collections module</h1>"
   ]
  },
  {
   "cell_type": "code",
   "execution_count": null,
   "metadata": {
    "collapsed": true
   },
   "outputs": [],
   "source": [
    "from collections import namedtuple\n",
    "\n",
    "# Alternatively:\n",
    "# P = namedtuple('Point', 'x y')\n",
    "# P = namedtuple('Point', 'x,y')\n",
    "P = namedtuple('Point', ['x', 'y'])\n",
    "p = P(2, 3)\n",
    "print(p[0], p[1])\n",
    "print(p.x, p.y)\n",
    "print(p)"
   ]
  },
  {
   "cell_type": "code",
   "execution_count": null,
   "metadata": {
    "collapsed": true
   },
   "outputs": [],
   "source": [
    "from collections import defaultdict\n",
    "\n",
    "D = defaultdict(int)\n",
    "D[1] += 2\n",
    "print(D[0], D[1])\n",
    "D = defaultdict(lambda: 1)\n",
    "D[1] += 2\n",
    "print(D[0], D[1])\n",
    "print()\n",
    "\n",
    "D = defaultdict(list)\n",
    "D[1] += [2]\n",
    "print(D[0], D[1])\n",
    "D = defaultdict(lambda: [1])\n",
    "D[1] += [2]\n",
    "print(D[0], D[1])\n",
    "print()\n",
    "\n",
    "def tree():\n",
    "    return defaultdict(tree)\n",
    "T = tree()\n",
    "T['A']['B_1']['C'] = 0\n",
    "T['A']['B_2']['C_1'] = 1\n",
    "T['A']['B_2']['C_2'] = 2\n",
    "from pprint import pprint\n",
    "pprint(T)"
   ]
  },
  {
   "cell_type": "code",
   "execution_count": null,
   "metadata": {},
   "outputs": [],
   "source": [
    "from collections import deque\n",
    "\n",
    "D = deque((0, 1))\n",
    "D.append(2)\n",
    "D.append(3)\n",
    "# 4 might be inserted before 5 or the other way around.\n",
    "D.extend({4, 5})\n",
    "D.appendleft(-1)\n",
    "D.appendleft(-2)\n",
    "# -3 might be inserted before -4 or the other way around.\n",
    "D.extendleft({-3: 'A', -4: 'B'})\n",
    "print(D)\n",
    "D.rotate()\n",
    "print(D)\n",
    "D.rotate(2)\n",
    "print(D)\n",
    "D.rotate(-3)\n",
    "print(D)\n",
    "D.reverse()\n",
    "print(D)\n",
    "print(D.pop())\n",
    "print(D.popleft())\n",
    "D.insert(2,0)\n",
    "print(D)\n",
    "print(D.index(0))\n",
    "print(D.count(0))\n",
    "D.remove(0)\n",
    "print(D)\n",
    "print()\n",
    "\n",
    "D = deque(maxlen = 3)\n",
    "D.append(0)\n",
    "D.extend([1, 2, 3, 4, 5])\n",
    "print(D)\n",
    "D.appendleft(-1)\n",
    "print(D)\n",
    "D_copy = D.copy()\n",
    "print(D_copy)\n",
    "D_copy.clear()\n",
    "print(D_copy)"
   ]
  },
  {
   "cell_type": "code",
   "execution_count": null,
   "metadata": {
    "collapsed": true
   },
   "outputs": [],
   "source": [
    "from collections import Counter\n",
    "\n",
    "C = Counter('aababcabcd')\n",
    "print(C)\n",
    "for e in sorted(C.elements()):\n",
    "    print(e, end = ' ')\n",
    "print()\n",
    "print(C.most_common())\n",
    "print(C.most_common(2))\n",
    "C.update(Counter('ccdcdecdef'))\n",
    "print(C)\n",
    "C.subtract('abcdef' * 3)\n",
    "print(C)\n",
    "C_copy = C.copy()\n",
    "print(C_copy)\n",
    "C_copy.clear()\n",
    "print(C_copy)\n",
    "print()\n",
    "\n",
    "C1 = Counter('abcccc')\n",
    "C2 = Counter('bbccdd')\n",
    "print(C1 + C2)\n",
    "print(C1 - C2)\n",
    "print(C1 & C2)\n",
    "print(C1 | C2)"
   ]
  },
  {
   "cell_type": "code",
   "execution_count": null,
   "metadata": {
    "collapsed": true
   },
   "outputs": [],
   "source": [
    "from collections import OrderedDict\n",
    "\n",
    "D = OrderedDict()\n",
    "D['A'] = None\n",
    "D['C'] = None\n",
    "D['B'] = None\n",
    "D['D'] = None\n",
    "for k in D:\n",
    "    print(k, end = ' ')\n",
    "print()\n",
    "D.move_to_end('C')\n",
    "for k in D:\n",
    "    print(k, end = ' ')\n",
    "print()\n",
    "print(list(reversed(D)))"
   ]
  },
  {
   "cell_type": "code",
   "execution_count": null,
   "metadata": {
    "collapsed": true
   },
   "outputs": [],
   "source": [
    "from collections import ChainMap\n",
    "\n",
    "d0 = {'A': 0}\n",
    "d1 = {'A': 1}\n",
    "d2 = {'A': 2, 'B':2}\n",
    "C = ChainMap(d0, d1, d2)\n",
    "print(C)\n",
    "C.clear()\n",
    "print(C)\n",
    "C_copy = C.copy()\n",
    "print(C_copy)\n",
    "d1['A'] = 11\n",
    "C_copy['A'] = 'a'\n",
    "print(C)\n",
    "print(C_copy)\n",
    "print()\n",
    "\n",
    "extended_C = C.new_child({'B': -1, 'C': -1})\n",
    "print(extended_C.get('A'))\n",
    "print(extended_C)\n",
    "print(extended_C.pop('B'))\n",
    "print(extended_C.popitem())"
   ]
  }
 ],
 "metadata": {
  "kernelspec": {
   "display_name": "Python 3",
   "language": "python",
   "name": "python3"
  },
  "language_info": {
   "codemirror_mode": {
    "name": "ipython",
    "version": 3
   },
   "file_extension": ".py",
   "mimetype": "text/x-python",
   "name": "python",
   "nbconvert_exporter": "python",
   "pygments_lexer": "ipython3",
   "version": "3.6.2"
  }
 },
 "nbformat": 4,
 "nbformat_minor": 1
}
