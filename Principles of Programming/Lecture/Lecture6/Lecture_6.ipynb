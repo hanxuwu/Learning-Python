{
 "cells": [
  {
   "cell_type": "code",
   "execution_count": null,
   "metadata": {
    "collapsed": true
   },
   "outputs": [],
   "source": [
    "load_ext nbtutor"
   ]
  },
  {
   "cell_type": "code",
   "execution_count": null,
   "metadata": {},
   "outputs": [],
   "source": [
    "def f():\n",
    "    print('Hi!')\n",
    "    f()\n",
    "    \n",
    "f()"
   ]
  },
  {
   "cell_type": "code",
   "execution_count": null,
   "metadata": {},
   "outputs": [],
   "source": [
    "def count_down(n):\n",
    "    print(n)\n",
    "    count_down(n - 1)\n",
    "    \n",
    "count_down(10)"
   ]
  },
  {
   "cell_type": "code",
   "execution_count": null,
   "metadata": {},
   "outputs": [],
   "source": [
    "def count_down(n):\n",
    "    if n < 0:\n",
    "        return\n",
    "    print(n)\n",
    "    count_down(n - 1)\n",
    "    \n",
    "count_down(10)"
   ]
  },
  {
   "cell_type": "code",
   "execution_count": null,
   "metadata": {},
   "outputs": [],
   "source": [
    "def f(n):\n",
    "    if n < 0:\n",
    "        return\n",
    "    print(n, end = ' ')\n",
    "    f(n - 1)\n",
    "    print(n, end = ' ')\n",
    "    \n",
    "f(4)"
   ]
  },
  {
   "cell_type": "code",
   "execution_count": null,
   "metadata": {},
   "outputs": [],
   "source": [
    "def the_sum(L):\n",
    "    running_sum = 0\n",
    "    for e in L:\n",
    "        running_sum += e\n",
    "    return running_sum\n",
    "\n",
    "the_sum([2, 4, 6, 8])"
   ]
  },
  {
   "cell_type": "code",
   "execution_count": null,
   "metadata": {},
   "outputs": [],
   "source": [
    "def the_sum_1(L):\n",
    "    if not L:\n",
    "        return 0\n",
    "    return L[0] + the_sum_1(L[1: ])\n",
    "\n",
    "the_sum_1([2, 4, 6, 8])"
   ]
  },
  {
   "cell_type": "code",
   "execution_count": null,
   "metadata": {},
   "outputs": [],
   "source": [
    "def the_sum_2(L):\n",
    "    if not L:\n",
    "        return 0\n",
    "    return the_sum_2(L[: -1]) + L[-1]\n",
    "\n",
    "the_sum_2([2, 4, 6, 8])"
   ]
  },
  {
   "cell_type": "code",
   "execution_count": null,
   "metadata": {},
   "outputs": [],
   "source": [
    "def the_sum_3(L):\n",
    "    if not L:\n",
    "        return 0\n",
    "    return the_sum_3(L[: len(L) // 2]) + the_sum_3(L[len(L) // 2: ])\n",
    "\n",
    "the_sum_3([2, 4, 6, 8])"
   ]
  },
  {
   "cell_type": "code",
   "execution_count": null,
   "metadata": {},
   "outputs": [],
   "source": [
    "%%nbtutor -r -d 5\n",
    "\n",
    "def the_sum_3(L):\n",
    "    if not L:\n",
    "        return 0\n",
    "    if len(L) == 1:\n",
    "        return L[0]\n",
    "    return the_sum_3(L[: len(L) // 2]) + the_sum_3(L[len(L) // 2: ])\n",
    "\n",
    "the_sum_3([2, 4, 6, 8])"
   ]
  },
  {
   "cell_type": "code",
   "execution_count": null,
   "metadata": {},
   "outputs": [],
   "source": [
    "def fibo(N):\n",
    "    if N < 2:\n",
    "        return N\n",
    "    return fibo(N - 1) + fibo(N - 2)\n",
    "\n",
    "fibo(40)"
   ]
  },
  {
   "cell_type": "code",
   "execution_count": null,
   "metadata": {},
   "outputs": [],
   "source": [
    "def fibo(N):\n",
    "    if N < 2:\n",
    "        return N\n",
    "    i = 2\n",
    "    previous, current = 0, 1\n",
    "    while i <= N:\n",
    "        previous, current = current, previous + current\n",
    "        i += 1\n",
    "    return current\n",
    "\n",
    "fibo(4000)"
   ]
  },
  {
   "cell_type": "code",
   "execution_count": null,
   "metadata": {},
   "outputs": [],
   "source": [
    "def memoise_fibo(N, results = {0: 0, 1: 1}):\n",
    "    if N not in results:\n",
    "        results[N] = memoise_fibo(N - 1, results) +\\\n",
    "                            memoise_fibo(N - 2, results)\n",
    "    return results[N]\n",
    "\n",
    "\n",
    "memoise_fibo(400)"
   ]
  },
  {
   "cell_type": "code",
   "execution_count": null,
   "metadata": {},
   "outputs": [],
   "source": [
    "def hanoi(N, start, spare, finish):\n",
    "    if N == 1:\n",
    "        print(f'Move disk from position {start} to position {finish}')\n",
    "    else:\n",
    "        hanoi(N - 1, start, spare, finish)\n",
    "        print(f'Move disk from position {start} to position {finish}')\n",
    "        hanoi(N - 1, spare, finish, start)\n",
    "        \n",
    "hanoi(4, 'A', 'B', 'C')\n",
    "        "
   ]
  },
  {
   "cell_type": "code",
   "execution_count": 38,
   "metadata": {},
   "outputs": [
    {
     "data": {
      "text/plain": [
       "<generator object f at 0x1079d4d58>"
      ]
     },
     "execution_count": 38,
     "metadata": {},
     "output_type": "execute_result"
    }
   ],
   "source": [
    "def f():\n",
    "    yield 0\n",
    "    yield 1\n",
    "    yield 2\n",
    "    \n",
    "f()"
   ]
  },
  {
   "cell_type": "code",
   "execution_count": 39,
   "metadata": {},
   "outputs": [
    {
     "ename": "StopIteration",
     "evalue": "",
     "output_type": "error",
     "traceback": [
      "\u001b[0;31m---------------------------------------------------------------------------\u001b[0m",
      "\u001b[0;31mStopIteration\u001b[0m                             Traceback (most recent call last)",
      "\u001b[0;32m<ipython-input-39-99e4590ea122>\u001b[0m in \u001b[0;36m<module>\u001b[0;34m()\u001b[0m\n\u001b[1;32m      5\u001b[0m \u001b[0;34m\u001b[0m\u001b[0m\n\u001b[1;32m      6\u001b[0m \u001b[0mF\u001b[0m \u001b[0;34m=\u001b[0m \u001b[0mf\u001b[0m\u001b[0;34m(\u001b[0m\u001b[0;34m)\u001b[0m\u001b[0;34m\u001b[0m\u001b[0m\n\u001b[0;32m----> 7\u001b[0;31m \u001b[0mnext\u001b[0m\u001b[0;34m(\u001b[0m\u001b[0mF\u001b[0m\u001b[0;34m)\u001b[0m\u001b[0;34m,\u001b[0m \u001b[0mnext\u001b[0m\u001b[0;34m(\u001b[0m\u001b[0mF\u001b[0m\u001b[0;34m)\u001b[0m\u001b[0;34m,\u001b[0m \u001b[0mnext\u001b[0m\u001b[0;34m(\u001b[0m\u001b[0mF\u001b[0m\u001b[0;34m)\u001b[0m\u001b[0;34m,\u001b[0m \u001b[0mnext\u001b[0m\u001b[0;34m(\u001b[0m\u001b[0mF\u001b[0m\u001b[0;34m)\u001b[0m\u001b[0;34m\u001b[0m\u001b[0m\n\u001b[0m",
      "\u001b[0;31mStopIteration\u001b[0m: "
     ]
    }
   ],
   "source": [
    "def f():\n",
    "    yield 0\n",
    "    yield 1\n",
    "    yield 2\n",
    "    \n",
    "F = f()\n",
    "next(F), next(F), next(F), next(F)"
   ]
  },
  {
   "cell_type": "code",
   "execution_count": 40,
   "metadata": {},
   "outputs": [
    {
     "data": {
      "text/plain": [
       "(0, 1, 2)"
      ]
     },
     "execution_count": 40,
     "metadata": {},
     "output_type": "execute_result"
    }
   ],
   "source": [
    "def f():\n",
    "    yield 0\n",
    "    yield 1\n",
    "    yield 2\n",
    "    \n",
    "F = f()\n",
    "next(F), next(F), next(F)"
   ]
  },
  {
   "cell_type": "code",
   "execution_count": 45,
   "metadata": {},
   "outputs": [
    {
     "name": "stdout",
     "output_type": "stream",
     "text": [
      "Hi\n",
      "Hi again\n",
      "Hi always\n",
      "Bye\n"
     ]
    },
    {
     "ename": "StopIteration",
     "evalue": "",
     "output_type": "error",
     "traceback": [
      "\u001b[0;31m---------------------------------------------------------------------------\u001b[0m",
      "\u001b[0;31mStopIteration\u001b[0m                             Traceback (most recent call last)",
      "\u001b[0;32m<ipython-input-45-3f06b1ed5eef>\u001b[0m in \u001b[0;36m<module>\u001b[0;34m()\u001b[0m\n\u001b[1;32m     10\u001b[0m \u001b[0;34m\u001b[0m\u001b[0m\n\u001b[1;32m     11\u001b[0m \u001b[0mF\u001b[0m \u001b[0;34m=\u001b[0m \u001b[0mf\u001b[0m\u001b[0;34m(\u001b[0m\u001b[0;34m)\u001b[0m\u001b[0;34m\u001b[0m\u001b[0m\n\u001b[0;32m---> 12\u001b[0;31m \u001b[0mnext\u001b[0m\u001b[0;34m(\u001b[0m\u001b[0mF\u001b[0m\u001b[0;34m)\u001b[0m\u001b[0;34m,\u001b[0m \u001b[0mnext\u001b[0m\u001b[0;34m(\u001b[0m\u001b[0mF\u001b[0m\u001b[0;34m)\u001b[0m\u001b[0;34m,\u001b[0m \u001b[0mnext\u001b[0m\u001b[0;34m(\u001b[0m\u001b[0mF\u001b[0m\u001b[0;34m)\u001b[0m\u001b[0;34m,\u001b[0m \u001b[0mnext\u001b[0m\u001b[0;34m(\u001b[0m\u001b[0mF\u001b[0m\u001b[0;34m)\u001b[0m\u001b[0;34m\u001b[0m\u001b[0m\n\u001b[0m",
      "\u001b[0;31mStopIteration\u001b[0m: "
     ]
    }
   ],
   "source": [
    "def f():\n",
    "    print('Hi')\n",
    "    yield 0\n",
    "    print('Hi again')\n",
    "    yield 1\n",
    "    print('Hi always')\n",
    "    yield 2\n",
    "    print('Bye')\n",
    "\n",
    "    \n",
    "F = f()\n",
    "next(F), next(F), next(F), next(F)"
   ]
  },
  {
   "cell_type": "code",
   "execution_count": 46,
   "metadata": {},
   "outputs": [
    {
     "name": "stdout",
     "output_type": "stream",
     "text": [
      "Hi\n",
      "0\n",
      "Hi again\n",
      "1\n",
      "Hi always\n",
      "2\n",
      "Bye\n"
     ]
    }
   ],
   "source": [
    "def f():\n",
    "    print('Hi')\n",
    "    yield 0\n",
    "    print('Hi again')\n",
    "    yield 1\n",
    "    print('Hi always')\n",
    "    yield 2\n",
    "    print('Bye')\n",
    "\n",
    "    \n",
    "F = f()\n",
    "while True:\n",
    "    try:\n",
    "        print(next(F))\n",
    "    except StopIteration:\n",
    "        break"
   ]
  },
  {
   "cell_type": "code",
   "execution_count": 47,
   "metadata": {},
   "outputs": [
    {
     "data": {
      "text/plain": [
       "range(2, 4)"
      ]
     },
     "execution_count": 47,
     "metadata": {},
     "output_type": "execute_result"
    }
   ],
   "source": [
    "range(2, 4)"
   ]
  },
  {
   "cell_type": "code",
   "execution_count": 49,
   "metadata": {},
   "outputs": [
    {
     "data": {
      "text/plain": [
       "(2, 3, 5, 7)"
      ]
     },
     "execution_count": 49,
     "metadata": {},
     "output_type": "execute_result"
    }
   ],
   "source": [
    "from math import sqrt\n",
    "\n",
    "def primes(N):\n",
    "    for p in range(2, N + 1):\n",
    "        for d in range(2, round(sqrt(p)) + 1):\n",
    "            if p % d == 0:\n",
    "                break\n",
    "        else:\n",
    "            yield p\n",
    "            \n",
    "P = primes(100)\n",
    "next(P), next(P), next(P), next(P)"
   ]
  },
  {
   "cell_type": "code",
   "execution_count": 51,
   "metadata": {},
   "outputs": [
    {
     "name": "stdout",
     "output_type": "stream",
     "text": [
      "2 3 5 7 11 13 17 19 23 29 31 37 41 43 47 53 59 61 67 71 73 79 83 89 97 "
     ]
    }
   ],
   "source": [
    "from math import sqrt\n",
    "\n",
    "def primes(N):\n",
    "    for p in range(2, N + 1):\n",
    "        for d in range(2, round(sqrt(p)) + 1):\n",
    "            if p % d == 0:\n",
    "                break\n",
    "        else:\n",
    "            yield p\n",
    "            \n",
    "P = primes(100)\n",
    "while True:\n",
    "    try:\n",
    "        print(next(P), end = ' ')\n",
    "    except StopIteration:\n",
    "        break"
   ]
  },
  {
   "cell_type": "code",
   "execution_count": 57,
   "metadata": {},
   "outputs": [
    {
     "data": {
      "text/plain": [
       "(1, 2, 3, 3, 4, 5)"
      ]
     },
     "execution_count": 57,
     "metadata": {},
     "output_type": "execute_result"
    }
   ],
   "source": [
    "def f(n):\n",
    "    for i in range(n, 2 * n):\n",
    "        yield i\n",
    "        \n",
    "def g(n):\n",
    "    for i in range(n):\n",
    "        for e in f(i):\n",
    "            yield e\n",
    "            \n",
    "G = g(4)\n",
    "next(G), next(G), next(G), next(G), next(G), next(G)"
   ]
  },
  {
   "cell_type": "code",
   "execution_count": 59,
   "metadata": {},
   "outputs": [
    {
     "data": {
      "text/plain": [
       "(1, 2, 3, 3, 4, 5)"
      ]
     },
     "execution_count": 59,
     "metadata": {},
     "output_type": "execute_result"
    }
   ],
   "source": [
    "def f(n):\n",
    "    for i in range(n, 2 * n):\n",
    "        yield i\n",
    "        \n",
    "def g(n):\n",
    "    for i in range(n):\n",
    "        yield from f(i)\n",
    "            \n",
    "G = g(4)\n",
    "next(G), next(G), next(G), next(G), next(G), next(G)"
   ]
  },
  {
   "cell_type": "code",
   "execution_count": 64,
   "metadata": {},
   "outputs": [
    {
     "name": "stdout",
     "output_type": "stream",
     "text": [
      "[0, 1, 2, 3]\n",
      "[0, 1, 3, 2]\n",
      "[0, 2, 1, 3]\n",
      "[0, 2, 3, 1]\n",
      "[0, 3, 2, 1]\n",
      "[0, 3, 1, 2]\n",
      "[1, 0, 2, 3]\n",
      "[1, 0, 3, 2]\n",
      "[1, 2, 0, 3]\n",
      "[1, 2, 3, 0]\n",
      "[1, 3, 2, 0]\n",
      "[1, 3, 0, 2]\n",
      "[2, 1, 0, 3]\n",
      "[2, 1, 3, 0]\n",
      "[2, 0, 1, 3]\n",
      "[2, 0, 3, 1]\n",
      "[2, 3, 0, 1]\n",
      "[2, 3, 1, 0]\n",
      "[3, 1, 2, 0]\n",
      "[3, 1, 0, 2]\n",
      "[3, 2, 1, 0]\n",
      "[3, 2, 0, 1]\n",
      "[3, 0, 2, 1]\n",
      "[3, 0, 1, 2]\n"
     ]
    }
   ],
   "source": [
    "def permute(L):\n",
    "    if len(L) <= 1:\n",
    "        yield L\n",
    "    else:\n",
    "        for i in range(len(L)):\n",
    "            L1 = list(L)\n",
    "            L1[0], L1[i] = L1[i], L1[0]\n",
    "            for e in permute(L1[1: ]):\n",
    "                yield [L1[0]] + e\n",
    " \n",
    "P = permute(list(range(4)))\n",
    "while True:\n",
    "    try:\n",
    "        print(next(P))\n",
    "    except StopIteration:\n",
    "        break\n",
    "    \n",
    "    "
   ]
  },
  {
   "cell_type": "code",
   "execution_count": 67,
   "metadata": {},
   "outputs": [
    {
     "name": "stdout",
     "output_type": "stream",
     "text": [
      "(0, 1, 2, 3)\n",
      "(0, 1, 3, 2)\n",
      "(0, 2, 1, 3)\n",
      "(0, 2, 3, 1)\n",
      "(0, 3, 1, 2)\n",
      "(0, 3, 2, 1)\n",
      "(1, 0, 2, 3)\n",
      "(1, 0, 3, 2)\n",
      "(1, 2, 0, 3)\n",
      "(1, 2, 3, 0)\n",
      "(1, 3, 0, 2)\n",
      "(1, 3, 2, 0)\n",
      "(2, 0, 1, 3)\n",
      "(2, 0, 3, 1)\n",
      "(2, 1, 0, 3)\n",
      "(2, 1, 3, 0)\n",
      "(2, 3, 0, 1)\n",
      "(2, 3, 1, 0)\n",
      "(3, 0, 1, 2)\n",
      "(3, 0, 2, 1)\n",
      "(3, 1, 0, 2)\n",
      "(3, 1, 2, 0)\n",
      "(3, 2, 0, 1)\n",
      "(3, 2, 1, 0)\n"
     ]
    }
   ],
   "source": [
    "from itertools import permutations\n",
    "\n",
    "P = permutations(list(range(4)))\n",
    "for p in P:\n",
    "    print(p)"
   ]
  }
 ],
 "metadata": {
  "celltoolbar": "Visualize",
  "kernelspec": {
   "display_name": "Python 3",
   "language": "python",
   "name": "python3"
  },
  "language_info": {
   "codemirror_mode": {
    "name": "ipython",
    "version": 3
   },
   "file_extension": ".py",
   "mimetype": "text/x-python",
   "name": "python",
   "nbconvert_exporter": "python",
   "pygments_lexer": "ipython3",
   "version": "3.6.2"
  }
 },
 "nbformat": 4,
 "nbformat_minor": 2
}
