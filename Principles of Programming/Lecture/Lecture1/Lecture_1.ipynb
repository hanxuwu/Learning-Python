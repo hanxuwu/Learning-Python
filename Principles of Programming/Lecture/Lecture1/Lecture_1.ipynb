{
 "cells": [
  {
   "cell_type": "code",
   "execution_count": null,
   "metadata": {},
   "outputs": [],
   "source": [
    "with open('division_by_2.txt') as f:\n",
    "    for line in f:\n",
    "        print(line)"
   ]
  },
  {
   "cell_type": "code",
   "execution_count": null,
   "metadata": {},
   "outputs": [],
   "source": [
    "with open('division_by_2.txt') as f:\n",
    "    for line in f:\n",
    "        print(line, end ='')"
   ]
  },
  {
   "cell_type": "code",
   "execution_count": null,
   "metadata": {},
   "outputs": [],
   "source": [
    "line = 'del1 1 del2 0 R\\n'\n",
    "line.split()"
   ]
  },
  {
   "cell_type": "code",
   "execution_count": null,
   "metadata": {},
   "outputs": [],
   "source": [
    "line = 'abc*defg***hk'\n",
    "line.split('*')"
   ]
  },
  {
   "cell_type": "code",
   "execution_count": null,
   "metadata": {},
   "outputs": [],
   "source": [
    "with open('division_by_2.txt') as f:\n",
    "    for line in f:\n",
    "        print(line.split())"
   ]
  },
  {
   "cell_type": "code",
   "execution_count": null,
   "metadata": {},
   "outputs": [],
   "source": [
    "english_to_german = {}\n",
    "english_to_german['table'] = 'Tish'\n",
    "english_to_german"
   ]
  },
  {
   "cell_type": "code",
   "execution_count": null,
   "metadata": {},
   "outputs": [],
   "source": [
    "english_to_german = {}\n",
    "english_to_german['table'] = 'Tish'\n",
    "english_to_german['plate'] = 'Teller'\n",
    "english_to_german['tap'] = 'Hahn'\n",
    "english_to_german['rooster'] = 'Hahn'\n",
    "english_to_german['plate']"
   ]
  },
  {
   "cell_type": "code",
   "execution_count": null,
   "metadata": {},
   "outputs": [],
   "source": [
    "english_to_german = {}\n",
    "english_to_german['table'] = 'Tish'\n",
    "english_to_german['plate'] = 'Teller'\n",
    "english_to_german['tap'] = 'Hahn'\n",
    "english_to_german['rooster'] = 'Hahn'\n",
    "for english_word in english_to_german:\n",
    "    if english_to_german[english_word] == 'Hahn':\n",
    "        print(english_word)"
   ]
  },
  {
   "cell_type": "code",
   "execution_count": null,
   "metadata": {},
   "outputs": [],
   "source": [
    "L = [12, 15, 18]\n",
    "a, b, c = L\n",
    "b"
   ]
  },
  {
   "cell_type": "code",
   "execution_count": null,
   "metadata": {},
   "outputs": [],
   "source": [
    "L = [12, 15, 18]\n",
    "#a, b = L\n",
    "b"
   ]
  },
  {
   "cell_type": "code",
   "execution_count": null,
   "metadata": {},
   "outputs": [],
   "source": [
    "L = [12, 15, 18]\n",
    "#a, b, c, d = L\n",
    "b"
   ]
  },
  {
   "cell_type": "code",
   "execution_count": null,
   "metadata": {},
   "outputs": [],
   "source": [
    "with open('division_by_2.txt') as f:\n",
    "    for line in f:\n",
    "        state_1, bit_1, state_2, bit_2, direction = line.split()\n",
    "        print(state_1, state_2)"
   ]
  },
  {
   "cell_type": "code",
   "execution_count": null,
   "metadata": {},
   "outputs": [],
   "source": [
    "instructions = {}\n",
    "\n",
    "with open('division_by_2.txt') as f:\n",
    "    for line in f:\n",
    "        state_1, bit_1, state_2, bit_2, direction = line.split()\n",
    "        instructions[state_1, bit_1] = state_2, bit_2, direction\n",
    "instructions"
   ]
  },
  {
   "cell_type": "code",
   "execution_count": null,
   "metadata": {},
   "outputs": [],
   "source": [
    "instructions = {}\n",
    "\n",
    "with open('division_by_2.txt') as f:\n",
    "    for line in f:\n",
    "        state_1, bit_1, state_2, bit_2, direction = line.split()\n",
    "        instructions[state_1, bit_1] = state_2, bit_2, direction\n",
    "for key in instructions:\n",
    "    print(key, '-->', instructions[key])"
   ]
  },
  {
   "cell_type": "code",
   "execution_count": null,
   "metadata": {},
   "outputs": [],
   "source": [
    "tape = [0] * 3 + [1] * 7 + [0] * 6\n",
    "tape"
   ]
  },
  {
   "cell_type": "code",
   "execution_count": null,
   "metadata": {},
   "outputs": [],
   "source": [
    "tape[0], tape[1], tape[2], tape[3], tape[4]"
   ]
  },
  {
   "cell_type": "code",
   "execution_count": null,
   "metadata": {},
   "outputs": [],
   "source": [
    "current_state = 'del1'\n",
    "current_position = 3\n",
    "current_bit = tape[current_position]\n",
    "print(current_position, current_bit)"
   ]
  },
  {
   "cell_type": "code",
   "execution_count": null,
   "metadata": {
    "collapsed": true
   },
   "outputs": [],
   "source": [
    "instructions = {}\n",
    "\n",
    "with open('division_by_2.txt') as f:\n",
    "    for line in f:\n",
    "        state_1, bit_1, state_2, bit_2, direction = line.split()\n",
    "        instructions[state_1, bit_1] = state_2, bit_2, direction\n",
    "\n",
    "tape = [0] * 3 + [1] * 7 + [0] * 6\n",
    "\n",
    "current_state = 'del1'\n",
    "current_position = 3\n",
    "current_bit = tape[current_position]\n",
    "\n",
    "while (current_state, current_bit) in instructions:\n",
    "    next_state, new_bit, direction = instructions[current_state, current_bit]\n",
    "    print(next_state, new_bit, direction)"
   ]
  },
  {
   "cell_type": "code",
   "execution_count": null,
   "metadata": {},
   "outputs": [],
   "source": [
    "instructions = {}\n",
    "\n",
    "with open('division_by_2.txt') as f:\n",
    "    for line in f:\n",
    "        state_1, bit_1, state_2, bit_2, direction = line.split()\n",
    "        instructions[state_1, int(bit_1)] = state_2, int(bit_2), direction\n",
    "for key in instructions:\n",
    "    print(key, '-->', instructions[key])"
   ]
  },
  {
   "cell_type": "code",
   "execution_count": null,
   "metadata": {},
   "outputs": [],
   "source": [
    "instructions = {}\n",
    "\n",
    "with open('division_by_2.txt') as f:\n",
    "    for line in f:\n",
    "        state_1, bit_1, state_2, bit_2, direction = line.split()\n",
    "        instructions[state_1, int(bit_1)] = state_2, int(bit_2), direction\n",
    "\n",
    "tape = [0] * 3 + [1] * 7 + [0] * 6\n",
    "\n",
    "current_state = 'del1'\n",
    "current_position = 3\n",
    "current_bit = tape[current_position]\n",
    "\n",
    "print(tape)\n",
    "while (current_state, current_bit) in instructions:\n",
    "    next_state, new_bit, direction = instructions[current_state, current_bit]\n",
    "    tape[current_position] = new_bit\n",
    "    current_state = next_state\n",
    "    if direction == 'R':\n",
    "        current_position += 1\n",
    "    else:\n",
    "        current_position -= 1\n",
    "    current_bit = tape[current_position]\n",
    "    print(tape)\n",
    "\n",
    "    "
   ]
  },
  {
   "cell_type": "code",
   "execution_count": null,
   "metadata": {},
   "outputs": [],
   "source": [
    "instructions = {}\n",
    "\n",
    "def print_tape():\n",
    "    print(' '.join(str(e) for e in tape))\n",
    "    \n",
    "def print_state():\n",
    "    print('  ' * current_position, current_state)\n",
    "    \n",
    "def print_tape_and_state():\n",
    "    print_tape()\n",
    "    print_state()\n",
    "\n",
    "with open('division_by_2.txt') as f:\n",
    "    for line in f:\n",
    "        state_1, bit_1, state_2, bit_2, direction = line.split()\n",
    "        instructions[state_1, int(bit_1)] = state_2, int(bit_2), direction\n",
    "\n",
    "tape = [0] * 3 + [1] * 7 + [0] * 6\n",
    "\n",
    "current_state = 'del1'\n",
    "current_position = 3\n",
    "current_bit = tape[current_position]\n",
    "\n",
    "print_tape_and_state()\n",
    "while (current_state, current_bit) in instructions:\n",
    "    next_state, new_bit, direction = instructions[current_state, current_bit]\n",
    "    tape[current_position] = new_bit\n",
    "    current_state = next_state\n",
    "    if direction == 'R':\n",
    "        current_position += 1\n",
    "    else:\n",
    "        current_position -= 1\n",
    "    current_bit = tape[current_position]\n",
    "    print_tape_and_state()\n",
    "\n",
    "    "
   ]
  },
  {
   "cell_type": "code",
   "execution_count": null,
   "metadata": {},
   "outputs": [],
   "source": [
    "instructions = {}\n",
    "\n",
    "def print_tape():\n",
    "    print(' '.join(str(e) for e in tape))\n",
    "    \n",
    "def print_state():\n",
    "    print('  ' * current_position, current_state, sep = '')\n",
    "    \n",
    "def print_tape_and_state():\n",
    "    print_tape()\n",
    "    print_state()\n",
    "\n",
    "with open('division_by_2.txt') as f:\n",
    "    for line in f:\n",
    "        state_1, bit_1, state_2, bit_2, direction = line.split()\n",
    "        instructions[state_1, int(bit_1)] = state_2, int(bit_2), direction\n",
    "\n",
    "tape = [0] * 3 + [1] * 7 + [0] * 6\n",
    "\n",
    "current_state = 'del1'\n",
    "current_position = 3\n",
    "current_bit = tape[current_position]\n",
    "\n",
    "print_tape_and_state()\n",
    "while (current_state, current_bit) in instructions:\n",
    "    next_state, new_bit, direction = instructions[current_state, current_bit]\n",
    "    tape[current_position] = new_bit\n",
    "    current_state = next_state\n",
    "    if direction == 'R':\n",
    "        current_position += 1\n",
    "    else:\n",
    "        current_position -= 1\n",
    "    current_bit = tape[current_position]\n",
    "    print_tape_and_state()\n",
    "\n"
   ]
  },
  {
   "cell_type": "code",
   "execution_count": null,
   "metadata": {},
   "outputs": [],
   "source": [
    "instructions = {}\n",
    "\n",
    "def print_tape():\n",
    "    print(' '.join(str(e) for e in tape))\n",
    "    \n",
    "def print_state():\n",
    "    print('  ' * current_position, current_state, sep = '')\n",
    "    \n",
    "def print_tape_and_state():\n",
    "    print_tape()\n",
    "    print_state()\n",
    "\n",
    "with open('division_by_2.txt') as f:\n",
    "    for line in f:\n",
    "        state_1, bit_1, state_2, bit_2, direction = line.split()\n",
    "        instructions[state_1, int(bit_1)] = state_2, int(bit_2), direction\n",
    "\n",
    "tape = [0] * 3 + [1] * 7 + [0] * 6\n",
    "\n",
    "current_state = 'del1'\n",
    "current_position = 3\n",
    "current_bit = tape[current_position]\n",
    "\n",
    "print_tape_and_state()\n",
    "while (current_state, current_bit) in instructions:\n",
    "    next_state, new_bit, direction = instructions[current_state, current_bit]\n",
    "    tape[current_position] = new_bit\n",
    "    current_state = next_state\n",
    "    current_position += (direction == 'R') * 2 - 1\n",
    "    current_bit = tape[current_position]\n",
    "    print_tape_and_state()\n",
    "\n",
    "\n"
   ]
  },
  {
   "cell_type": "code",
   "execution_count": null,
   "metadata": {},
   "outputs": [],
   "source": [
    "L = ['abc', 'de', 'fghi']\n",
    "'*+*'.join(L)"
   ]
  },
  {
   "cell_type": "code",
   "execution_count": null,
   "metadata": {},
   "outputs": [],
   "source": [
    "L = [0, 1, 1, 0, 0]' '.join(str(e) for e in L)"
   ]
  },
  {
   "cell_type": "code",
   "execution_count": null,
   "metadata": {
    "collapsed": true
   },
   "outputs": [],
   "source": [
    "units = {'thousand': 10**3, 'million': 10**6, 'billion': 10**9}\n",
    "\n",
    "# thousand/million/billion\n",
    "s = '   $123.67 million '\n",
    "\n",
    "units['million']"
   ]
  },
  {
   "cell_type": "code",
   "execution_count": null,
   "metadata": {
    "collapsed": true
   },
   "outputs": [],
   "source": [
    "units = {'thousand': 10**3, 'million': 10**6, 'billion': 10**9}\n",
    "\n",
    "# thousand/million/billion\n",
    "s = '   $123.67 million '\n",
    "\n",
    "for unit in units:\n",
    "    if unit in s:\n",
    "        s = s.rstrip(unit)\n",
    "print(s)"
   ]
  },
  {
   "cell_type": "code",
   "execution_count": null,
   "metadata": {
    "collapsed": true
   },
   "outputs": [],
   "source": [
    "units = {'thousand': 10**3, 'million': 10**6, 'billion': 10**9}\n",
    "\n",
    "# thousand/million/billion\n",
    "s = '   $123.67 million '\n",
    "\n",
    "for unit in units:\n",
    "    if unit in s:\n",
    "        s = s.strip().rstrip(unit)\n",
    "print(s)"
   ]
  },
  {
   "cell_type": "code",
   "execution_count": null,
   "metadata": {
    "collapsed": true
   },
   "outputs": [],
   "source": [
    "units = {'thousand': 10**3, 'million': 10**6, 'billion': 10**9}\n",
    "\n",
    "# thousand/million/billion\n",
    "s = '   $123.67 million '\n",
    "\n",
    "for unit in units:\n",
    "    if unit in s:\n",
    "        s = s.strip().rstrip(unit).lstrip('$')\n",
    "print(s)"
   ]
  },
  {
   "cell_type": "code",
   "execution_count": null,
   "metadata": {
    "collapsed": true
   },
   "outputs": [],
   "source": [
    "units = {'thousand': 10**3, 'million': 10**6, 'billion': 10**9}\n",
    "\n",
    "# thousand/million/billion\n",
    "s = '   $123.67 million '\n",
    "\n",
    "for unit in units:\n",
    "    if unit in s:\n",
    "        x = float(s.strip().rstrip(unit).lstrip('$'))\n",
    "print(x)"
   ]
  },
  {
   "cell_type": "code",
   "execution_count": null,
   "metadata": {
    "collapsed": true
   },
   "outputs": [],
   "source": [
    "units = {'thousand': 10**3, 'million': 10**6, 'billion': 10**9}\n",
    "\n",
    "# thousand/million/billion\n",
    "s = '   $123.67 million '\n",
    "\n",
    "for unit in units:\n",
    "    if unit in s:\n",
    "        x = float(s.strip().rstrip(unit).lstrip('$')) * units[unit]\n",
    "print(x)"
   ]
  },
  {
   "cell_type": "code",
   "execution_count": null,
   "metadata": {
    "collapsed": true
   },
   "outputs": [],
   "source": [
    "units = {'thousand': 10**3, 'million': 10**6, 'billion': 10**9}\n",
    "\n",
    "# thousand/million/billion\n",
    "s = '   $123.67 million '\n",
    "\n",
    "for unit in units:\n",
    "    if unit in s:\n",
    "        x = int(float(s.strip().rstrip(unit).lstrip('$')) * units[unit])\n",
    "print(x)"
   ]
  },
  {
   "cell_type": "code",
   "execution_count": null,
   "metadata": {
    "collapsed": true
   },
   "outputs": [],
   "source": [
    "x = '   123.345   '\n",
    "float(x)"
   ]
  },
  {
   "cell_type": "code",
   "execution_count": null,
   "metadata": {
    "collapsed": true
   },
   "outputs": [],
   "source": [
    "L = [10, 23, 67, 98]\n",
    "for number, value in enumerate(L):\n",
    "    print(number, value)"
   ]
  },
  {
   "cell_type": "code",
   "execution_count": null,
   "metadata": {
    "collapsed": true
   },
   "outputs": [],
   "source": [
    "L = [10, 23, 67, 98]\n",
    "for number, value in enumerate(L, 2):\n",
    "    print(number, value)"
   ]
  }
 ],
 "metadata": {
  "kernelspec": {
   "display_name": "Python 3",
   "language": "python",
   "name": "python3"
  },
  "language_info": {
   "codemirror_mode": {
    "name": "ipython",
    "version": 3
   },
   "file_extension": ".py",
   "mimetype": "text/x-python",
   "name": "python",
   "nbconvert_exporter": "python",
   "pygments_lexer": "ipython3",
   "version": "3.6.2"
  }
 },
 "nbformat": 4,
 "nbformat_minor": 2
}
