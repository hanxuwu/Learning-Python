{
 "cells": [
  {
   "cell_type": "code",
   "execution_count": null,
   "metadata": {},
   "outputs": [],
   "source": [
    "from collections import deque\n",
    "\n",
    "D = deque()\n",
    "D.append(5)\n",
    "print(D)\n",
    "D.append(11)\n",
    "print(D)\n",
    "D.append(23)\n",
    "print(D)\n",
    "print(D.popleft())\n",
    "print(D)\n",
    "print(D.popleft())\n",
    "print(D)\n",
    "D.append(100)\n",
    "print(D)\n",
    "\n",
    "\n",
    "\n",
    "\n",
    "\n",
    "\n"
   ]
  },
  {
   "cell_type": "code",
   "execution_count": null,
   "metadata": {},
   "outputs": [],
   "source": [
    "from random import randint\n",
    "\n",
    "nb_of_heads = 0\n",
    "for _ in range(50):\n",
    "    outcome = randint(0, 1)\n",
    "    if outcome == 1:\n",
    "        nb_of_heads += 1\n",
    "        \n",
    "nb_of_heads"
   ]
  },
  {
   "cell_type": "code",
   "execution_count": null,
   "metadata": {},
   "outputs": [],
   "source": [
    "sum(randint(0, 1) for _ in range(52))"
   ]
  },
  {
   "cell_type": "code",
   "execution_count": null,
   "metadata": {},
   "outputs": [],
   "source": [
    "deck = list(range(52))\n",
    "deck"
   ]
  },
  {
   "cell_type": "code",
   "execution_count": null,
   "metadata": {},
   "outputs": [],
   "source": [
    "deck = list(range(52))\n",
    "cut = sum(randint(0, 1) for _ in range(52))\n",
    "\n",
    "new_deck = [None] * 52\n",
    "i1 = 0\n",
    "i2 = cut\n",
    "i = 0\n",
    "nb_of_cards_left = 52\n",
    "while i1 < cut and i2 < 52:\n",
    "    if randint(0, nb_of_cards_left - 1) < cut - i1:\n",
    "        new_deck[i] = deck[i1]\n",
    "        i1 += 1\n",
    "    else:\n",
    "        new_deck[i] = deck[i2]\n",
    "        i2 += 1\n",
    "    i += 1\n",
    "    nb_of_cards_left -= 1\n",
    "if i1 == cut:\n",
    "    new_deck[i: ] = deck[i2: ]\n",
    "else:\n",
    "    new_deck[i: ] = deck[i1: cut]\n",
    "print(new_deck)\n",
    "\n",
    "\n"
   ]
  },
  {
   "cell_type": "code",
   "execution_count": null,
   "metadata": {},
   "outputs": [],
   "source": [
    "L = [[0] * 3]\n",
    "L\n",
    "#L[2][0] = 7\n",
    "#L"
   ]
  },
  {
   "cell_type": "code",
   "execution_count": null,
   "metadata": {},
   "outputs": [],
   "source": [
    "L = [[0]] * 3\n",
    "L\n",
    "L[2][0] = 7\n",
    "print(L)"
   ]
  },
  {
   "cell_type": "code",
   "execution_count": null,
   "metadata": {
    "collapsed": true
   },
   "outputs": [],
   "source": []
  },
  {
   "cell_type": "code",
   "execution_count": null,
   "metadata": {},
   "outputs": [],
   "source": [
    "L = [[0], [0], [0]]\n",
    "L[2][0] = 7\n",
    "L"
   ]
  },
  {
   "cell_type": "code",
   "execution_count": null,
   "metadata": {},
   "outputs": [],
   "source": [
    "L = [[0] for i in range(20)]\n",
    "print(L)\n",
    "L[2][0] = 7\n",
    "print(L)"
   ]
  },
  {
   "cell_type": "code",
   "execution_count": null,
   "metadata": {},
   "outputs": [],
   "source": [
    "def print_grid():\n",
    "    for i in range(20):\n",
    "        print(grid[i])\n",
    "\n",
    "grid = [[0] * 20] * 20\n",
    "print_grid()"
   ]
  },
  {
   "cell_type": "code",
   "execution_count": null,
   "metadata": {},
   "outputs": [],
   "source": [
    "def print_grid():\n",
    "    for i in range(20):\n",
    "        print(grid[i])\n",
    "\n",
    "grid = [[0] * 20] * 20\n",
    "print_grid()"
   ]
  },
  {
   "cell_type": "code",
   "execution_count": null,
   "metadata": {},
   "outputs": [],
   "source": [
    "def print_grid():\n",
    "    for i in range(20):\n",
    "        for j in range(20):\n",
    "            print(grid[i][j], end = ' ')\n",
    "        print()\n",
    "\n",
    "grid = [[0] * 20] * 20\n",
    "print_grid()"
   ]
  },
  {
   "cell_type": "code",
   "execution_count": null,
   "metadata": {},
   "outputs": [],
   "source": [
    "def print_grid():\n",
    "    for i in range(20):\n",
    "        print(' '.join(str(e) for e in grid[i]))\n",
    "\n",
    "grid = [[0] * 20] * 20\n",
    "print_grid()"
   ]
  },
  {
   "cell_type": "code",
   "execution_count": null,
   "metadata": {},
   "outputs": [],
   "source": [
    "from random import randrange\n",
    "\n",
    "def print_grid():\n",
    "    for i in range(20):\n",
    "        print(' '.join(str(e) for e in grid[i]))\n",
    "        \n",
    "def initialise_grid():\n",
    "    for i in range(20):\n",
    "        for j in range(20):\n",
    "            if randrange(0, 10) == 0:\n",
    "                grid[i][j] = 1      \n",
    "\n",
    "density = 10cv\n",
    "grid = [[0] * 20] * 20\n",
    "initialise_grid()\n",
    "print_grid()"
   ]
  },
  {
   "cell_type": "code",
   "execution_count": null,
   "metadata": {},
   "outputs": [],
   "source": [
    "from random import randrange\n",
    "\n",
    "def print_grid():\n",
    "    for i in range(20):\n",
    "        print(' '.join(str(e) for e in grid[i]))\n",
    "        \n",
    "def initialise_grid():\n",
    "    for i in range(20):\n",
    "        for j in range(20):\n",
    "            if randrange(0, density) == 0:\n",
    "                grid[i][j] = 1      \n",
    "\n",
    "density = 3\n",
    "grid = [[0] * 20 for _ in range(20)]\n",
    "initialise_grid()\n",
    "print_grid()"
   ]
  },
  {
   "cell_type": "code",
   "execution_count": null,
   "metadata": {},
   "outputs": [],
   "source": [
    "from random import randrange\n",
    "\n",
    "dim = 20\n",
    "\n",
    "def print_grid():\n",
    "    for i in range(1, dim + 1):\n",
    "        print(' '.join(str(e) for e in grid[i]))\n",
    "        \n",
    "def initialise_grid():\n",
    "    for i in range(1, dim + 1):\n",
    "        for j in range(1, dim + 1):\n",
    "            if randrange(0, density) == 0:\n",
    "                grid[i][j] = 1      \n",
    "\n",
    "def update_grid():\n",
    "    global grid\n",
    "    for i in range(1, dim + 1):\n",
    "        for j in range(1, dim + 1):\n",
    "            nb_of_neighbours = sum((grid[i - 1][j - 1], grid[i - 1][j], grid[i - 1][j + 1],\n",
    "                                   grid[i][j - 1], grid[i][j + 1],\n",
    "                                   grid[i + 1][j - 1], grid[i + 1][j], grid[i + 1][j + 1])\n",
    "                                  )\n",
    "            if grid[i][j] and nb_of_neighbours in {2, 3} or\\\n",
    "                    not grid[i][j] and nb_of_neighbours == 3:\n",
    "                new_grid[i][j] = 1\n",
    "    grid = new_grid\n",
    "    \n",
    "        \n",
    "density = 3\n",
    "grid = [[0] * (dim + 2) for _ in range(dim + 2)]\n",
    "initialise_grid()\n",
    "print_grid()\n",
    "print()\n",
    "\n",
    "update_grid()\n",
    "print_grid()\n",
    "\n",
    "new_grid = [[0] * (dim + 2) for _ in range(dim + 2)]"
   ]
  },
  {
   "cell_type": "code",
   "execution_count": null,
   "metadata": {},
   "outputs": [],
   "source": [
    "a = 10\n",
    "\n",
    "def f():\n",
    "    print(a)\n",
    "    \n",
    "f()"
   ]
  },
  {
   "cell_type": "code",
   "execution_count": null,
   "metadata": {},
   "outputs": [],
   "source": [
    "a = 10\n",
    "\n",
    "def f():\n",
    "    a = 20\n",
    "    print(a)\n",
    "    \n",
    "f(), print(a)"
   ]
  },
  {
   "cell_type": "code",
   "execution_count": null,
   "metadata": {},
   "outputs": [],
   "source": [
    "a = 10\n",
    "\n",
    "def f():\n",
    "    global a\n",
    "    a = 20\n",
    "    print(a)\n",
    "    \n",
    "f(), print(a)"
   ]
  },
  {
   "cell_type": "code",
   "execution_count": null,
   "metadata": {},
   "outputs": [],
   "source": [
    "L = [0, 0, 0]\n",
    "\n",
    "def f():\n",
    "    L[0] = 1\n",
    "    print(L)\n",
    "    \n",
    "f(), print(L)"
   ]
  }
 ],
 "metadata": {
  "kernelspec": {
   "display_name": "Python 3",
   "language": "python",
   "name": "python3"
  },
  "language_info": {
   "codemirror_mode": {
    "name": "ipython",
    "version": 3
   },
   "file_extension": ".py",
   "mimetype": "text/x-python",
   "name": "python",
   "nbconvert_exporter": "python",
   "pygments_lexer": "ipython3",
   "version": "3.6.2"
  }
 },
 "nbformat": 4,
 "nbformat_minor": 2
}
