{
 "cells": [
  {
   "cell_type": "code",
   "execution_count": 1,
   "metadata": {},
   "outputs": [
    {
     "ename": "NameError",
     "evalue": "name 'sqrt' is not defined",
     "output_type": "error",
     "traceback": [
      "\u001b[0;31m---------------------------------------------------------------------------\u001b[0m",
      "\u001b[0;31mNameError\u001b[0m                                 Traceback (most recent call last)",
      "\u001b[0;32m<ipython-input-1-718d7f173e1d>\u001b[0m in \u001b[0;36m<module>\u001b[0;34m()\u001b[0m\n\u001b[0;32m----> 1\u001b[0;31m \u001b[0msqrt\u001b[0m\u001b[0;34m(\u001b[0m\u001b[0;36m4\u001b[0m\u001b[0;34m)\u001b[0m\u001b[0;34m\u001b[0m\u001b[0m\n\u001b[0m",
      "\u001b[0;31mNameError\u001b[0m: name 'sqrt' is not defined"
     ]
    }
   ],
   "source": [
    "sqrt(4)"
   ]
  },
  {
   "cell_type": "code",
   "execution_count": 2,
   "metadata": {},
   "outputs": [
    {
     "data": {
      "text/plain": [
       "2.0"
      ]
     },
     "execution_count": 2,
     "metadata": {},
     "output_type": "execute_result"
    }
   ],
   "source": [
    "from math import sqrt\n",
    "sqrt(4)"
   ]
  },
  {
   "cell_type": "code",
   "execution_count": 3,
   "metadata": {},
   "outputs": [
    {
     "data": {
      "text/plain": [
       "3142.6950217926014"
      ]
     },
     "execution_count": 3,
     "metadata": {},
     "output_type": "execute_result"
    }
   ],
   "source": [
    "from math import sqrt\n",
    "\n",
    "N = sqrt(9876532)\n",
    "N\n"
   ]
  },
  {
   "cell_type": "code",
   "execution_count": 4,
   "metadata": {},
   "outputs": [
    {
     "data": {
      "text/plain": [
       "3143"
      ]
     },
     "execution_count": 4,
     "metadata": {},
     "output_type": "execute_result"
    }
   ],
   "source": [
    "from math import sqrt\n",
    "\n",
    "N = round(sqrt(9876532))\n",
    "\n",
    "for a in range(1, N + 1):\n",
    "    x = a * a\n",
    "    for b in range(a + 1, N + 1):\n",
    "        y = b * b\n",
    "        for c in range(b + 1, N + 1):\n",
    "            z = c * c\n",
    "            "
   ]
  },
  {
   "cell_type": "code",
   "execution_count": 5,
   "metadata": {},
   "outputs": [
    {
     "data": {
      "text/plain": [
       "'284'"
      ]
     },
     "execution_count": 5,
     "metadata": {},
     "output_type": "execute_result"
    }
   ],
   "source": [
    "str(284)"
   ]
  },
  {
   "cell_type": "code",
   "execution_count": 6,
   "metadata": {},
   "outputs": [
    {
     "data": {
      "text/plain": [
       "{2, 4, 8}"
      ]
     },
     "execution_count": 6,
     "metadata": {},
     "output_type": "execute_result"
    }
   ],
   "source": [
    "{int(e) for e in str(284)}"
   ]
  },
  {
   "cell_type": "code",
   "execution_count": 7,
   "metadata": {},
   "outputs": [
    {
     "data": {
      "text/plain": [
       "{'2', '4', '8'}"
      ]
     },
     "execution_count": 7,
     "metadata": {},
     "output_type": "execute_result"
    }
   ],
   "source": [
    "set(str(284))"
   ]
  },
  {
   "cell_type": "code",
   "execution_count": 12,
   "metadata": {},
   "outputs": [
    {
     "data": {
      "text/plain": [
       "{'1', '2', '3', '4', '5', '6', '7', '8', '9'}"
      ]
     },
     "execution_count": 12,
     "metadata": {},
     "output_type": "execute_result"
    }
   ],
   "source": [
    "all_digits = {str(i) for i in range(1, 10)}\n",
    "all_digits"
   ]
  },
  {
   "cell_type": "code",
   "execution_count": 14,
   "metadata": {},
   "outputs": [
    {
     "data": {
      "text/plain": [
       "['__and__',\n",
       " '__class__',\n",
       " '__contains__',\n",
       " '__delattr__',\n",
       " '__dir__',\n",
       " '__doc__',\n",
       " '__eq__',\n",
       " '__format__',\n",
       " '__ge__',\n",
       " '__getattribute__',\n",
       " '__gt__',\n",
       " '__hash__',\n",
       " '__iand__',\n",
       " '__init__',\n",
       " '__init_subclass__',\n",
       " '__ior__',\n",
       " '__isub__',\n",
       " '__iter__',\n",
       " '__ixor__',\n",
       " '__le__',\n",
       " '__len__',\n",
       " '__lt__',\n",
       " '__ne__',\n",
       " '__new__',\n",
       " '__or__',\n",
       " '__rand__',\n",
       " '__reduce__',\n",
       " '__reduce_ex__',\n",
       " '__repr__',\n",
       " '__ror__',\n",
       " '__rsub__',\n",
       " '__rxor__',\n",
       " '__setattr__',\n",
       " '__sizeof__',\n",
       " '__str__',\n",
       " '__sub__',\n",
       " '__subclasshook__',\n",
       " '__xor__',\n",
       " 'add',\n",
       " 'clear',\n",
       " 'copy',\n",
       " 'difference',\n",
       " 'difference_update',\n",
       " 'discard',\n",
       " 'intersection',\n",
       " 'intersection_update',\n",
       " 'isdisjoint',\n",
       " 'issubset',\n",
       " 'issuperset',\n",
       " 'pop',\n",
       " 'remove',\n",
       " 'symmetric_difference',\n",
       " 'symmetric_difference_update',\n",
       " 'union',\n",
       " 'update']"
      ]
     },
     "execution_count": 14,
     "metadata": {},
     "output_type": "execute_result"
    }
   ],
   "source": [
    "dir(set)"
   ]
  },
  {
   "cell_type": "code",
   "execution_count": 15,
   "metadata": {},
   "outputs": [
    {
     "name": "stdout",
     "output_type": "stream",
     "text": [
      "Help on method_descriptor:\n",
      "\n",
      "union(...)\n",
      "    Return the union of sets as a new set.\n",
      "    \n",
      "    (i.e. all elements that are in either set.)\n",
      "\n"
     ]
    }
   ],
   "source": [
    "help(set.union)"
   ]
  },
  {
   "cell_type": "code",
   "execution_count": 16,
   "metadata": {},
   "outputs": [
    {
     "data": {
      "text/plain": [
       "{'0', '1', '2', '7', '8', '9'}"
      ]
     },
     "execution_count": 16,
     "metadata": {},
     "output_type": "execute_result"
    }
   ],
   "source": [
    "{'0', '1', '8'} | set(str(279))"
   ]
  },
  {
   "cell_type": "code",
   "execution_count": 13,
   "metadata": {},
   "outputs": [
    {
     "ename": "TypeError",
     "evalue": "unsupported operand type(s) for +: 'set' and 'set'",
     "output_type": "error",
     "traceback": [
      "\u001b[0;31m---------------------------------------------------------------------------\u001b[0m",
      "\u001b[0;31mTypeError\u001b[0m                                 Traceback (most recent call last)",
      "\u001b[0;32m<ipython-input-13-27f165cc2080>\u001b[0m in \u001b[0;36m<module>\u001b[0;34m()\u001b[0m\n\u001b[0;32m----> 1\u001b[0;31m \u001b[0;34m{\u001b[0m\u001b[0;34m'0'\u001b[0m\u001b[0;34m,\u001b[0m \u001b[0;34m'1'\u001b[0m\u001b[0;34m,\u001b[0m \u001b[0;34m'8'\u001b[0m\u001b[0;34m}\u001b[0m \u001b[0;34m+\u001b[0m \u001b[0mset\u001b[0m\u001b[0;34m(\u001b[0m\u001b[0mstr\u001b[0m\u001b[0;34m(\u001b[0m\u001b[0;36m279\u001b[0m\u001b[0;34m)\u001b[0m\u001b[0;34m)\u001b[0m\u001b[0;34m\u001b[0m\u001b[0m\n\u001b[0m",
      "\u001b[0;31mTypeError\u001b[0m: unsupported operand type(s) for +: 'set' and 'set'"
     ]
    }
   ],
   "source": [
    "{'0', '1', '8'} + set(str(279))"
   ]
  },
  {
   "cell_type": "code",
   "execution_count": 18,
   "metadata": {},
   "outputs": [
    {
     "name": "stdout",
     "output_type": "stream",
     "text": [
      "{'7', '2', '9', '8', '1', '0'}\n",
      "None\n"
     ]
    }
   ],
   "source": [
    "def f(number, digits_seen_so_far):\n",
    "    number_as_string = str(number)\n",
    "    new_digits = digits_seen_so_far | set(number_as_string)\n",
    "    if len(new_digits) == len(digits_seen_so_far) + len(number_as_string):\n",
    "        return new_digits\n",
    "    return None\n",
    "print(f(279, {'0', '1', '8'}))\n",
    "print(f(219, {'0', '1', '8'}))\n",
    "    \n",
    "# f(279, {'0', '1', '8'})  -> {'0', '1', '8', '2', '7', '9'}\n",
    "# f(219, {'0', '1', '8'})  -> None"
   ]
  },
  {
   "cell_type": "code",
   "execution_count": 22,
   "metadata": {},
   "outputs": [
    {
     "name": "stdout",
     "output_type": "stream",
     "text": [
      "1, 4 and 3297856 is a solution\n",
      "1, 4 and 3857296 is a solution\n",
      "1, 4 and 5827396 is a solution\n",
      "1, 4 and 6385729 is a solution\n",
      "1, 4 and 8567329 is a solution\n",
      "1, 4 and 9572836 is a solution\n",
      "1, 49 and 872356 is a solution\n",
      "1, 64 and 537289 is a solution\n",
      "1, 256 and 73984 is a solution\n",
      "1, 625 and 73984 is a solution\n",
      "4, 16 and 537289 is a solution\n",
      "4, 25 and 139876 is a solution\n",
      "4, 25 and 391876 is a solution\n",
      "4, 289 and 15376 is a solution\n",
      "9, 324 and 15876 is a solution\n",
      "16, 25 and 73984 is a solution\n",
      "16, 784 and 5329 is a solution\n",
      "25, 784 and 1369 is a solution\n",
      "25, 784 and 1936 is a solution\n",
      "25, 841 and 7396 is a solution\n",
      "36, 81 and 74529 is a solution\n",
      "36, 81 and 79524 is a solution\n",
      "36, 729 and 5184 is a solution\n",
      "81, 324 and 7569 is a solution\n",
      "81, 576 and 3249 is a solution\n",
      "81, 729 and 4356 is a solution\n",
      "361, 529 and 784 is a solution\n"
     ]
    }
   ],
   "source": [
    "from math import sqrt\n",
    "\n",
    "def f(number, digits_seen_so_far):\n",
    "    number_as_string = str(number)\n",
    "    new_digits = digits_seen_so_far | set(number_as_string)\n",
    "    if len(new_digits) == len(digits_seen_so_far) + len(number_as_string):\n",
    "        return new_digits\n",
    "    return None\n",
    "\n",
    "N = round(sqrt(9876532))\n",
    "all_digits = {str(i) for i in range(10)}\n",
    "\n",
    "for a in range(1, N + 1):\n",
    "    digits_seen_0 = {'0'}\n",
    "    x = a * a\n",
    "    digits_seen_1 = f(x, digits_seen_0)\n",
    "    if not digits_seen_1:\n",
    "        continue\n",
    "    for b in range(a + 1, N + 1):\n",
    "        y = b * b\n",
    "        digits_seen_2 = f(y, digits_seen_1)\n",
    "        if not digits_seen_2:\n",
    "            continue\n",
    "        for c in range(b + 1, N + 1):\n",
    "            z = c * c\n",
    "            digits_seen_3 = f(z, digits_seen_2)\n",
    "            if not digits_seen_3:\n",
    "                continue\n",
    "            if digits_seen_3 == all_digits:\n",
    "                print(f'{x}, {y} and {z} is a solution')"
   ]
  },
  {
   "cell_type": "code",
   "execution_count": 27,
   "metadata": {},
   "outputs": [
    {
     "data": {
      "text/plain": [
       "(5, 3, 1, 7)"
      ]
     },
     "execution_count": 27,
     "metadata": {},
     "output_type": "execute_result"
    }
   ],
   "source": [
    "i = 7135\n",
    "i % 10, i // 10 % 10, i // 100 % 10, i // 1000"
   ]
  },
  {
   "cell_type": "code",
   "execution_count": 28,
   "metadata": {},
   "outputs": [
    {
     "name": "stdout",
     "output_type": "stream",
     "text": [
      "7135\n",
      "713\n",
      "71\n",
      "7\n",
      "{1, 3, 5, 7}\n"
     ]
    }
   ],
   "source": [
    "i = 7135\n",
    "digits_in_i = set()\n",
    "j = i\n",
    "while j:\n",
    "    print(j)\n",
    "    digits_in_i.add(j % 10)\n",
    "    j //= 10\n",
    "print(digits_in_i)\n"
   ]
  },
  {
   "cell_type": "code",
   "execution_count": 32,
   "metadata": {},
   "outputs": [
    {
     "data": {
      "text/plain": [
       "{0, 1, 2, 3, 4, 5, 6, 7, 8, 9}"
      ]
     },
     "execution_count": 32,
     "metadata": {},
     "output_type": "execute_result"
    }
   ],
   "source": [
    "{int(str(i)) for i in range(10)}\n"
   ]
  },
  {
   "cell_type": "code",
   "execution_count": 33,
   "metadata": {},
   "outputs": [
    {
     "data": {
      "text/plain": [
       "{0, 1, 2, 3, 4, 5, 6, 7, 8, 9}"
      ]
     },
     "execution_count": 33,
     "metadata": {},
     "output_type": "execute_result"
    }
   ],
   "source": [
    "set(range(10))"
   ]
  },
  {
   "cell_type": "code",
   "execution_count": 34,
   "metadata": {},
   "outputs": [],
   "source": [
    "from math import sqrt\n",
    "\n",
    "def f(number, digits_seen_so_far):\n",
    "    while number:\n",
    "        d = number % 10\n",
    "        if d in digits_seen_so_far:\n",
    "            return\n",
    "        digits_seen_so_far.add(d)\n",
    "        number //= 10\n",
    "    return digits_seen_so_far\n",
    "\n",
    "N = round(sqrt(9876532))\n",
    "all_digits = set(range(10))\n",
    "\n",
    "for a in range(1, N + 1):\n",
    "    digits_seen_0 = {0}\n",
    "    x = a * a\n",
    "    digits_seen_1 = f(x, digits_seen_0)\n",
    "    if not digits_seen_1:\n",
    "        continue\n",
    "    for b in range(a + 1, N + 1):\n",
    "        y = b * b\n",
    "        digits_seen_2 = f(y, digits_seen_1)\n",
    "        if not digits_seen_2:\n",
    "            continue\n",
    "        for c in range(b + 1, N + 1):\n",
    "            z = c * c\n",
    "            digits_seen_3 = f(z, digits_seen_2)\n",
    "            if not digits_seen_3:\n",
    "                continue\n",
    "            if digits_seen_3 == all_digits:\n",
    "                print(f'{x}, {y} and {z} is a solution')"
   ]
  },
  {
   "cell_type": "code",
   "execution_count": 38,
   "metadata": {},
   "outputs": [
    {
     "name": "stdout",
     "output_type": "stream",
     "text": [
      "{1, 2, 4, 5, 6, 7} 16 {1, 2, 4, 5, 6, 7}\n",
      "None 11 {1, 2, 4, 5, 7}\n"
     ]
    }
   ],
   "source": [
    "def f(number, digits_seen_so_far):\n",
    "    while number:\n",
    "        d = number % 10\n",
    "        if d in digits_seen_so_far:\n",
    "            return\n",
    "        digits_seen_so_far.add(d)\n",
    "        number //= 10\n",
    "    return digits_seen_so_far\n",
    "\n",
    "x = 16\n",
    "S = {2, 5, 7, 4}\n",
    "print(f(x, S), x, S)\n",
    "\n",
    "x = 11\n",
    "S = {2, 5, 7, 4}\n",
    "print(f(x, S), x, S)\n",
    "\n"
   ]
  },
  {
   "cell_type": "code",
   "execution_count": 39,
   "metadata": {},
   "outputs": [
    {
     "name": "stdout",
     "output_type": "stream",
     "text": [
      "1, 4 and 3297856 is a solution\n",
      "1, 4 and 3857296 is a solution\n",
      "1, 4 and 5827396 is a solution\n",
      "1, 4 and 6385729 is a solution\n",
      "1, 4 and 8567329 is a solution\n",
      "1, 4 and 9572836 is a solution\n",
      "1, 49 and 872356 is a solution\n",
      "1, 64 and 537289 is a solution\n",
      "1, 256 and 73984 is a solution\n",
      "1, 625 and 73984 is a solution\n",
      "4, 16 and 537289 is a solution\n",
      "4, 25 and 139876 is a solution\n",
      "4, 25 and 391876 is a solution\n",
      "4, 289 and 15376 is a solution\n",
      "9, 324 and 15876 is a solution\n",
      "16, 25 and 73984 is a solution\n",
      "16, 784 and 5329 is a solution\n",
      "25, 784 and 1369 is a solution\n",
      "25, 784 and 1936 is a solution\n",
      "25, 841 and 7396 is a solution\n",
      "36, 81 and 74529 is a solution\n",
      "36, 81 and 79524 is a solution\n",
      "36, 729 and 5184 is a solution\n",
      "81, 324 and 7569 is a solution\n",
      "81, 576 and 3249 is a solution\n",
      "81, 729 and 4356 is a solution\n",
      "361, 529 and 784 is a solution\n"
     ]
    }
   ],
   "source": [
    "from math import sqrt\n",
    "\n",
    "def f(number, digits_seen_so_far):\n",
    "    S = set(digits_seen_so_far)\n",
    "    while number:\n",
    "        d = number % 10\n",
    "        if d in S:\n",
    "            return\n",
    "        S.add(d)\n",
    "        number //= 10\n",
    "    return S\n",
    "\n",
    "N = round(sqrt(9876532))\n",
    "all_digits = set(range(10))\n",
    "\n",
    "for a in range(1, N + 1):\n",
    "    digits_seen_0 = {0}\n",
    "    x = a * a\n",
    "    digits_seen_1 = f(x, digits_seen_0)\n",
    "    if not digits_seen_1:\n",
    "        continue\n",
    "    for b in range(a + 1, N + 1):\n",
    "        y = b * b\n",
    "        digits_seen_2 = f(y, digits_seen_1)\n",
    "        if not digits_seen_2:\n",
    "            continue\n",
    "        for c in range(b + 1, N + 1):\n",
    "            z = c * c\n",
    "            digits_seen_3 = f(z, digits_seen_2)\n",
    "            if not digits_seen_3:\n",
    "                continue\n",
    "            if digits_seen_3 == all_digits:\n",
    "                print(f'{x}, {y} and {z} is a solution')"
   ]
  },
  {
   "cell_type": "code",
   "execution_count": 40,
   "metadata": {},
   "outputs": [
    {
     "data": {
      "text/plain": [
       "'0b11011010'"
      ]
     },
     "execution_count": 40,
     "metadata": {},
     "output_type": "execute_result"
    }
   ],
   "source": [
    "bin(218)"
   ]
  },
  {
   "cell_type": "code",
   "execution_count": 41,
   "metadata": {},
   "outputs": [
    {
     "data": {
      "text/plain": [
       "'0b1111111111'"
      ]
     },
     "execution_count": 41,
     "metadata": {},
     "output_type": "execute_result"
    }
   ],
   "source": [
    "bin(2 ** 10 - 1)"
   ]
  },
  {
   "cell_type": "code",
   "execution_count": 45,
   "metadata": {},
   "outputs": [
    {
     "data": {
      "text/plain": [
       "(1, 2, 4, 8)"
      ]
     },
     "execution_count": 45,
     "metadata": {},
     "output_type": "execute_result"
    }
   ],
   "source": [
    "1 << 0, 1 << 1, 1 << 2, 1 << 3"
   ]
  },
  {
   "cell_type": "code",
   "execution_count": 49,
   "metadata": {},
   "outputs": [
    {
     "name": "stdout",
     "output_type": "stream",
     "text": [
      "1, 4 and 3297856 is a solution\n",
      "1, 4 and 3857296 is a solution\n",
      "1, 4 and 5827396 is a solution\n",
      "1, 4 and 6385729 is a solution\n",
      "1, 4 and 8567329 is a solution\n",
      "1, 4 and 9572836 is a solution\n",
      "1, 49 and 872356 is a solution\n",
      "1, 64 and 537289 is a solution\n",
      "1, 256 and 73984 is a solution\n",
      "1, 625 and 73984 is a solution\n",
      "4, 16 and 537289 is a solution\n",
      "4, 25 and 139876 is a solution\n",
      "4, 25 and 391876 is a solution\n",
      "4, 289 and 15376 is a solution\n",
      "9, 324 and 15876 is a solution\n",
      "16, 25 and 73984 is a solution\n",
      "16, 784 and 5329 is a solution\n",
      "25, 784 and 1369 is a solution\n",
      "25, 784 and 1936 is a solution\n",
      "25, 841 and 7396 is a solution\n",
      "36, 81 and 74529 is a solution\n",
      "36, 81 and 79524 is a solution\n",
      "36, 729 and 5184 is a solution\n",
      "81, 324 and 7569 is a solution\n",
      "81, 576 and 3249 is a solution\n",
      "81, 729 and 4356 is a solution\n",
      "361, 529 and 784 is a solution\n"
     ]
    }
   ],
   "source": [
    "from math import sqrt\n",
    "\n",
    "def f(number, digits_seen_so_far):\n",
    "    while number:\n",
    "        d = number % 10\n",
    "        if (1 << d) & digits_seen_so_far:\n",
    "            return\n",
    "        digits_seen_so_far |=  1 << d\n",
    "        number //= 10\n",
    "    return digits_seen_so_far\n",
    "\n",
    "N = round(sqrt(9876532))\n",
    "all_digits = 2 ** 10 - 1\n",
    "\n",
    "for a in range(1, N + 1):\n",
    "    digits_seen_0 = 1\n",
    "    x = a * a\n",
    "    digits_seen_1 = f(x, digits_seen_0)\n",
    "    if not digits_seen_1:\n",
    "        continue\n",
    "    for b in range(a + 1, N + 1):\n",
    "        y = b * b\n",
    "        digits_seen_2 = f(y, digits_seen_1)\n",
    "        if not digits_seen_2:\n",
    "            continue\n",
    "        for c in range(b + 1, N + 1):\n",
    "            z = c * c\n",
    "            digits_seen_3 = f(z, digits_seen_2)\n",
    "            if not digits_seen_3:\n",
    "                continue\n",
    "            if digits_seen_3 == all_digits:\n",
    "                print(f'{x}, {y} and {z} is a solution')"
   ]
  },
  {
   "cell_type": "code",
   "execution_count": 57,
   "metadata": {},
   "outputs": [
    {
     "name": "stdout",
     "output_type": "stream",
     "text": [
      "2 3 4 5 6 7 8 9 10 11 12 13 14 15 16 17 18 19 20 21 22 23 24 25 26 27 28 29 30 31 32 33 34 35 36 37 38 39 40 41 42 43 44 45 46 47 48 49 \n",
      "2 3 5 7 9 11 13 15 17 19 21 23 25 27 29 31 33 35 37 39 41 43 45 47 49 \n",
      "2 3 5 7 11 13 17 19 23 25 29 31 35 37 41 43 47 49 \n",
      "2 3 5 7 11 13 17 19 23 25 29 31 35 37 41 43 47 49 \n",
      "2 3 5 7 11 13 17 19 23 29 31 37 41 43 47 49 \n",
      "2 3 5 7 11 13 17 19 23 29 31 37 41 43 47 49 \n",
      "2 3 5 7 11 13 17 19 23 29 31 37 41 43 47 \n",
      "2 3 5 7 11 13 17 19 23 29 31 37 41 43 47 \n",
      "2 3 5 7 11 13 17 19 23 29 31 37 41 43 47 \n",
      "2 3 5 7 11 13 17 19 23 29 31 37 41 43 47 \n",
      "2 3 5 7 11 13 17 19 23 29 31 37 41 43 47 \n",
      "2 3 5 7 11 13 17 19 23 29 31 37 41 43 47 \n",
      "2 3 5 7 11 13 17 19 23 29 31 37 41 43 47 \n",
      "2 3 5 7 11 13 17 19 23 29 31 37 41 43 47 \n",
      "2 3 5 7 11 13 17 19 23 29 31 37 41 43 47 \n",
      "2 3 5 7 11 13 17 19 23 29 31 37 41 43 47 \n",
      "2 3 5 7 11 13 17 19 23 29 31 37 41 43 47 \n",
      "2 3 5 7 11 13 17 19 23 29 31 37 41 43 47 \n",
      "2 3 5 7 11 13 17 19 23 29 31 37 41 43 47 \n",
      "2 3 5 7 11 13 17 19 23 29 31 37 41 43 47 \n",
      "2 3 5 7 11 13 17 19 23 29 31 37 41 43 47 \n",
      "2 3 5 7 11 13 17 19 23 29 31 37 41 43 47 \n",
      "2 3 5 7 11 13 17 19 23 29 31 37 41 43 47 \n",
      "2 3 5 7 11 13 17 19 23 29 31 37 41 43 47 \n",
      "2 3 5 7 11 13 17 19 23 29 31 37 41 43 47 \n",
      "2 3 5 7 11 13 17 19 23 29 31 37 41 43 47 \n",
      "2 3 5 7 11 13 17 19 23 29 31 37 41 43 47 \n",
      "2 3 5 7 11 13 17 19 23 29 31 37 41 43 47 \n",
      "2 3 5 7 11 13 17 19 23 29 31 37 41 43 47 \n",
      "2 3 5 7 11 13 17 19 23 29 31 37 41 43 47 \n",
      "2 3 5 7 11 13 17 19 23 29 31 37 41 43 47 \n",
      "2 3 5 7 11 13 17 19 23 29 31 37 41 43 47 \n",
      "2 3 5 7 11 13 17 19 23 29 31 37 41 43 47 \n",
      "2 3 5 7 11 13 17 19 23 29 31 37 41 43 47 \n",
      "2 3 5 7 11 13 17 19 23 29 31 37 41 43 47 \n",
      "2 3 5 7 11 13 17 19 23 29 31 37 41 43 47 \n",
      "2 3 5 7 11 13 17 19 23 29 31 37 41 43 47 \n",
      "2 3 5 7 11 13 17 19 23 29 31 37 41 43 47 \n",
      "2 3 5 7 11 13 17 19 23 29 31 37 41 43 47 \n",
      "2 3 5 7 11 13 17 19 23 29 31 37 41 43 47 \n",
      "2 3 5 7 11 13 17 19 23 29 31 37 41 43 47 \n",
      "2 3 5 7 11 13 17 19 23 29 31 37 41 43 47 \n",
      "2 3 5 7 11 13 17 19 23 29 31 37 41 43 47 \n",
      "2 3 5 7 11 13 17 19 23 29 31 37 41 43 47 \n",
      "2 3 5 7 11 13 17 19 23 29 31 37 41 43 47 \n",
      "2 3 5 7 11 13 17 19 23 29 31 37 41 43 47 \n",
      "2 3 5 7 11 13 17 19 23 29 31 37 41 43 47 \n",
      "2 3 5 7 11 13 17 19 23 29 31 37 41 43 47 \n",
      "2 3 5 7 11 13 17 19 23 29 31 37 41 43 47 \n"
     ]
    }
   ],
   "source": [
    "\n",
    "def print_primes(L):\n",
    "    for i in range(2, len(L)):\n",
    "        if L[i]:\n",
    "            print(i, end = ' ')\n",
    "    print()\n",
    "L = [True] * 50\n",
    "print_primes(L)\n",
    "for i in range(2, len(L)):\n",
    "    j = 2\n",
    "    while i * j < len(L):\n",
    "        L[i * j] = False\n",
    "        j += 1\n",
    "    print_primes(L)"
   ]
  },
  {
   "cell_type": "code",
   "execution_count": 60,
   "metadata": {},
   "outputs": [
    {
     "name": "stdout",
     "output_type": "stream",
     "text": [
      "2 3 4 5 6 7 8 9 10 11 12 13 14 15 16 17 18 19 20 21 22 23 24 25 \n",
      "2 3 5 7 9 11 13 15 17 19 21 23 25 \n",
      "2 3 5 7 11 13 17 19 23 25 \n",
      "2 3 5 7 11 13 17 19 23 25 \n",
      "2 3 5 7 11 13 17 19 23 \n"
     ]
    }
   ],
   "source": [
    "from math import sqrt\n",
    "\n",
    "\n",
    "def print_primes(L):\n",
    "    for i in range(2, len(L)):\n",
    "        if L[i]:\n",
    "            print(i, end = ' ')\n",
    "    print()\n",
    "L = [True] * 26\n",
    "print_primes(L)\n",
    "max_number = len(L) - 1\n",
    "upper_bound = round(sqrt(max_number))\n",
    "for i in range(2, upper_bound + 1):\n",
    "    j = 2\n",
    "    while i * j <= max_number:\n",
    "        L[i * j] = False\n",
    "        j += 1\n",
    "    print_primes(L)"
   ]
  },
  {
   "cell_type": "code",
   "execution_count": 61,
   "metadata": {},
   "outputs": [
    {
     "name": "stdout",
     "output_type": "stream",
     "text": [
      "2 3 4 5 6 7 8 9 10 11 12 13 14 15 16 17 18 19 20 21 22 23 24 25 \n",
      "2 3 4 5 6 7 9 11 13 15 17 19 21 23 25 \n",
      "2 3 4 5 6 7 9 11 13 15 17 19 21 23 25 \n",
      "2 3 4 5 6 7 9 11 13 15 17 19 21 23 25 \n",
      "2 3 4 5 6 7 9 11 13 15 17 19 21 23 25 \n"
     ]
    }
   ],
   "source": [
    "from math import sqrt\n",
    "\n",
    "\n",
    "def print_primes(L):\n",
    "    for i in range(2, len(L)):\n",
    "        if L[i]:\n",
    "            print(i, end = ' ')\n",
    "    print()\n",
    "L = [True] * 26\n",
    "print_primes(L)\n",
    "max_number = len(L) - 1\n",
    "upper_bound = round(sqrt(max_number))\n",
    "for i in range(2, upper_bound + 1):\n",
    "    if not L[i]:\n",
    "        continue\n",
    "    j = i * i\n",
    "    while i * j <= max_number:\n",
    "        L[i * j] = False\n",
    "        j += 1\n",
    "    print_primes(L)"
   ]
  },
  {
   "cell_type": "code",
   "execution_count": 63,
   "metadata": {},
   "outputs": [
    {
     "data": {
      "text/plain": [
       "(((1000, 2),), ((2000, 3),), ((3000, 4),), ((4000, 7),))"
      ]
     },
     "execution_count": 63,
     "metadata": {},
     "output_type": "execute_result"
    }
   ],
   "source": [
    "data = [(1000, 2), (2000, 3), (3000, 4), (4000, 7)]\n",
    "#([1000, 2000, 3000, 4000], [2, 3, 4, 7])\n",
    "tuple(zip(data))"
   ]
  },
  {
   "cell_type": "code",
   "execution_count": 64,
   "metadata": {},
   "outputs": [
    {
     "data": {
      "text/plain": [
       "((1000, 2000, 3000, 4000), (2, 3, 4, 7))"
      ]
     },
     "execution_count": 64,
     "metadata": {},
     "output_type": "execute_result"
    }
   ],
   "source": [
    "data = [(1000, 2), (2000, 3), (3000, 4), (4000, 7)]\n",
    "#([1000, 2000, 3000, 4000], [2, 3, 4, 7])\n",
    "tuple(zip(*data))"
   ]
  },
  {
   "cell_type": "code",
   "execution_count": 67,
   "metadata": {},
   "outputs": [
    {
     "data": {
      "text/plain": [
       "((1000, 2000, 3000, 4000), (2, 3, 4, 7), ('A', 'B', 'C', 'D'))"
      ]
     },
     "execution_count": 67,
     "metadata": {},
     "output_type": "execute_result"
    }
   ],
   "source": [
    "data = [(1000, 2, 'A'), (2000, 3, 'B'), (3000, 4, 'C'), (4000, 7, 'D')]\n",
    "tuple(zip(*data))"
   ]
  },
  {
   "cell_type": "code",
   "execution_count": 1,
   "metadata": {},
   "outputs": [
    {
     "name": "stdout",
     "output_type": "stream",
     "text": [
      "400\n",
      "28\n",
      "266692\n"
     ]
    }
   ],
   "source": [
    "from sys import getsizeof\n",
    "print(getsizeof(int))\n",
    "print(getsizeof(2))\n",
    "print(getsizeof(2 ** 2000000))"
   ]
  }
 ],
 "metadata": {
  "kernelspec": {
   "display_name": "Python 3",
   "language": "python",
   "name": "python3"
  },
  "language_info": {
   "codemirror_mode": {
    "name": "ipython",
    "version": 3
   },
   "file_extension": ".py",
   "mimetype": "text/x-python",
   "name": "python",
   "nbconvert_exporter": "python",
   "pygments_lexer": "ipython3",
   "version": "3.6.2"
  }
 },
 "nbformat": 4,
 "nbformat_minor": 2
}
