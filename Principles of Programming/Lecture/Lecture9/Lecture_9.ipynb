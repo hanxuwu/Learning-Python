{
 "cells": [
  {
   "cell_type": "code",
   "execution_count": 21,
   "metadata": {},
   "outputs": [
    {
     "name": "stdout",
     "output_type": "stream",
     "text": [
      "2\n",
      "3\n",
      "2\n",
      "4\n",
      "1\n"
     ]
    },
    {
     "ename": "StackException",
     "evalue": "Cannot pop from empty stack",
     "output_type": "error",
     "traceback": [
      "\u001b[0;31m---------------------------------------------------------------------------\u001b[0m",
      "\u001b[0;31mStackException\u001b[0m                            Traceback (most recent call last)",
      "\u001b[0;32m<ipython-input-21-237a976ffe13>\u001b[0m in \u001b[0;36m<module>\u001b[0;34m()\u001b[0m\n\u001b[1;32m     32\u001b[0m \u001b[0mprint\u001b[0m\u001b[0;34m(\u001b[0m\u001b[0mS\u001b[0m\u001b[0;34m.\u001b[0m\u001b[0mpop\u001b[0m\u001b[0;34m(\u001b[0m\u001b[0;34m)\u001b[0m\u001b[0;34m)\u001b[0m\u001b[0;34m\u001b[0m\u001b[0m\n\u001b[1;32m     33\u001b[0m \u001b[0mprint\u001b[0m\u001b[0;34m(\u001b[0m\u001b[0mS\u001b[0m\u001b[0;34m.\u001b[0m\u001b[0mpop\u001b[0m\u001b[0;34m(\u001b[0m\u001b[0;34m)\u001b[0m\u001b[0;34m)\u001b[0m\u001b[0;34m\u001b[0m\u001b[0m\n\u001b[0;32m---> 34\u001b[0;31m \u001b[0mprint\u001b[0m\u001b[0;34m(\u001b[0m\u001b[0mS\u001b[0m\u001b[0;34m.\u001b[0m\u001b[0mpop\u001b[0m\u001b[0;34m(\u001b[0m\u001b[0;34m)\u001b[0m\u001b[0;34m)\u001b[0m\u001b[0;34m\u001b[0m\u001b[0m\n\u001b[0m\u001b[1;32m     35\u001b[0m \u001b[0;34m\u001b[0m\u001b[0m\n",
      "\u001b[0;32m<ipython-input-21-237a976ffe13>\u001b[0m in \u001b[0;36mpop\u001b[0;34m(self)\u001b[0m\n\u001b[1;32m     13\u001b[0m     \u001b[0;32mdef\u001b[0m \u001b[0mpop\u001b[0m\u001b[0;34m(\u001b[0m\u001b[0mself\u001b[0m\u001b[0;34m)\u001b[0m\u001b[0;34m:\u001b[0m\u001b[0;34m\u001b[0m\u001b[0m\n\u001b[1;32m     14\u001b[0m         \u001b[0;32mif\u001b[0m \u001b[0;32mnot\u001b[0m \u001b[0mself\u001b[0m\u001b[0;34m.\u001b[0m\u001b[0m_data\u001b[0m\u001b[0;34m:\u001b[0m\u001b[0;34m\u001b[0m\u001b[0m\n\u001b[0;32m---> 15\u001b[0;31m             \u001b[0;32mraise\u001b[0m \u001b[0mStackException\u001b[0m\u001b[0;34m(\u001b[0m\u001b[0;34m'Cannot pop from empty stack'\u001b[0m\u001b[0;34m)\u001b[0m\u001b[0;34m\u001b[0m\u001b[0m\n\u001b[0m\u001b[1;32m     16\u001b[0m         \u001b[0;32mreturn\u001b[0m \u001b[0mself\u001b[0m\u001b[0;34m.\u001b[0m\u001b[0m_data\u001b[0m\u001b[0;34m.\u001b[0m\u001b[0mpop\u001b[0m\u001b[0;34m(\u001b[0m\u001b[0;34m)\u001b[0m\u001b[0;34m\u001b[0m\u001b[0m\n\u001b[1;32m     17\u001b[0m \u001b[0;34m\u001b[0m\u001b[0m\n",
      "\u001b[0;31mStackException\u001b[0m: Cannot pop from empty stack"
     ]
    }
   ],
   "source": [
    "class StackException(Exception):\n",
    "    def __init__(self, message):\n",
    "        self.message = message\n",
    "\n",
    "class Stack:\n",
    "    def __init__(self):\n",
    "        self._data = []\n",
    "    def peek_at_top(self):\n",
    "        if not self._data:\n",
    "            raise StackException('Stack is empty')\n",
    "        return self._data[-1]\n",
    "    \n",
    "    def pop(self):\n",
    "        if not self._data:\n",
    "            raise StackException('Cannot pop from empty stack')\n",
    "        return self._data.pop()\n",
    "\n",
    "    def push(self, datum):\n",
    "        self._data.append(datum)\n",
    "        \n",
    "    def is_empty(self):\n",
    "        return self._data == []\n",
    "        \n",
    "S = Stack()\n",
    "S.push(1)\n",
    "S.push(2)\n",
    "print(S.peek_at_top())\n",
    "S.push(3)\n",
    "print(S.pop())\n",
    "print(S.pop())\n",
    "S.push(4)\n",
    "print(S.pop())\n",
    "print(S.pop())\n",
    "print(S.pop())\n",
    "        "
   ]
  },
  {
   "cell_type": "code",
   "execution_count": 8,
   "metadata": {},
   "outputs": [
    {
     "name": "stdout",
     "output_type": "stream",
     "text": [
      "True\n",
      "True\n",
      "True\n",
      "True\n",
      "False\n",
      "False\n",
      "False\n",
      "False\n"
     ]
    }
   ],
   "source": [
    "def check_well_balanced(expression):\n",
    "    stack = Stack()\n",
    "    parentheses = {')': '(', ']': '[', '}': '{'}\n",
    "    for e in expression:\n",
    "        if e in '({[':\n",
    "            stack.push(e)\n",
    "        elif e in ')}]':\n",
    "            try:\n",
    "                if stack.pop() != parentheses[e]:\n",
    "                    raise StackException('')\n",
    "            except StackException:\n",
    "                return False\n",
    "    return stack.is_empty()\n",
    "\n",
    "print(check_well_balanced('2'))\n",
    "print(check_well_balanced('2  + 4'))\n",
    "print(check_well_balanced('(2  + 4) * {3 - 73}'))\n",
    "print(check_well_balanced('{[(2  + 4) * {3 - 73}] * (8*[9- 6])} / 7'))\n",
    "\n",
    "print(check_well_balanced('(2'))\n",
    "print(check_well_balanced('2  + 4)'))\n",
    "print(check_well_balanced('(2  + 4) * 3 - 73}'))\n",
    "print(check_well_balanced('{[(2  + 4) * {3 - 73}]] * (8*[9- 6])} / 7'))\n",
    "\n",
    "\n",
    "\n",
    "\n",
    "    \n",
    "            \n",
    "            \n",
    "            "
   ]
  },
  {
   "cell_type": "code",
   "execution_count": 24,
   "metadata": {},
   "outputs": [
    {
     "name": "stdout",
     "output_type": "stream",
     "text": [
      "213\n",
      "215\n",
      "214\n",
      "5\n"
     ]
    }
   ],
   "source": [
    "def evaluate_postfix_expression(expression):\n",
    "    stack = Stack()\n",
    "    operators = {'+': lambda x, y: x + y,\n",
    "                '-': lambda x, y: y - x,\n",
    "                '*': lambda x, y: x * y,\n",
    "                '/': lambda x, y: y // x\n",
    "                }\n",
    "    in_number = False\n",
    "    for e in expression:\n",
    "        if e.isdigit():\n",
    "            if not in_number:\n",
    "                stack.push(int(e))\n",
    "                in_number = True\n",
    "            else:\n",
    "                stack.push(stack.pop() * 10 + int(e))\n",
    "        else:\n",
    "            in_number = False\n",
    "            if e in '+-*/':\n",
    "                try:\n",
    "                    arg_1 = stack.pop()\n",
    "                    arg_2 = stack.pop()\n",
    "                    stack.push(operators[e](arg_1, arg_2))\n",
    "                except StackException as e:\n",
    "                    raise e\n",
    "    try:\n",
    "        value = stack.pop()\n",
    "        if not stack.is_empty():\n",
    "            raise StackException('Expression not correct')\n",
    "        return value\n",
    "    except StackException as e:\n",
    "        raise e\n",
    "                    \n",
    "\n",
    "print(evaluate_postfix_expression('213'))\n",
    "print(evaluate_postfix_expression('213 2 +'))\n",
    "print(evaluate_postfix_expression('213 2 + 7 8 - +'))\n",
    "#print(evaluate_postfix_expression('213 2 + 7 8 v- + 0 /'))\n",
    "print(evaluate_postfix_expression('2 3 +'))"
   ]
  },
  {
   "cell_type": "code",
   "execution_count": 9,
   "metadata": {},
   "outputs": [
    {
     "ename": "ZeroDivisionError",
     "evalue": "integer division or modulo by zero",
     "output_type": "error",
     "traceback": [
      "\u001b[0;31m---------------------------------------------------------------------------\u001b[0m",
      "\u001b[0;31mZeroDivisionError\u001b[0m                         Traceback (most recent call last)",
      "\u001b[0;32m<ipython-input-9-dec44aab49a9>\u001b[0m in \u001b[0;36m<module>\u001b[0;34m()\u001b[0m\n\u001b[0;32m----> 1\u001b[0;31m \u001b[0;36m3\u001b[0m \u001b[0;34m//\u001b[0m \u001b[0;36m0\u001b[0m\u001b[0;34m\u001b[0m\u001b[0m\n\u001b[0m",
      "\u001b[0;31mZeroDivisionError\u001b[0m: integer division or modulo by zero"
     ]
    }
   ],
   "source": [
    "3 // 0"
   ]
  },
  {
   "cell_type": "code",
   "execution_count": 26,
   "metadata": {},
   "outputs": [
    {
     "name": "stdout",
     "output_type": "stream",
     "text": [
      "[1]\n",
      "[1, 2]\n",
      "[1, 2, 3]\n",
      "[1, 4]\n",
      "[1, 5]\n",
      "[1, 5, 6]\n",
      "[1, 5, 6, 7]\n",
      "[1, 5, 6, 8]\n",
      "[1, 5, 6, 8, 9]\n",
      "[1, 5, 6, 10]\n",
      "[1, 5, 11]\n",
      "[1, 5, 11, 12]\n",
      "[1, 5, 13]\n"
     ]
    }
   ],
   "source": [
    "T = {1: [2, 4, 5], 2: [3], 5: [6, 11, 13], 6: [7, 8, 10], 8: [9], 11: [12]}\n",
    "\n",
    "def depth_first_exploration():\n",
    "    stack = Stack()\n",
    "    stack.push([1])\n",
    "    while not stack.is_empty():\n",
    "        path = stack.pop()\n",
    "        print(path)\n",
    "        if path[-1] in T:\n",
    "            for child in reversed(T[path[-1]]):\n",
    "                stack.push(list(path) + [child])\n",
    "                \n",
    "depth_first_exploration()"
   ]
  },
  {
   "cell_type": "code",
   "execution_count": 27,
   "metadata": {},
   "outputs": [
    {
     "data": {
      "text/plain": [
       "defaultdict(<function __main__.tree>,\n",
       "            {1: defaultdict(<function __main__.tree>,\n",
       "                         {2: defaultdict(<function __main__.tree>, {3: None}),\n",
       "                          4: None,\n",
       "                          5: defaultdict(<function __main__.tree>,\n",
       "                                      {6: defaultdict(<function __main__.tree>,\n",
       "                                                   {7: None,\n",
       "                                                    8: defaultdict(<function __main__.tree>,\n",
       "                                                                {9: None})}),\n",
       "                                       11: defaultdict(<function __main__.tree>,\n",
       "                                                   {12: None}),\n",
       "                                       13: None})})})"
      ]
     },
     "execution_count": 27,
     "metadata": {},
     "output_type": "execute_result"
    }
   ],
   "source": [
    "from collections import defaultdict\n",
    "\n",
    "def tree():\n",
    "    return defaultdict(tree)\n",
    "\n",
    "T = tree()\n",
    "T[1][2][3] = None\n",
    "T[1][4] = None\n",
    "T[1][5][6][7] = None\n",
    "T[1][5][6][8][9] = None\n",
    "T[1][5][11][12] = None\n",
    "T[1][5][13] = None\n",
    "\n",
    "T"
   ]
  },
  {
   "cell_type": "code",
   "execution_count": 30,
   "metadata": {},
   "outputs": [
    {
     "name": "stdout",
     "output_type": "stream",
     "text": [
      "[1]\n",
      "[1, 2]\n",
      "[1, 2, 3]\n",
      "[1, 4]\n",
      "[1, 5]\n",
      "[1, 5, 6]\n",
      "[1, 5, 6, 7]\n",
      "[1, 5, 6, 8]\n",
      "[1, 5, 6, 8, 9]\n",
      "[1, 5, 11]\n",
      "[1, 5, 11, 12]\n",
      "[1, 5, 13]\n"
     ]
    }
   ],
   "source": [
    "from collections import defaultdict\n",
    "\n",
    "def tree():\n",
    "    return defaultdict(tree)\n",
    "\n",
    "T = tree()\n",
    "T[1][2][3] = None\n",
    "T[1][4] = None\n",
    "T[1][5][6][7] = None\n",
    "T[1][5][6][8][9] = None\n",
    "T[1][5][11][12] = None\n",
    "T[1][5][13] = None\n",
    "\n",
    "def depth_first_exploration():\n",
    "    stack = Stack()\n",
    "    stack.push(([1], T[1]))\n",
    "    while not stack.is_empty():\n",
    "        path, tree = stack.pop()\n",
    "        print(path)\n",
    "        if tree:\n",
    "            for child in reversed(list(tree)):\n",
    "                stack.push((list(path) + [child], tree[child]))\n",
    "                \n",
    "depth_first_exploration()"
   ]
  },
  {
   "cell_type": "code",
   "execution_count": 42,
   "metadata": {},
   "outputs": [
    {
     "name": "stdout",
     "output_type": "stream",
     "text": [
      "1\n",
      "2\n",
      "3\n",
      "4\n"
     ]
    },
    {
     "ename": "QueueException",
     "evalue": "Queue is empty",
     "output_type": "error",
     "traceback": [
      "\u001b[0;31m---------------------------------------------------------------------------\u001b[0m",
      "\u001b[0;31mQueueException\u001b[0m                            Traceback (most recent call last)",
      "\u001b[0;32m<ipython-input-42-68df8395ba40>\u001b[0m in \u001b[0;36m<module>\u001b[0;34m()\u001b[0m\n\u001b[1;32m     45\u001b[0m \u001b[0mprint\u001b[0m\u001b[0;34m(\u001b[0m\u001b[0mQ\u001b[0m\u001b[0;34m.\u001b[0m\u001b[0mdequeue\u001b[0m\u001b[0;34m(\u001b[0m\u001b[0;34m)\u001b[0m\u001b[0;34m)\u001b[0m\u001b[0;34m\u001b[0m\u001b[0m\n\u001b[1;32m     46\u001b[0m \u001b[0mprint\u001b[0m\u001b[0;34m(\u001b[0m\u001b[0mQ\u001b[0m\u001b[0;34m.\u001b[0m\u001b[0mdequeue\u001b[0m\u001b[0;34m(\u001b[0m\u001b[0;34m)\u001b[0m\u001b[0;34m)\u001b[0m\u001b[0;34m\u001b[0m\u001b[0m\n\u001b[0;32m---> 47\u001b[0;31m \u001b[0mprint\u001b[0m\u001b[0;34m(\u001b[0m\u001b[0mQ\u001b[0m\u001b[0;34m.\u001b[0m\u001b[0mdequeue\u001b[0m\u001b[0;34m(\u001b[0m\u001b[0;34m)\u001b[0m\u001b[0;34m)\u001b[0m\u001b[0;34m\u001b[0m\u001b[0m\n\u001b[0m\u001b[1;32m     48\u001b[0m \u001b[0;34m\u001b[0m\u001b[0m\n\u001b[1;32m     49\u001b[0m \u001b[0;34m\u001b[0m\u001b[0m\n",
      "\u001b[0;32m<ipython-input-42-68df8395ba40>\u001b[0m in \u001b[0;36mdequeue\u001b[0;34m(self)\u001b[0m\n\u001b[1;32m     26\u001b[0m     \u001b[0;32mdef\u001b[0m \u001b[0mdequeue\u001b[0m\u001b[0;34m(\u001b[0m\u001b[0mself\u001b[0m\u001b[0;34m)\u001b[0m\u001b[0;34m:\u001b[0m\u001b[0;34m\u001b[0m\u001b[0m\n\u001b[1;32m     27\u001b[0m         \u001b[0;32mif\u001b[0m \u001b[0;32mnot\u001b[0m \u001b[0mself\u001b[0m\u001b[0;34m.\u001b[0m\u001b[0mfront\u001b[0m\u001b[0;34m:\u001b[0m\u001b[0;34m\u001b[0m\u001b[0m\n\u001b[0;32m---> 28\u001b[0;31m             \u001b[0;32mraise\u001b[0m \u001b[0mQueueException\u001b[0m\u001b[0;34m(\u001b[0m\u001b[0;34m'Queue is empty'\u001b[0m\u001b[0;34m)\u001b[0m\u001b[0;34m\u001b[0m\u001b[0m\n\u001b[0m\u001b[1;32m     29\u001b[0m         \u001b[0mvalue\u001b[0m \u001b[0;34m=\u001b[0m \u001b[0mself\u001b[0m\u001b[0;34m.\u001b[0m\u001b[0mfront\u001b[0m\u001b[0;34m.\u001b[0m\u001b[0mvalue\u001b[0m\u001b[0;34m\u001b[0m\u001b[0m\n\u001b[1;32m     30\u001b[0m         \u001b[0mself\u001b[0m\u001b[0;34m.\u001b[0m\u001b[0mfront\u001b[0m \u001b[0;34m=\u001b[0m \u001b[0mself\u001b[0m\u001b[0;34m.\u001b[0m\u001b[0mfront\u001b[0m\u001b[0;34m.\u001b[0m\u001b[0mnext_node\u001b[0m\u001b[0;34m\u001b[0m\u001b[0m\n",
      "\u001b[0;31mQueueException\u001b[0m: Queue is empty"
     ]
    }
   ],
   "source": [
    "class Node:\n",
    "    def __init__(self, value):\n",
    "        self.value = value\n",
    "        self.next_node = None\n",
    "        \n",
    "\n",
    "class QueueException(Exception):\n",
    "    def __init__(self, message):\n",
    "        self.message = message\n",
    "\n",
    "\n",
    "class Queue:\n",
    "    def __init__(self):\n",
    "        self.front = None\n",
    "        self.tail = None\n",
    "        \n",
    "    def enqueue(self, value):\n",
    "        new_node = Node(value)\n",
    "        if not self.tail:\n",
    "            self.tail = new_node\n",
    "            self.front = self.tail\n",
    "            return\n",
    "        self.tail.next_node = new_node\n",
    "        self.tail = new_node\n",
    "        \n",
    "    def dequeue(self):\n",
    "        if not self.front:\n",
    "            raise QueueException('Queue is empty')\n",
    "        value = self.front.value\n",
    "        self.front = self.front.next_node\n",
    "        if not self.front:\n",
    "            self.tail = None\n",
    "        return value\n",
    "    \n",
    "    def is_empty(self):\n",
    "        return self.front is None\n",
    "            \n",
    "Q = Queue()\n",
    "Q.enqueue(1)\n",
    "Q.enqueue(2)\n",
    "Q.enqueue(3)\n",
    "print(Q.dequeue())\n",
    "print(Q.dequeue())\n",
    "Q.enqueue(4)\n",
    "print(Q.dequeue())\n",
    "print(Q.dequeue())\n",
    "print(Q.dequeue())\n",
    "\n",
    "\n",
    "\n",
    "\n",
    "        \n",
    "        "
   ]
  },
  {
   "cell_type": "code",
   "execution_count": 43,
   "metadata": {},
   "outputs": [
    {
     "name": "stdout",
     "output_type": "stream",
     "text": [
      "[1]\n",
      "[1, 2]\n",
      "[1, 4]\n",
      "[1, 5]\n",
      "[1, 2, 3]\n",
      "[1, 5, 6]\n",
      "[1, 5, 11]\n",
      "[1, 5, 13]\n",
      "[1, 5, 6, 7]\n",
      "[1, 5, 6, 8]\n",
      "[1, 5, 6, 10]\n",
      "[1, 5, 11, 12]\n",
      "[1, 5, 6, 8, 9]\n"
     ]
    }
   ],
   "source": [
    "T = {1: [2, 4, 5], 2: [3], 5: [6, 11, 13], 6: [7, 8, 10], 8: [9], 11: [12]}\n",
    "\n",
    "def breadth_first_exploration():\n",
    "    queue = Queue()\n",
    "    queue.enqueue([1])\n",
    "    while not queue.is_empty():\n",
    "        path = queue.dequeue()\n",
    "        print(path)\n",
    "        if path[-1] in T:\n",
    "            for child in T[path[-1]]:\n",
    "                queue.enqueue(list(path) + [child])\n",
    "                \n",
    "breadth_first_exploration()"
   ]
  },
  {
   "cell_type": "code",
   "execution_count": 41,
   "metadata": {},
   "outputs": [
    {
     "data": {
      "text/plain": [
       "False"
      ]
     },
     "execution_count": 41,
     "metadata": {},
     "output_type": "execute_result"
    }
   ],
   "source": [
    "q = Queue()\n",
    "q.enqueue(1)\n",
    "q.dequeue()\n",
    "q.is_empty()"
   ]
  }
 ],
 "metadata": {
  "kernelspec": {
   "display_name": "Python 3",
   "language": "python",
   "name": "python3"
  },
  "language_info": {
   "codemirror_mode": {
    "name": "ipython",
    "version": 3
   },
   "file_extension": ".py",
   "mimetype": "text/x-python",
   "name": "python",
   "nbconvert_exporter": "python",
   "pygments_lexer": "ipython3",
   "version": "3.6.2"
  }
 },
 "nbformat": 4,
 "nbformat_minor": 2
}
