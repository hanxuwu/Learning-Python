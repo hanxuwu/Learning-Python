{
 "cells": [
  {
   "cell_type": "code",
   "execution_count": null,
   "metadata": {
    "collapsed": true
   },
   "outputs": [],
   "source": [
    "load_ext nbtutor"
   ]
  },
  {
   "cell_type": "code",
   "execution_count": null,
   "metadata": {},
   "outputs": [],
   "source": [
    "%%nbtutor\n",
    "\n",
    "a = 0\n",
    "L1 = [0, 1]\n",
    "L2 = [0, 1]\n",
    "\n",
    "def f(a):\n",
    "    a = 1\n",
    "    print(a)\n",
    "\n",
    "def g(L1):\n",
    "    L1 = [1, 2]\n",
    "    print(L1)\n",
    "    \n",
    "def h(L2):\n",
    "    L2[1] = 3\n",
    "    print(L2)\n",
    "    \n",
    "f(a)\n",
    "g(L1)\n",
    "h(L2)\n",
    "print(a, L1, L2)\n"
   ]
  },
  {
   "cell_type": "code",
   "execution_count": null,
   "metadata": {},
   "outputs": [],
   "source": [
    "ls"
   ]
  },
  {
   "cell_type": "code",
   "execution_count": null,
   "metadata": {},
   "outputs": [],
   "source": [
    "import os\n",
    "# dir(os)\n",
    "dir(os.path)"
   ]
  },
  {
   "cell_type": "code",
   "execution_count": null,
   "metadata": {},
   "outputs": [],
   "source": [
    "import os\n",
    "import sys\n",
    "\n",
    "original_directory = 'names'\n",
    "new_directory = original_directory + '_classified'\n",
    "\n",
    "if os.path.isdir(new_directory):\n",
    "    print(f'{new_directory} already exists, leaving it there.')\n",
    "    sys.exit()\n",
    "os.mkdir(new_directory)\n",
    "male_directory = new_directory + '/males'\n",
    "female_directory = new_directory + '/females'\n",
    "os.mkdir(male_directory)\n",
    "os.mkdir(female_directory)\n",
    "for file in os.listdir(original_directory):\n",
    "    print(file)\n"
   ]
  },
  {
   "cell_type": "code",
   "execution_count": null,
   "metadata": {},
   "outputs": [],
   "source": [
    "import os\n",
    "import sys\n",
    "\n",
    "original_directory = 'names'\n",
    "new_directory = original_directory + '_classified'\n",
    "\n",
    "if os.path.isdir(new_directory):\n",
    "    print(f'{new_directory} already exists, leaving it there.')\n",
    "    sys.exit()\n",
    "os.mkdir(new_directory)\n",
    "male_directory = new_directory + '/males'\n",
    "female_directory = new_directory + '/females'\n",
    "os.mkdir(male_directory)\n",
    "os.mkdir(female_directory)\n",
    "for filename in os.listdir(original_directory):\n",
    "    if not filename.endswith('.txt'):\n",
    "        continue\n",
    "    with open(original_directory + '/' + filename) as names,\\\n",
    "                               open(male_directory + '/' + filename, 'w') as male_names,\\\n",
    "                            open(female_directory + '/' + filename, 'w') as female_names:\n",
    "        for line in names:\n",
    "            name, gender, count = line.split(',')\n",
    "            if gender == 'F':\n",
    "                print(name, ',', count, file = female_names, sep = '', end = '')\n",
    "            else:\n",
    "                print(name, ',', count, file = male_names, sep = '', end = '')\n",
    "\n",
    "        \n",
    "\n",
    "\n",
    "            \n",
    "    \n"
   ]
  },
  {
   "cell_type": "code",
   "execution_count": null,
   "metadata": {},
   "outputs": [],
   "source": [
    "D = {}\n",
    "D['paul'] = [1887]\n",
    "D['paul'].append(1896)\n",
    "D"
   ]
  },
  {
   "cell_type": "code",
   "execution_count": null,
   "metadata": {},
   "outputs": [],
   "source": [
    "D = {}\n",
    "D['paul'].append(1887)\n",
    "D['paul'].append(1896)\n",
    "D"
   ]
  },
  {
   "cell_type": "code",
   "execution_count": null,
   "metadata": {},
   "outputs": [],
   "source": [
    "from collections import defaultdict\n",
    "D = defaultdict(list)\n",
    "D['paul'].append(1887)\n",
    "D['paul'].append(1896)\n",
    "D"
   ]
  },
  {
   "cell_type": "code",
   "execution_count": null,
   "metadata": {},
   "outputs": [],
   "source": [
    "import os\n",
    "import sys\n",
    "from collections import defaultdict\n",
    "\n",
    "original_directory = 'names'\n",
    "\n",
    "years_by_name = defaultdict(list)\n",
    "for filename in os.listdir(original_directory):\n",
    "    if not filename.endswith('.txt'):\n",
    "        continue\n",
    "    with open(original_directory + '/' + filename) as names:\n",
    "        year = int(filename[3: 7])\n",
    "        for line in names:\n",
    "            name, gender, count = line.split(',')\n",
    "            if gender == 'M':\n",
    "                break\n",
    "            years_by_name[name].append(year)\n",
    "print(years_by_name['Helen'])\n",
    "            \n",
    "\n",
    "        \n",
    "\n",
    "\n",
    "            \n",
    "    \n",
    "\n"
   ]
  },
  {
   "cell_type": "code",
   "execution_count": null,
   "metadata": {},
   "outputs": [],
   "source": [
    "import os\n",
    "import sys\n",
    "from collections import defaultdict\n",
    "\n",
    "original_directory = 'names'\n",
    "\n",
    "years_by_name = defaultdict(list)\n",
    "for filename in os.listdir(original_directory):\n",
    "    if not filename.endswith('.txt'):\n",
    "        continue\n",
    "    with open(original_directory + '/' + filename) as names:\n",
    "        year = int(filename[3: 7])\n",
    "        for line in names:\n",
    "            name, gender, count = line.split(',')\n",
    "            if gender == 'M':\n",
    "                break\n",
    "            years_by_name[name].append(year)\n",
    "data = [(years_by_name[name][i + 1] - years_by_name[name][i], years_by_name[name][i], name)\n",
    "             for name in years_by_name\n",
    "                for i in range(len(years_by_name[name]) - 1)\n",
    "        \n",
    "       ]\n",
    "for (gap, year, name) in sorted(data, reverse = True)[: ]:\n",
    "    print(f'{name} was not given for {gap} many years, the last time '\n",
    "         f'between {year} and {year + gap}')\n",
    "    \n",
    "\n",
    "        \n",
    "\n",
    "\n",
    "            \n",
    "    \n",
    "\n"
   ]
  },
  {
   "cell_type": "code",
   "execution_count": null,
   "metadata": {},
   "outputs": [],
   "source": [
    "sum(96 ** i for i in range(1, 12))"
   ]
  },
  {
   "cell_type": "code",
   "execution_count": null,
   "metadata": {},
   "outputs": [],
   "source": [
    "from string import printable\n",
    "possible_keys = printable[: -3]\n",
    "shifts = {possible_keys[i]: i for i in range(len(possible_keys))}\n",
    "print(shifts)"
   ]
  },
  {
   "cell_type": "code",
   "execution_count": 48,
   "metadata": {},
   "outputs": [
    {
     "name": "stdout",
     "output_type": "stream",
     "text": [
      "[36, 37, 53, 36, 38, 36, 39, 36, 37, 53, 36, 36, 37, 53, 36, 38, 36, 39, 36, 37, 53, 36, 36, 37, 53, 36, 38, 36, 39, 36, 37, 53, 36, 36, 37, 53, 36, 38, 36, 39, 36]\n",
      "+W*MQx*K$OLOR*XZS!Qy?YxR&$z&R\"*O$S#&NzYSx\n"
     ]
    }
   ],
   "source": [
    "from string import printable\n",
    "possible_keys = printable[: -3]\n",
    "\n",
    "key = 'ABRACADABRA'\n",
    "shifts = {possible_keys[i]: i for i in range(len(possible_keys))}\n",
    "text = 'Alice was beginning to get very tired of '\n",
    "A = [shifts[text[i]] for i in range(len(text))]\n",
    "B = [shifts[key[i % len(key)]] for i in range(len(text))]\n",
    "print(B)\n",
    "mode = 1\n",
    "print(''.join(possible_keys[(shifts[text[i]] + shifts[key[i % len(key)]] * mode) % len(shifts)]\n",
    "                                                         for i in range(len(text))))"
   ]
  },
  {
   "cell_type": "code",
   "execution_count": 53,
   "metadata": {},
   "outputs": [
    {
     "name": "stdout",
     "output_type": "stream",
     "text": [
      "[(' ', 8), ('e', 5), ('i', 4), ('g', 3), ('n', 3), ('t', 3), ('o', 2), ('r', 2), ('A', 1), ('l', 1), ('c', 1), ('w', 1), ('a', 1), ('s', 1), ('b', 1), ('v', 1), ('y', 1), ('d', 1), ('f', 1)]\n"
     ]
    }
   ],
   "source": [
    "from collections import defaultdict, Counter\n",
    "\n",
    "C = Counter(text)\n",
    "print(sorted(C.items(), key = lambda x: x[1], reverse = True))"
   ]
  },
  {
   "cell_type": "code",
   "execution_count": 59,
   "metadata": {},
   "outputs": [
    {
     "name": "stdout",
     "output_type": "stream",
     "text": [
      "operator.itemgetter(1)\n"
     ]
    }
   ],
   "source": [
    "from operator import itemgetter, getitem\n",
    "\n",
    "L = ['A', 1, 4]\n",
    "print(itemgetter(L[1]))"
   ]
  }
 ],
 "metadata": {
  "celltoolbar": "Visualize",
  "kernelspec": {
   "display_name": "Python 3",
   "language": "python",
   "name": "python3"
  },
  "language_info": {
   "codemirror_mode": {
    "name": "ipython",
    "version": 3
   },
   "file_extension": ".py",
   "mimetype": "text/x-python",
   "name": "python",
   "nbconvert_exporter": "python",
   "pygments_lexer": "ipython3",
   "version": "3.6.2"
  }
 },
 "nbformat": 4,
 "nbformat_minor": 2
}
