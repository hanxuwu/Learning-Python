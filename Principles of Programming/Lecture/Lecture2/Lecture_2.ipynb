{
 "cells": [
  {
   "cell_type": "code",
   "execution_count": 2,
   "metadata": {},
   "outputs": [
    {
     "name": "stdout",
     "output_type": "stream",
     "text": [
      "How nany times do you want to run the simulation? 20\n"
     ]
    },
    {
     "data": {
      "text/plain": [
       "'20'"
      ]
     },
     "execution_count": 2,
     "metadata": {},
     "output_type": "execute_result"
    }
   ],
   "source": [
    "input('How nany times do you want to run the simulation? ')"
   ]
  },
  {
   "cell_type": "code",
   "execution_count": 5,
   "metadata": {},
   "outputs": [
    {
     "name": "stdout",
     "output_type": "stream",
     "text": [
      "How nany times do you want to run the simulation? 20\n",
      "20\n"
     ]
    }
   ],
   "source": [
    "n = int(input('How nany times do you want to run the simulation? '))\n",
    "print(n)\n"
   ]
  },
  {
   "cell_type": "code",
   "execution_count": 6,
   "metadata": {},
   "outputs": [
    {
     "name": "stdout",
     "output_type": "stream",
     "text": [
      "How nany times do you want to run the simulation? asd\n"
     ]
    },
    {
     "ename": "ValueError",
     "evalue": "invalid literal for int() with base 10: 'asd'",
     "output_type": "error",
     "traceback": [
      "\u001b[0;31m---------------------------------------------------------------------------\u001b[0m",
      "\u001b[0;31mValueError\u001b[0m                                Traceback (most recent call last)",
      "\u001b[0;32m<ipython-input-6-75955269f9b5>\u001b[0m in \u001b[0;36m<module>\u001b[0;34m()\u001b[0m\n\u001b[0;32m----> 1\u001b[0;31m \u001b[0mn\u001b[0m \u001b[0;34m=\u001b[0m \u001b[0mint\u001b[0m\u001b[0;34m(\u001b[0m\u001b[0minput\u001b[0m\u001b[0;34m(\u001b[0m\u001b[0;34m'How nany times do you want to run the simulation? '\u001b[0m\u001b[0;34m)\u001b[0m\u001b[0;34m)\u001b[0m\u001b[0;34m\u001b[0m\u001b[0m\n\u001b[0m\u001b[1;32m      2\u001b[0m \u001b[0mprint\u001b[0m\u001b[0;34m(\u001b[0m\u001b[0mn\u001b[0m\u001b[0;34m)\u001b[0m\u001b[0;34m\u001b[0m\u001b[0m\n",
      "\u001b[0;31mValueError\u001b[0m: invalid literal for int() with base 10: 'asd'"
     ]
    }
   ],
   "source": [
    "n = int(input('How nany times do you want to run the simulation? '))\n",
    "print(n)\n"
   ]
  },
  {
   "cell_type": "code",
   "execution_count": 8,
   "metadata": {},
   "outputs": [
    {
     "name": "stdout",
     "output_type": "stream",
     "text": [
      "How nany times do you want to run the simulation? sdasd\n",
      "Incorrect input, try again\n"
     ]
    }
   ],
   "source": [
    "try:\n",
    "    n = int(input('How nany times do you want to run the simulation? '))\n",
    "    print(n)\n",
    "except ValueError:\n",
    "    print('Incorrect input, try again')\n"
   ]
  },
  {
   "cell_type": "code",
   "execution_count": 2,
   "metadata": {},
   "outputs": [
    {
     "name": "stdout",
     "output_type": "stream",
     "text": [
      "How nany times do you want to run the simulation? adfad\n",
      "Incorrect input, try again\n",
      "How nany times do you want to run the simulation? asdfa\n",
      "Incorrect input, try again\n",
      "How nany times do you want to run the simulation? 20\n",
      "20\n"
     ]
    }
   ],
   "source": [
    "while True:\n",
    "    try:\n",
    "        n = int(input('How nany times do you want to run the simulation? '))\n",
    "        break\n",
    "    except ValueError:\n",
    "        print('Incorrect input, try again')\n",
    "print(n)\n"
   ]
  },
  {
   "cell_type": "code",
   "execution_count": 3,
   "metadata": {},
   "outputs": [
    {
     "name": "stdout",
     "output_type": "stream",
     "text": [
      "How nany times do you want to run the simulation? asdas\n",
      "Incorrect input, try again\n",
      "How nany times do you want to run the simulation? -34\n",
      "Incorrect input, try again\n",
      "How nany times do you want to run the simulation? 34\n",
      "34\n"
     ]
    }
   ],
   "source": [
    "while True:\n",
    "    try:\n",
    "        n = int(input('How nany times do you want to run the simulation? '))\n",
    "        if n <= 0:\n",
    "            raise ValueError\n",
    "        break\n",
    "    except ValueError:\n",
    "        print('Incorrect input, try again')\n",
    "print(n)\n"
   ]
  },
  {
   "cell_type": "code",
   "execution_count": 4,
   "metadata": {},
   "outputs": [
    {
     "name": "stdout",
     "output_type": "stream",
     "text": [
      "How nany times do you want to run the simulation? 30\n",
      "30\n",
      "Do you want to switch? Oh no!\n",
      "Incorrect input, try again\n",
      "Do you want to switch? No\n"
     ]
    }
   ],
   "source": [
    "while True:\n",
    "    try:\n",
    "        n = int(input('How nany times do you want to run the simulation? '))\n",
    "        if n <= 0:\n",
    "            raise ValueError\n",
    "        break\n",
    "    except ValueError:\n",
    "        print('Incorrect input, try again')\n",
    "print(n)\n",
    "\n",
    "while True:\n",
    "    switch = input('Do you want to switch? ')\n",
    "    if switch in {'yes', 'Yes', 'y', 'Y'}:\n",
    "        switch = True\n",
    "        break\n",
    "    if switch in {'no', 'No', 'n', 'N'}:\n",
    "        switch = False\n",
    "        break\n",
    "    else:\n",
    "        print('Incorrect input, try again')\n",
    "\n",
    "        \n",
    "\n",
    "    \n"
   ]
  },
  {
   "cell_type": "code",
   "execution_count": 5,
   "metadata": {},
   "outputs": [
    {
     "data": {
      "text/plain": [
       "['BPF',\n",
       " 'LOG4',\n",
       " 'NV_MAGICCONST',\n",
       " 'RECIP_BPF',\n",
       " 'Random',\n",
       " 'SG_MAGICCONST',\n",
       " 'SystemRandom',\n",
       " 'TWOPI',\n",
       " '_BuiltinMethodType',\n",
       " '_MethodType',\n",
       " '_Sequence',\n",
       " '_Set',\n",
       " '__all__',\n",
       " '__builtins__',\n",
       " '__cached__',\n",
       " '__doc__',\n",
       " '__file__',\n",
       " '__loader__',\n",
       " '__name__',\n",
       " '__package__',\n",
       " '__spec__',\n",
       " '_acos',\n",
       " '_bisect',\n",
       " '_ceil',\n",
       " '_cos',\n",
       " '_e',\n",
       " '_exp',\n",
       " '_inst',\n",
       " '_itertools',\n",
       " '_log',\n",
       " '_pi',\n",
       " '_random',\n",
       " '_sha512',\n",
       " '_sin',\n",
       " '_sqrt',\n",
       " '_test',\n",
       " '_test_generator',\n",
       " '_urandom',\n",
       " '_warn',\n",
       " 'betavariate',\n",
       " 'choice',\n",
       " 'choices',\n",
       " 'expovariate',\n",
       " 'gammavariate',\n",
       " 'gauss',\n",
       " 'getrandbits',\n",
       " 'getstate',\n",
       " 'lognormvariate',\n",
       " 'normalvariate',\n",
       " 'paretovariate',\n",
       " 'randint',\n",
       " 'random',\n",
       " 'randrange',\n",
       " 'sample',\n",
       " 'seed',\n",
       " 'setstate',\n",
       " 'shuffle',\n",
       " 'triangular',\n",
       " 'uniform',\n",
       " 'vonmisesvariate',\n",
       " 'weibullvariate']"
      ]
     },
     "execution_count": 5,
     "metadata": {},
     "output_type": "execute_result"
    }
   ],
   "source": [
    "import random\n",
    "dir(random)"
   ]
  },
  {
   "cell_type": "code",
   "execution_count": 6,
   "metadata": {},
   "outputs": [
    {
     "data": {
      "text/plain": [
       "['BPF',\n",
       " 'LOG4',\n",
       " 'NV_MAGICCONST',\n",
       " 'RECIP_BPF',\n",
       " 'Random',\n",
       " 'SG_MAGICCONST',\n",
       " 'SystemRandom',\n",
       " 'TWOPI',\n",
       " 'betavariate',\n",
       " 'choice',\n",
       " 'choices',\n",
       " 'expovariate',\n",
       " 'gammavariate',\n",
       " 'gauss',\n",
       " 'getrandbits',\n",
       " 'getstate',\n",
       " 'lognormvariate',\n",
       " 'normalvariate',\n",
       " 'paretovariate',\n",
       " 'randint',\n",
       " 'random',\n",
       " 'randrange',\n",
       " 'sample',\n",
       " 'seed',\n",
       " 'setstate',\n",
       " 'shuffle',\n",
       " 'triangular',\n",
       " 'uniform',\n",
       " 'vonmisesvariate',\n",
       " 'weibullvariate']"
      ]
     },
     "execution_count": 6,
     "metadata": {},
     "output_type": "execute_result"
    }
   ],
   "source": [
    "import random\n",
    "[x for x in dir(random) if not x.startswith('_')]"
   ]
  },
  {
   "cell_type": "code",
   "execution_count": 7,
   "metadata": {},
   "outputs": [
    {
     "name": "stdout",
     "output_type": "stream",
     "text": [
      "Help on method choice in module random:\n",
      "\n",
      "choice(seq) method of random.Random instance\n",
      "    Choose a random element from a non-empty sequence.\n",
      "\n"
     ]
    }
   ],
   "source": [
    "help(random.choice)"
   ]
  },
  {
   "cell_type": "code",
   "execution_count": 17,
   "metadata": {},
   "outputs": [
    {
     "data": {
      "text/plain": [
       "['append',\n",
       " 'clear',\n",
       " 'copy',\n",
       " 'count',\n",
       " 'extend',\n",
       " 'index',\n",
       " 'insert',\n",
       " 'pop',\n",
       " 'remove',\n",
       " 'reverse',\n",
       " 'sort']"
      ]
     },
     "execution_count": 17,
     "metadata": {},
     "output_type": "execute_result"
    }
   ],
   "source": [
    "[x for x in dir(list) if not x.startswith('_')]"
   ]
  },
  {
   "cell_type": "code",
   "execution_count": 25,
   "metadata": {},
   "outputs": [
    {
     "data": {
      "text/plain": [
       "'C'"
      ]
     },
     "execution_count": 25,
     "metadata": {},
     "output_type": "execute_result"
    }
   ],
   "source": [
    "L = ['A', 'B', 'C']\n",
    "L.pop()"
   ]
  },
  {
   "cell_type": "code",
   "execution_count": 32,
   "metadata": {},
   "outputs": [
    {
     "name": "stdout",
     "output_type": "stream",
     "text": [
      "C ['A', 'B']\n"
     ]
    }
   ],
   "source": [
    "from random import choice, randrange\n",
    "\n",
    "doors = ['A', 'B', 'C']\n",
    "nb_of_wins = 0\n",
    "winning_door = choice(doors)\n",
    "first_choice = doors.pop(randrange(3))\n",
    "print(first_choice, doors)\n",
    "\n",
    "\n",
    "\n",
    "    \n"
   ]
  },
  {
   "cell_type": "code",
   "execution_count": 32,
   "metadata": {},
   "outputs": [
    {
     "name": "stdout",
     "output_type": "stream",
     "text": [
      "C ['A', 'B']\n"
     ]
    }
   ],
   "source": [
    "from random import choice, randrange\n",
    "\n",
    "doors = ['A', 'B', 'C']\n",
    "nb_of_wins = 0\n",
    "winning_door = choice(doors)\n",
    "first_choice = doors.pop(randrange(3))\n",
    "print(first_choice, doors)\n",
    "if not switch:\n",
    "    second_choice = first_choice\n",
    "if first_choice == winning_door:\n",
    "    opened_door = doors.pop(randrange(2))\n",
    "    if switch:\n",
    "        second_choice = doors[0]\n",
    "    else:\n",
    "        nb_of_wins += 1\n",
    "else:\n",
    "    doors.remove(winning_door)\n",
    "    opened_door = doors[0]\n",
    "    if switch:\n",
    "        second_choice = winning_door\n",
    "        nb_of_wins += 1\n"
   ]
  },
  {
   "cell_type": "code",
   "execution_count": 34,
   "metadata": {},
   "outputs": [
    {
     "name": "stdout",
     "output_type": "stream",
     "text": [
      "How nany times do you want to run the simulation? 3\n",
      "Do you want to switch? yes\n",
      "Winning door: C\n",
      "First choice: C\n",
      "Opened door: A\n",
      "Seconc choice: B\n",
      "\n",
      "Winning door: B\n",
      "First choice: C\n",
      "Opened door: A\n",
      "Seconc choice: B\n",
      "\n",
      "Winning door: A\n",
      "First choice: C\n",
      "Opened door: B\n",
      "Seconc choice: A\n",
      "\n",
      "1\n"
     ]
    }
   ],
   "source": [
    "from random import choice, randrange\n",
    "\n",
    "while True:\n",
    "    try:\n",
    "        n = int(input('How nany times do you want to run the simulation? '))\n",
    "        if n <= 0:\n",
    "            raise ValueError\n",
    "        break\n",
    "    except ValueError:\n",
    "        print('Incorrect input, try again')\n",
    "\n",
    "while True:\n",
    "    switch = input('Do you want to switch? ')\n",
    "    if switch in {'yes', 'Yes', 'y', 'Y'}:\n",
    "        switch = True\n",
    "        break\n",
    "    if switch in {'no', 'No', 'n', 'N'}:\n",
    "        switch = False\n",
    "        break\n",
    "    else:\n",
    "        print('Incorrect input, try again')\n",
    "\n",
    "for _ in range(n):\n",
    "    doors = ['A', 'B', 'C']\n",
    "    nb_of_wins = 0\n",
    "    winning_door = choice(doors)\n",
    "    first_choice = doors.pop(randrange(3))\n",
    "    if not switch:\n",
    "        second_choice = first_choice\n",
    "    if first_choice == winning_door:\n",
    "        opened_door = doors.pop(randrange(2))\n",
    "        if switch:\n",
    "            second_choice = doors[0]\n",
    "        else:\n",
    "            nb_of_wins += 1\n",
    "    else:\n",
    "        doors.remove(winning_door)\n",
    "        opened_door = doors[0]\n",
    "        if switch:\n",
    "            second_choice = winning_door\n",
    "            nb_of_wins += 1\n",
    "    print('Winning door:', winning_door)\n",
    "    print('First choice:', first_choice)\n",
    "    print('Opened door:', opened_door)\n",
    "    print('Seconc choice:', second_choice)\n",
    "    print()\n",
    "print(nb_of_wins)\n",
    "\n",
    "\n"
   ]
  },
  {
   "cell_type": "code",
   "execution_count": 35,
   "metadata": {},
   "outputs": [
    {
     "name": "stdout",
     "output_type": "stream",
     "text": [
      "How nany times do you want to run the simulation? 4\n",
      "Do you want to switch? yes\n",
      "Winning door: A\n",
      "First choice: C\n",
      "Opened door: B\n",
      "Seconc choice: A\n",
      "\n",
      "Winning door: B\n",
      "First choice: A\n",
      "Opened door: C\n",
      "Seconc choice: B\n",
      "\n",
      "Winning door: B\n",
      "First choice: A\n",
      "Opened door: C\n",
      "Seconc choice: B\n",
      "\n",
      "Winning door: A\n",
      "First choice: A\n",
      "Opened door: C\n",
      "Seconc choice: B\n",
      "\n",
      "3\n"
     ]
    }
   ],
   "source": [
    "from random import choice, randrange\n",
    "\n",
    "while True:\n",
    "    try:\n",
    "        n = int(input('How nany times do you want to run the simulation? '))\n",
    "        if n <= 0:\n",
    "            raise ValueError\n",
    "        break\n",
    "    except ValueError:\n",
    "        print('Incorrect input, try again')\n",
    "\n",
    "while True:\n",
    "    switch = input('Do you want to switch? ')\n",
    "    if switch in {'yes', 'Yes', 'y', 'Y'}:\n",
    "        switch = True\n",
    "        break\n",
    "    if switch in {'no', 'No', 'n', 'N'}:\n",
    "        switch = False\n",
    "        break\n",
    "    else:\n",
    "        print('Incorrect input, try again')\n",
    "\n",
    "nb_of_wins = 0\n",
    "\n",
    "for _ in range(n):\n",
    "    doors = ['A', 'B', 'C']\n",
    "    winning_door = choice(doors)\n",
    "    \n",
    "    first_choice = doors.pop(randrange(3))\n",
    "# ALTERNATIVE:    \n",
    "#    first_choice = choice(doors)\n",
    "#    doors.remove(first_choice)\n",
    "    \n",
    "    if not switch:\n",
    "        second_choice = first_choice\n",
    "    if first_choice == winning_door:\n",
    "        opened_door = doors.pop(randrange(2))\n",
    "        if switch:\n",
    "            second_choice = doors[0]\n",
    "        else:\n",
    "            nb_of_wins += 1\n",
    "    else:\n",
    "        doors.remove(winning_door)\n",
    "        opened_door = doors[0]\n",
    "        if switch:\n",
    "            second_choice = winning_door\n",
    "            nb_of_wins += 1\n",
    "    print('Winning door:', winning_door)\n",
    "    print('First choice:', first_choice)\n",
    "    print('Opened door:', opened_door)\n",
    "    print('Seconc choice:', second_choice)\n",
    "    print()\n",
    "print(nb_of_wins)\n",
    "\n",
    "\n"
   ]
  },
  {
   "cell_type": "code",
   "execution_count": 36,
   "metadata": {},
   "outputs": [
    {
     "name": "stdout",
     "output_type": "stream",
     "text": [
      "__main__\n"
     ]
    }
   ],
   "source": [
    "print(__name__)"
   ]
  },
  {
   "cell_type": "code",
   "execution_count": 37,
   "metadata": {},
   "outputs": [
    {
     "data": {
      "text/plain": [
       "11"
      ]
     },
     "execution_count": 37,
     "metadata": {},
     "output_type": "execute_result"
    }
   ],
   "source": [
    "L =[10, 11, 12, 13]\n",
    "L.pop(1)"
   ]
  },
  {
   "cell_type": "code",
   "execution_count": 38,
   "metadata": {},
   "outputs": [
    {
     "data": {
      "text/plain": [
       "[10, 12, 13]"
      ]
     },
     "execution_count": 38,
     "metadata": {},
     "output_type": "execute_result"
    }
   ],
   "source": [
    "L"
   ]
  },
  {
   "cell_type": "code",
   "execution_count": 39,
   "metadata": {},
   "outputs": [
    {
     "name": "stdout",
     "output_type": "stream",
     "text": [
      "None\n"
     ]
    }
   ],
   "source": [
    "print(L.remove(13))"
   ]
  },
  {
   "cell_type": "code",
   "execution_count": 40,
   "metadata": {},
   "outputs": [
    {
     "data": {
      "text/plain": [
       "[10, 12]"
      ]
     },
     "execution_count": 40,
     "metadata": {},
     "output_type": "execute_result"
    }
   ],
   "source": [
    "L"
   ]
  },
  {
   "cell_type": "code",
   "execution_count": 43,
   "metadata": {},
   "outputs": [
    {
     "name": "stdout",
     "output_type": "stream",
     "text": [
      "[10, 11, 12, 13, 14, 15]\n"
     ]
    }
   ],
   "source": [
    "L = list(range(10, 16))\n",
    "print(L)"
   ]
  },
  {
   "cell_type": "code",
   "execution_count": 47,
   "metadata": {},
   "outputs": [
    {
     "name": "stdout",
     "output_type": "stream",
     "text": [
      "[12, 13, 14, 15]\n"
     ]
    }
   ],
   "source": [
    "L = list(range(10, 16))\n",
    "print(L[2: ])"
   ]
  },
  {
   "cell_type": "code",
   "execution_count": 48,
   "metadata": {},
   "outputs": [
    {
     "name": "stdout",
     "output_type": "stream",
     "text": [
      "[10, 11]\n"
     ]
    }
   ],
   "source": [
    "L = list(range(10, 16))\n",
    "print(L[: 2])"
   ]
  },
  {
   "cell_type": "code",
   "execution_count": 44,
   "metadata": {},
   "outputs": [
    {
     "name": "stdout",
     "output_type": "stream",
     "text": [
      "{10, 11, 12, 13, 14, 15}\n"
     ]
    }
   ],
   "source": [
    "L = set(range(10, 16))\n",
    "print(L)"
   ]
  },
  {
   "cell_type": "code",
   "execution_count": 45,
   "metadata": {},
   "outputs": [
    {
     "ename": "TypeError",
     "evalue": "cannot convert dictionary update sequence element #0 to a sequence",
     "output_type": "error",
     "traceback": [
      "\u001b[0;31m---------------------------------------------------------------------------\u001b[0m",
      "\u001b[0;31mTypeError\u001b[0m                                 Traceback (most recent call last)",
      "\u001b[0;32m<ipython-input-45-2816feebee81>\u001b[0m in \u001b[0;36m<module>\u001b[0;34m()\u001b[0m\n\u001b[0;32m----> 1\u001b[0;31m \u001b[0mL\u001b[0m \u001b[0;34m=\u001b[0m \u001b[0mdict\u001b[0m\u001b[0;34m(\u001b[0m\u001b[0mrange\u001b[0m\u001b[0;34m(\u001b[0m\u001b[0;36m10\u001b[0m\u001b[0;34m,\u001b[0m \u001b[0;36m16\u001b[0m\u001b[0;34m)\u001b[0m\u001b[0;34m)\u001b[0m\u001b[0;34m\u001b[0m\u001b[0m\n\u001b[0m\u001b[1;32m      2\u001b[0m \u001b[0mprint\u001b[0m\u001b[0;34m(\u001b[0m\u001b[0mL\u001b[0m\u001b[0;34m)\u001b[0m\u001b[0;34m\u001b[0m\u001b[0m\n",
      "\u001b[0;31mTypeError\u001b[0m: cannot convert dictionary update sequence element #0 to a sequence"
     ]
    }
   ],
   "source": [
    "L = dict(range(10, 16))\n",
    "print(L)"
   ]
  },
  {
   "cell_type": "code",
   "execution_count": 46,
   "metadata": {},
   "outputs": [
    {
     "ename": "TypeError",
     "evalue": "cannot convert dictionary update sequence element #0 to a sequence",
     "output_type": "error",
     "traceback": [
      "\u001b[0;31m---------------------------------------------------------------------------\u001b[0m",
      "\u001b[0;31mTypeError\u001b[0m                                 Traceback (most recent call last)",
      "\u001b[0;32m<ipython-input-46-e0f28afc6eef>\u001b[0m in \u001b[0;36m<module>\u001b[0;34m()\u001b[0m\n\u001b[0;32m----> 1\u001b[0;31m \u001b[0mdict\u001b[0m\u001b[0;34m(\u001b[0m\u001b[0mrange\u001b[0m\u001b[0;34m(\u001b[0m\u001b[0;36m10\u001b[0m\u001b[0;34m,\u001b[0m \u001b[0;36m16\u001b[0m\u001b[0;34m)\u001b[0m\u001b[0;34m)\u001b[0m\u001b[0;34m\u001b[0m\u001b[0m\n\u001b[0m",
      "\u001b[0;31mTypeError\u001b[0m: cannot convert dictionary update sequence element #0 to a sequence"
     ]
    }
   ],
   "source": [
    "dict(range(10, 16))"
   ]
  },
  {
   "cell_type": "code",
   "execution_count": 49,
   "metadata": {},
   "outputs": [
    {
     "data": {
      "text/plain": [
       "True"
      ]
     },
     "execution_count": 49,
     "metadata": {},
     "output_type": "execute_result"
    }
   ],
   "source": [
    "'2345'.isdigit()"
   ]
  },
  {
   "cell_type": "code",
   "execution_count": 50,
   "metadata": {},
   "outputs": [
    {
     "data": {
      "text/plain": [
       "False"
      ]
     },
     "execution_count": 50,
     "metadata": {},
     "output_type": "execute_result"
    }
   ],
   "source": [
    "'23c45'.isdigit()"
   ]
  },
  {
   "cell_type": "code",
   "execution_count": 51,
   "metadata": {},
   "outputs": [
    {
     "data": {
      "text/plain": [
       "'0b1011010'"
      ]
     },
     "execution_count": 51,
     "metadata": {},
     "output_type": "execute_result"
    }
   ],
   "source": [
    "bin(90)"
   ]
  },
  {
   "cell_type": "code",
   "execution_count": 52,
   "metadata": {},
   "outputs": [
    {
     "data": {
      "text/plain": [
       "'1011010'"
      ]
     },
     "execution_count": 52,
     "metadata": {},
     "output_type": "execute_result"
    }
   ],
   "source": [
    "bin(90)[2: ]"
   ]
  },
  {
   "cell_type": "code",
   "execution_count": 53,
   "metadata": {},
   "outputs": [
    {
     "data": {
      "text/plain": [
       "'1011'"
      ]
     },
     "execution_count": 53,
     "metadata": {},
     "output_type": "execute_result"
    }
   ],
   "source": [
    "bin(11)[2: ]"
   ]
  },
  {
   "cell_type": "code",
   "execution_count": 56,
   "metadata": {},
   "outputs": [
    {
     "data": {
      "text/plain": [
       "'00001011'"
      ]
     },
     "execution_count": 56,
     "metadata": {},
     "output_type": "execute_result"
    }
   ],
   "source": [
    "'0' * (8 - len(bin(11)[2: ])) + bin(11)[2: ]"
   ]
  },
  {
   "cell_type": "code",
   "execution_count": 57,
   "metadata": {},
   "outputs": [
    {
     "data": {
      "text/plain": [
       "'11'"
      ]
     },
     "execution_count": 57,
     "metadata": {},
     "output_type": "execute_result"
    }
   ],
   "source": [
    "f'{11}'"
   ]
  },
  {
   "cell_type": "code",
   "execution_count": 58,
   "metadata": {},
   "outputs": [
    {
     "data": {
      "text/plain": [
       "'1011'"
      ]
     },
     "execution_count": 58,
     "metadata": {},
     "output_type": "execute_result"
    }
   ],
   "source": [
    "f'{11:b}'"
   ]
  },
  {
   "cell_type": "code",
   "execution_count": 59,
   "metadata": {},
   "outputs": [
    {
     "data": {
      "text/plain": [
       "'    1011'"
      ]
     },
     "execution_count": 59,
     "metadata": {},
     "output_type": "execute_result"
    }
   ],
   "source": [
    "f'{11:8b}'"
   ]
  },
  {
   "cell_type": "code",
   "execution_count": 60,
   "metadata": {},
   "outputs": [
    {
     "data": {
      "text/plain": [
       "'00001011'"
      ]
     },
     "execution_count": 60,
     "metadata": {},
     "output_type": "execute_result"
    }
   ],
   "source": [
    "f'{11:08b}'"
   ]
  },
  {
   "cell_type": "code",
   "execution_count": null,
   "metadata": {
    "collapsed": true
   },
   "outputs": [],
   "source": [
    "n = f'{90:08b}'"
   ]
  },
  {
   "cell_type": "code",
   "execution_count": 63,
   "metadata": {},
   "outputs": [
    {
     "data": {
      "text/plain": [
       "(2, 7, 5)"
      ]
     },
     "execution_count": 63,
     "metadata": {},
     "output_type": "execute_result"
    }
   ],
   "source": [
    "n = 275\n",
    "n // 100, n // 10 % 10, n % 10"
   ]
  },
  {
   "cell_type": "code",
   "execution_count": 64,
   "metadata": {},
   "outputs": [
    {
     "name": "stdout",
     "output_type": "stream",
     "text": [
      "0 0 0\n",
      "0 0 1\n",
      "0 1 0\n",
      "0 1 1\n",
      "1 0 0\n",
      "1 0 1\n",
      "1 1 0\n",
      "1 1 1\n"
     ]
    }
   ],
   "source": [
    "for i in range(8):\n",
    "    print(i // 4, i // 2 % 2, i % 2)"
   ]
  },
  {
   "cell_type": "code",
   "execution_count": 65,
   "metadata": {},
   "outputs": [
    {
     "data": {
      "text/plain": [
       "{(0, 0, 0): '0',\n",
       " (0, 0, 1): '1',\n",
       " (0, 1, 0): '0',\n",
       " (0, 1, 1): '1',\n",
       " (1, 0, 0): '1',\n",
       " (1, 0, 1): '0',\n",
       " (1, 1, 0): '1',\n",
       " (1, 1, 1): '0'}"
      ]
     },
     "execution_count": 65,
     "metadata": {},
     "output_type": "execute_result"
    }
   ],
   "source": [
    "n = f'{90:08b}'\n",
    "rules = {}\n",
    "for i in range(8):\n",
    "    rules[i // 4, i // 2 % 2, i % 2] = n[7 - i]\n",
    "rules"
   ]
  },
  {
   "cell_type": "code",
   "execution_count": 68,
   "metadata": {},
   "outputs": [
    {
     "data": {
      "text/plain": [
       "{(0, 0, 0): '0',\n",
       " (0, 0, 1): '1',\n",
       " (0, 1, 0): '0',\n",
       " (0, 1, 1): '1',\n",
       " (1, 0, 0): '1',\n",
       " (1, 0, 1): '0',\n",
       " (1, 1, 0): '1',\n",
       " (1, 1, 1): '0'}"
      ]
     },
     "execution_count": 68,
     "metadata": {},
     "output_type": "execute_result"
    }
   ],
   "source": [
    "n = f'{90:08b}'\n",
    "rules = {(i // 4, i // 2 % 2, i % 2): n[7 - i] for i in range(8)}\n",
    "rules"
   ]
  },
  {
   "cell_type": "code",
   "execution_count": 69,
   "metadata": {},
   "outputs": [
    {
     "data": {
      "text/plain": [
       "[0,\n",
       " 0,\n",
       " 0,\n",
       " 0,\n",
       " 0,\n",
       " 0,\n",
       " 0,\n",
       " 0,\n",
       " 0,\n",
       " 0,\n",
       " 0,\n",
       " 0,\n",
       " 0,\n",
       " 0,\n",
       " 0,\n",
       " 0,\n",
       " 0,\n",
       " 0,\n",
       " 0,\n",
       " 0,\n",
       " 1,\n",
       " 0,\n",
       " 0,\n",
       " 0,\n",
       " 0,\n",
       " 0,\n",
       " 0,\n",
       " 0,\n",
       " 0,\n",
       " 0,\n",
       " 0,\n",
       " 0,\n",
       " 0,\n",
       " 0,\n",
       " 0,\n",
       " 0,\n",
       " 0,\n",
       " 0,\n",
       " 0,\n",
       " 0,\n",
       " 0]"
      ]
     },
     "execution_count": 69,
     "metadata": {},
     "output_type": "execute_result"
    }
   ],
   "source": [
    "n = f'{90:08b}'\n",
    "rules = {(i // 4, i // 2 % 2, i % 2): n[7 - i] for i in range(8)}\n",
    "rules\n",
    "\n",
    "line = [0] * 20 + [1] + [0] * 20\n",
    "line"
   ]
  },
  {
   "cell_type": "code",
   "execution_count": 77,
   "metadata": {},
   "outputs": [
    {
     "name": "stdout",
     "output_type": "stream",
     "text": [
      "                    ◼                    \n",
      "                   ◼ ◼                   \n",
      "                  ◼   ◼                  \n",
      "                 ◼ ◼ ◼ ◼                 \n",
      "                ◼       ◼                \n",
      "               ◼ ◼     ◼ ◼               \n",
      "              ◼   ◼   ◼   ◼              \n",
      "             ◼ ◼ ◼ ◼ ◼ ◼ ◼ ◼             \n",
      "            ◼               ◼            \n",
      "           ◼ ◼             ◼ ◼           \n",
      "          ◼   ◼           ◼   ◼          \n",
      "         ◼ ◼ ◼ ◼         ◼ ◼ ◼ ◼         \n",
      "        ◼       ◼       ◼       ◼        \n",
      "       ◼ ◼     ◼ ◼     ◼ ◼     ◼ ◼       \n",
      "      ◼   ◼   ◼   ◼   ◼   ◼   ◼   ◼      \n",
      "     ◼ ◼ ◼ ◼ ◼ ◼ ◼ ◼ ◼ ◼ ◼ ◼ ◼ ◼ ◼ ◼     \n",
      "    ◼                               ◼    \n",
      "   ◼ ◼                             ◼ ◼   \n",
      "  ◼   ◼                           ◼   ◼  \n",
      " ◼ ◼ ◼ ◼                         ◼ ◼ ◼ ◼ \n"
     ]
    }
   ],
   "source": [
    "def print_line(line):\n",
    "    for e in line:\n",
    "        if e:\n",
    "            print(u\"\\u25FC\", end = '')\n",
    "        else:\n",
    "            print(' ', end = '')\n",
    "    print()\n",
    "\n",
    "n = f'{90:08b}'\n",
    "rules = {(i // 4, i // 2 % 2, i % 2): int(n[7 - i]) for i in range(8)}\n",
    "rules\n",
    "\n",
    "line = [0] * 20 + [1] + [0] * 20\n",
    "print_line(line)\n",
    "for i in range(1, 20):\n",
    "    new_line = [0] * 41\n",
    "    for j in range(20 - i, 20 + i + 1):\n",
    "        new_line[j] = rules[line[j - 1], line[j], line[j + 1]]\n",
    "    line = new_line\n",
    "    print_line(line)\n",
    "    "
   ]
  },
  {
   "cell_type": "code",
   "execution_count": 82,
   "metadata": {},
   "outputs": [
    {
     "name": "stdout",
     "output_type": "stream",
     "text": [
      "Input sigma: 34\n",
      "Input tau: 872\n",
      "34 872\n",
      "34838\n",
      "10000\n",
      "3.4838\n"
     ]
    }
   ],
   "source": [
    "sigma = input('Input sigma: ')\n",
    "tau = input('Input tau: ')\n",
    "print(sigma, tau)\n",
    "p = int(sigma) * (10 ** (len(tau)) - 1) + int(tau)\n",
    "q = 10 ** (len(tau) - 1) * 10 ** len(sigma)\n",
    "print(p)\n",
    "print(q)\n",
    "#[sigma * (10^{|tau|} - 1) + tau] /\n",
    "#            [(10^{|tau|} - 1) * 10^{|sigma|}]\n",
    "print(p/q)"
   ]
  },
  {
   "cell_type": "code",
   "execution_count": 83,
   "metadata": {},
   "outputs": [
    {
     "ename": "TypeError",
     "evalue": "g() missing 1 required positional argument: 'n'",
     "output_type": "error",
     "traceback": [
      "\u001b[0;31m---------------------------------------------------------------------------\u001b[0m",
      "\u001b[0;31mTypeError\u001b[0m                                 Traceback (most recent call last)",
      "\u001b[0;32m<ipython-input-83-b01cc4e095f0>\u001b[0m in \u001b[0;36m<module>\u001b[0;34m()\u001b[0m\n\u001b[1;32m      5\u001b[0m     \u001b[0;32mreturn\u001b[0m \u001b[0mm\u001b[0m \u001b[0;34m*\u001b[0m \u001b[0mn\u001b[0m\u001b[0;34m\u001b[0m\u001b[0m\n\u001b[1;32m      6\u001b[0m \u001b[0;34m\u001b[0m\u001b[0m\n\u001b[0;32m----> 7\u001b[0;31m \u001b[0mprint\u001b[0m\u001b[0;34m(\u001b[0m\u001b[0mg\u001b[0m\u001b[0;34m(\u001b[0m\u001b[0mf\u001b[0m\u001b[0;34m(\u001b[0m\u001b[0;34m)\u001b[0m\u001b[0;34m)\u001b[0m\u001b[0;34m)\u001b[0m\u001b[0;34m\u001b[0m\u001b[0m\n\u001b[0m",
      "\u001b[0;31mTypeError\u001b[0m: g() missing 1 required positional argument: 'n'"
     ]
    }
   ],
   "source": [
    "def f():\n",
    "    return (2, 6)\n",
    "\n",
    "def g(m, n):\n",
    "    return m * n\n",
    "\n",
    "print(g(f()))\n"
   ]
  },
  {
   "cell_type": "code",
   "execution_count": 84,
   "metadata": {},
   "outputs": [
    {
     "name": "stdout",
     "output_type": "stream",
     "text": [
      "12\n"
     ]
    }
   ],
   "source": [
    "def f():\n",
    "    return (2, 6)\n",
    "\n",
    "def g(m, n):\n",
    "    return m * n\n",
    "\n",
    "print(g(*f()))\n"
   ]
  }
 ],
 "metadata": {
  "kernelspec": {
   "display_name": "Python 3",
   "language": "python",
   "name": "python3"
  },
  "language_info": {
   "codemirror_mode": {
    "name": "ipython",
    "version": 3
   },
   "file_extension": ".py",
   "mimetype": "text/x-python",
   "name": "python",
   "nbconvert_exporter": "python",
   "pygments_lexer": "ipython3",
   "version": "3.6.2"
  }
 },
 "nbformat": 4,
 "nbformat_minor": 2
}
