{
 "cells": [
  {
   "cell_type": "code",
   "execution_count": 4,
   "metadata": {},
   "outputs": [
    {
     "name": "stdout",
     "output_type": "stream",
     "text": [
      "[None, 7, 6, 3, 3, 4, None, None, None, None, None]\n"
     ]
    }
   ],
   "source": [
    "class PriorityQueue:\n",
    "    def __init__(self, capacity = 10):\n",
    "        self.heap = [None] * (capacity + 1)\n",
    "        self.nb_of_elements = 0\n",
    "        \n",
    "    def insert(self, value):\n",
    "        self.nb_of_elements += 1\n",
    "        self.heap[self.nb_of_elements] = value\n",
    "        self._bubble_up(self.nb_of_elements)\n",
    "        \n",
    "    def _bubble_up(self, i):\n",
    "        if i == 1:\n",
    "            return\n",
    "        if self.heap[i // 2] < self.heap[i]:\n",
    "            self.heap[i // 2], self.heap[i] =\\\n",
    "                                 self.heap[i], self.heap[i // 2]\n",
    "        \n",
    "            self._bubble_up(i // 2)\n",
    "            \n",
    "            \n",
    "pq = PriorityQueue()\n",
    "pq.heap[1: 5] = [6, 4, 3, 3]\n",
    "pq.nb_of_elements = 4\n",
    "pq.insert(7)\n",
    "print(pq.heap)"
   ]
  },
  {
   "cell_type": "code",
   "execution_count": 6,
   "metadata": {},
   "outputs": [
    {
     "name": "stdout",
     "output_type": "stream",
     "text": [
      "[None, 70, 30, 60, 20, 20, 30, 50, None, None, None]\n",
      "0\n",
      "[None, 20, 20, 30, 30, 50, 60, 70, None, None, None]\n"
     ]
    }
   ],
   "source": [
    "class PriorityQueue:\n",
    "    def __init__(self, capacity = 10):\n",
    "        self.heap = [None] * (capacity + 1)\n",
    "        self.nb_of_elements = 0\n",
    "        \n",
    "    def insert(self, value):\n",
    "        self.nb_of_elements += 1\n",
    "        self.heap[self.nb_of_elements] = value\n",
    "        self._bubble_up(self.nb_of_elements)\n",
    "        \n",
    "    def delete(self):\n",
    "        self.heap[self.nb_of_elements], self.heap[1] =\\\n",
    "                            self.heap[1], self.heap[self.nb_of_elements]\n",
    "        self.nb_of_elements -= 1\n",
    "        self._bubble_down(1)\n",
    "\n",
    "    def _bubble_down(self, i):\n",
    "        left_child = 2 * i\n",
    "        if left_child > self.nb_of_elements:\n",
    "            return\n",
    "        right_child = 2 * i + 1\n",
    "        good_child = left_child\n",
    "        if right_child <= self.nb_of_elements and\\\n",
    "             self.heap[left_child] < self.heap[right_child]:\n",
    "            good_child = right_child\n",
    "        if self.heap[i] < self.heap[good_child]:\n",
    "            self.heap[i], self.heap[good_child] =\\\n",
    "                                 self.heap[good_child], self.heap[i]\n",
    "            self._bubble_down(good_child)\n",
    "        \n",
    "    def _bubble_up(self, i):\n",
    "        if i == 1:\n",
    "            return\n",
    "        if self.heap[i // 2] < self.heap[i]:\n",
    "            self.heap[i // 2], self.heap[i] =\\\n",
    "                                 self.heap[i], self.heap[i // 2]\n",
    "        \n",
    "            self._bubble_up(i // 2)\n",
    "            \n",
    "            \n",
    "pq = PriorityQueue()\n",
    "pq.insert(50)\n",
    "pq.insert(20)\n",
    "pq.insert(60)\n",
    "pq.insert(20)\n",
    "pq.insert(30)\n",
    "pq.insert(30)\n",
    "pq.insert(70)\n",
    "print(pq.heap)\n",
    "for i in range(pq.nb_of_elements):\n",
    "    pq.delete()\n",
    "print(pq.nb_of_elements)\n",
    "print(pq.heap)\n",
    "\n",
    "\n"
   ]
  }
 ],
 "metadata": {
  "kernelspec": {
   "display_name": "Python 3",
   "language": "python",
   "name": "python3"
  },
  "language_info": {
   "codemirror_mode": {
    "name": "ipython",
    "version": 3
   },
   "file_extension": ".py",
   "mimetype": "text/x-python",
   "name": "python",
   "nbconvert_exporter": "python",
   "pygments_lexer": "ipython3",
   "version": "3.6.3"
  }
 },
 "nbformat": 4,
 "nbformat_minor": 2
}
