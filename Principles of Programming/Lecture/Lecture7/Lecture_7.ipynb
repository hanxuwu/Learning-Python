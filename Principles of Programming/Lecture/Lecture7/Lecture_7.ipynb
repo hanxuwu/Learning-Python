{
 "cells": [
  {
   "cell_type": "code",
   "execution_count": null,
   "metadata": {},
   "outputs": [],
   "source": [
    "L = [1, 2, 3]\n",
    "L"
   ]
  },
  {
   "cell_type": "code",
   "execution_count": null,
   "metadata": {},
   "outputs": [],
   "source": [
    "L = list([1, 2, 3])\n",
    "L"
   ]
  },
  {
   "cell_type": "code",
   "execution_count": null,
   "metadata": {},
   "outputs": [],
   "source": [
    "L = list('123')\n",
    "L"
   ]
  },
  {
   "cell_type": "code",
   "execution_count": null,
   "metadata": {},
   "outputs": [],
   "source": [
    "L = list([1, 2, 3])\n",
    "L.append(5)\n",
    "list.append(L, 6)\n",
    "L"
   ]
  },
  {
   "cell_type": "code",
   "execution_count": null,
   "metadata": {},
   "outputs": [],
   "source": [
    "x = str('abc')\n",
    "x"
   ]
  },
  {
   "cell_type": "code",
   "execution_count": null,
   "metadata": {},
   "outputs": [],
   "source": [
    "x = str('abc')\n",
    "x"
   ]
  },
  {
   "cell_type": "code",
   "execution_count": null,
   "metadata": {},
   "outputs": [],
   "source": [
    "x = str('abc')\n",
    "print(x.startswith('b'))\n",
    "print(str.startswith(x, 'b'))"
   ]
  },
  {
   "cell_type": "code",
   "execution_count": null,
   "metadata": {},
   "outputs": [],
   "source": [
    "class SecondOrderEquation:\n",
    "    def __init__(self, *, a = 1, b = 0, c = 0):\n",
    "        self.a = a\n",
    "        self.b = b\n",
    "        self.c = c\n",
    "    \n",
    "    def __repr__(self):\n",
    "        return f'SecondOrderEquation({self.a}, {self.b}, {self.c})'\n",
    "    \n",
    "SEO = SecondOrderEquation(a = 1, b = -2, c = 1)\n",
    "SEO"
   ]
  },
  {
   "cell_type": "code",
   "execution_count": null,
   "metadata": {},
   "outputs": [],
   "source": [
    "class SecondOrderEquation:\n",
    "    def __init__(self, *, a = 1, b = 0, c = 0):\n",
    "        self.a = a\n",
    "        self.b = b\n",
    "        self.c = c\n",
    "    \n",
    "    def __repr__(self):\n",
    "        return f'SecondOrderEquation({self.a}, {self.b}, {self.c})'\n",
    "    \n",
    "    def __str__(self):\n",
    "        output_string = ''\n",
    "        if self.a == 1:\n",
    "            output_string = 'x^2'\n",
    "        elif self.a == -1:\n",
    "            output_string = '-x^2'\n",
    "        else:\n",
    "            output_string = f'{self.a}x^2'\n",
    "        if self.b == 1:\n",
    "            output_string += ' + x'\n",
    "        elif self.b == -1:\n",
    "            output_string += ' - x'\n",
    "        elif self.b > 0:\n",
    "            output_string += f' + {self.b}x'\n",
    "        elif self.b < 0:\n",
    "            output_string += f' - {-self.b}x'\n",
    "        if self.c > 0:\n",
    "            output_string += f' + {self.c}'\n",
    "        elif self.c < 0:\n",
    "            output_string += f' - {-self.c}'\n",
    "        return output_string\n",
    "        \n",
    "    \n",
    "SEO_1 = SecondOrderEquation(a = 1, b = -2, c = 1)\n",
    "print(SEO_1)\n",
    "SEO_2 = SecondOrderEquation(c = -4, a = -7)\n",
    "print(SEO_2)\n",
    "SEO_3 = SecondOrderEquation()\n",
    "print(SEO_3)\n",
    "SEO_1, SEO_2, SEO_3"
   ]
  },
  {
   "cell_type": "code",
   "execution_count": null,
   "metadata": {},
   "outputs": [],
   "source": [
    "from math import sqrt\n",
    "\n",
    "class SecondOrderEquation:\n",
    "    def __init__(self, *, a = 1, b = 0, c = 0):\n",
    "        self.a = a\n",
    "        self.b = b\n",
    "        self.c = c\n",
    "        \n",
    "    def compute_roots(self):\n",
    "        delta = self.b ** 2 - 4 * self.a * self.c\n",
    "        if delta < 0:\n",
    "            root_1, root_2 = None, None\n",
    "        elif delta == 0:\n",
    "            root_1 = -self.b / (2 * self.a)\n",
    "            root_2 = root_1\n",
    "        else:\n",
    "            root_1 = (-self.b - sqrt(delta)) / (2 * self.a)\n",
    "            root_2 = (-self.b + sqrt(delta)) / (2 * self.a)\n",
    "        return root_1, root_2\n",
    "    \n",
    "    def __repr__(self):\n",
    "        return f'SecondOrderEquation({self.a}, {self.b}, {self.c})'\n",
    "    \n",
    "    def __str__(self):\n",
    "        output_string = ''\n",
    "        if self.a == 1:\n",
    "            output_string = 'x^2'\n",
    "        elif self.a == -1:\n",
    "            output_string = '-x^2'\n",
    "        else:\n",
    "            output_string = f'{self.a}x^2'\n",
    "        if self.b == 1:\n",
    "            output_string += ' + x'\n",
    "        elif self.b == -1:\n",
    "            output_string += ' - x'\n",
    "        elif self.b > 0:\n",
    "            output_string += f' + {self.b}x'\n",
    "        elif self.b < 0:\n",
    "            output_string += f' - {-self.b}x'\n",
    "        if self.c > 0:\n",
    "            output_string += f' + {self.c}'\n",
    "        elif self.c < 0:\n",
    "            output_string += f' - {-self.c}'\n",
    "        return output_string\n",
    "        \n",
    "    \n",
    "SEO_1 = SecondOrderEquation(a = 1, b = -2, c = 1)\n",
    "print(SecondOrderEquation.compute_roots(SEO_1))\n",
    "print(SEO_1.compute_roots())\n"
   ]
  },
  {
   "cell_type": "code",
   "execution_count": null,
   "metadata": {},
   "outputs": [],
   "source": [
    "from math import sqrt\n",
    "\n",
    "class SecondOrderEquation:\n",
    "    def __init__(self, *, a = 1, b = 0, c = 0):\n",
    "        self.a = a\n",
    "        self.b = b\n",
    "        self.c = c\n",
    "        self._compute_roots()\n",
    "    \n",
    "    def _compute_roots(self):\n",
    "        delta = self.b ** 2 - 4 * self.a * self.c\n",
    "        if delta < 0:\n",
    "            root_1, root_2 = None, None\n",
    "        elif delta == 0:\n",
    "            root_1 = -self.b / (2 * self.a)\n",
    "            root_2 = root_1\n",
    "        else:\n",
    "            root_1 = (-self.b - sqrt(delta)) / (2 * self.a)\n",
    "            root_2 = (-self.b + sqrt(delta)) / (2 * self.a)\n",
    "        self.root_1, self.root_2 = root_1, root_2\n",
    "    \n",
    "    def __repr__(self):\n",
    "        return f'SecondOrderEquation({self.a}, {self.b}, {self.c})'\n",
    "    \n",
    "    def __str__(self):\n",
    "        output_string = ''\n",
    "        if self.a == 1:\n",
    "            output_string = 'x^2'\n",
    "        elif self.a == -1:\n",
    "            output_string = '-x^2'\n",
    "        else:\n",
    "            output_string = f'{self.a}x^2'\n",
    "        if self.b == 1:\n",
    "            output_string += ' + x'\n",
    "        elif self.b == -1:\n",
    "            output_string += ' - x'\n",
    "        elif self.b > 0:\n",
    "            output_string += f' + {self.b}x'\n",
    "        elif self.b < 0:\n",
    "            output_string += f' - {-self.b}x'\n",
    "        if self.c > 0:\n",
    "            output_string += f' + {self.c}'\n",
    "        elif self.c < 0:\n",
    "            output_string += f' - {-self.c}'\n",
    "        return output_string\n",
    "        \n",
    "    \n",
    "SEO_1 = SecondOrderEquation(a = 1, b = -2, c = 1)\n",
    "SEO_1.a, SEO_1.b, SEO_1.c, SEO_1.root_1, SEO_1.root_2\n",
    "SEO_1.name = 'A great equation'\n",
    "dir(SEO_1)"
   ]
  },
  {
   "cell_type": "code",
   "execution_count": null,
   "metadata": {},
   "outputs": [],
   "source": [
    "from math import sqrt\n",
    "\n",
    "class SecondOrderEquation:\n",
    "    def __init__(self, *, a = 1, b = 0, c = 0):\n",
    "        self.a = a\n",
    "        self.b = b\n",
    "        self.c = c\n",
    "        self._compute_roots()\n",
    "    \n",
    "    def _compute_roots(self):\n",
    "        delta = self.b ** 2 - 4 * self.a * self.c\n",
    "        self.__delta = delta\n",
    "        if delta < 0:\n",
    "            root_1, root_2 = None, None\n",
    "        elif delta == 0:\n",
    "            root_1 = -self.b / (2 * self.a)\n",
    "            root_2 = root_1\n",
    "        else:\n",
    "            root_1 = (-self.b - sqrt(delta)) / (2 * self.a)\n",
    "            root_2 = (-self.b + sqrt(delta)) / (2 * self.a)\n",
    "        self.root_1, self.root_2 = root_1, root_2\n",
    "    \n",
    "    def __repr__(self):\n",
    "        return f'SecondOrderEquation({self.a}, {self.b}, {self.c})'\n",
    "    \n",
    "    def __str__(self):\n",
    "        output_string = ''\n",
    "        if self.a == 1:\n",
    "            output_string = 'x^2'\n",
    "        elif self.a == -1:\n",
    "            output_string = '-x^2'\n",
    "        else:\n",
    "            output_string = f'{self.a}x^2'\n",
    "        if self.b == 1:\n",
    "            output_string += ' + x'\n",
    "        elif self.b == -1:\n",
    "            output_string += ' - x'\n",
    "        elif self.b > 0:\n",
    "            output_string += f' + {self.b}x'\n",
    "        elif self.b < 0:\n",
    "            output_string += f' - {-self.b}x'\n",
    "        if self.c > 0:\n",
    "            output_string += f' + {self.c}'\n",
    "        elif self.c < 0:\n",
    "            output_string += f' - {-self.c}'\n",
    "        return output_string\n",
    "        \n",
    "    \n",
    "SEO_1 = SecondOrderEquation(a = 1, b = -2, c = 1)\n",
    "SEO_1.a, SEO_1.b, SEO_1.c, SEO_1.root_1, SEO_1.root_2\n",
    "SEO_1._SecondOrderEquation__delta"
   ]
  },
  {
   "cell_type": "code",
   "execution_count": null,
   "metadata": {},
   "outputs": [],
   "source": [
    "from fractions import Fraction\n",
    "\n",
    "class FiniteProbabilityDistributionError(Exception):\n",
    "    def __init__(self, message):\n",
    "        self.message = message\n",
    "\n",
    "    \n",
    "class FiniteProbabilityDistribution:\n",
    "    def __init__(self, mass_function):\n",
    "        if isinstance(mass_function, set):\n",
    "            self.mass_function = {outcome: Fraction(1, len(mass_function))\n",
    "                                                    for outcome in mass_function}\n",
    "            return\n",
    "        if not all(isinstance(mass_function[outcome], Fraction)\n",
    "                     for outcome in mass_function):\n",
    "            raise FiniteProbabilityDistributionError('All values should be of type Fraction')\n",
    "        if sum(mass_function[outcome] for outcome in mass_function) != 1:\n",
    "            raise FiniteProbabilityDistributionError('All probabilities should add up to 1')\n",
    "        self.mass_function = mass_function\n",
    "        \n",
    "pd_1 = FiniteProbabilityDistribution({'A', 'B', 'C'})\n",
    "pd_2 = FiniteProbabilityDistribution({'A': Fraction(1, 2),\n",
    "                                      'B': Fraction(1, 3),\n",
    "                                      'C': Fraction(1, 6)})\n",
    "print(pd_1.mass_function)\n",
    "\n",
    "Event(pd_1, {'A', 'C'})"
   ]
  },
  {
   "cell_type": "code",
   "execution_count": null,
   "metadata": {},
   "outputs": [],
   "source": [
    "from math import sqrt\n",
    "\n",
    "class SecondOrderEquation:\n",
    "    def __init__(self, *, a = 1, b = 0, c = 0):\n",
    "        self.a = a\n",
    "        self.b = b\n",
    "        self.c = c\n",
    "        self._compute_roots()\n",
    "    \n",
    "    def _compute_roots(self):\n",
    "        delta = self.b ** 2 - 4 * self.a * self.c\n",
    "        if delta < 0:\n",
    "            root_1, root_2 = None, None\n",
    "        elif delta == 0:\n",
    "            root_1 = -self.b / (2 * self.a)\n",
    "            root_2 = root_1\n",
    "        else:\n",
    "            root_1 = (-self.b - sqrt(delta)) / (2 * self.a)\n",
    "            root_2 = (-self.b + sqrt(delta)) / (2 * self.a)\n",
    "        self.root_1, self.root_2 = root_1, root_2\n",
    "    \n",
    "    def __repr__(self):\n",
    "        return f'SecondOrderEquation({self.a}, {self.b}, {self.c})'\n",
    "    \n",
    "    def __str__(self):\n",
    "        output_string = ''\n",
    "        if self.a == 1:\n",
    "            output_string = 'x^2'\n",
    "        elif self.a == -1:\n",
    "            output_string = '-x^2'\n",
    "        else:\n",
    "            output_string = f'{self.a}x^2'\n",
    "        if self.b == 1:\n",
    "            output_string += ' + x'\n",
    "        elif self.b == -1:\n",
    "            output_string += ' - x'\n",
    "        elif self.b > 0:\n",
    "            output_string += f' + {self.b}x'\n",
    "        elif self.b < 0:\n",
    "            output_string += f' - {-self.b}x'\n",
    "        if self.c > 0:\n",
    "            output_string += f' + {self.c}'\n",
    "        elif self.c < 0:\n",
    "            output_string += f' - {-self.c}'\n",
    "        return output_string\n",
    "        \n",
    "    \n",
    "SEO_1 = SecondOrderEquation(a = 1, b = -2, c = 1)\n",
    "SEO_1.a, SEO_1.b, SEO_1.c, SEO_1.root_1, SEO_1.root_2\n",
    "SEO_1.name = 'A great equation'\n",
    "dir(SEO_1)"
   ]
  },
  {
   "cell_type": "code",
   "execution_count": 62,
   "metadata": {},
   "outputs": [
    {
     "name": "stdout",
     "output_type": "stream",
     "text": [
      "[1, 2, 3]\n",
      "[4, 5]\n"
     ]
    }
   ],
   "source": [
    "def f(args):\n",
    "    print(args)\n",
    "    \n",
    "f([1, 2, 3])\n",
    "f([4, 5])"
   ]
  },
  {
   "cell_type": "code",
   "execution_count": 64,
   "metadata": {},
   "outputs": [
    {
     "name": "stdout",
     "output_type": "stream",
     "text": [
      "(1, 2, 3)\n",
      "(4, 5)\n"
     ]
    }
   ],
   "source": [
    "def f(*args):\n",
    "    print(args)\n",
    "    \n",
    "f(1, 2, 3)\n",
    "f(4, 5)"
   ]
  },
  {
   "cell_type": "code",
   "execution_count": 66,
   "metadata": {},
   "outputs": [
    {
     "name": "stdout",
     "output_type": "stream",
     "text": [
      "(1, 2, 3)\n",
      "(4, 5)\n",
      "(1, 2, 3, 4, 5)\n"
     ]
    }
   ],
   "source": [
    "def f(*args):\n",
    "    print(args)\n",
    "    \n",
    "f(1, 2, 3)\n",
    "f(4, 5)\n",
    "f(1, 2, 3, *(4, 5))"
   ]
  },
  {
   "cell_type": "code",
   "execution_count": 68,
   "metadata": {},
   "outputs": [
    {
     "name": "stdout",
     "output_type": "stream",
     "text": [
      "1 2 ()\n",
      "1 2 (3,)\n",
      "1 2 (3, 4)\n"
     ]
    }
   ],
   "source": [
    "def f(x, y, *z):\n",
    "    print(x, y, z)\n",
    "\n",
    "f(1, 2)\n",
    "f(1, 2, 3)\n",
    "f(1, 2, 3, 4)\n"
   ]
  },
  {
   "cell_type": "code",
   "execution_count": 71,
   "metadata": {},
   "outputs": [
    {
     "name": "stdout",
     "output_type": "stream",
     "text": [
      "1 7 ()\n",
      "1 2 ()\n",
      "1 2 (3,)\n"
     ]
    }
   ],
   "source": [
    "def f(x, y = 7, *z):\n",
    "    print(x, y, z)\n",
    "\n",
    "f(1)\n",
    "f(1, 2)\n",
    "f(1, 2, 3)"
   ]
  }
 ],
 "metadata": {
  "kernelspec": {
   "display_name": "Python 3",
   "language": "python",
   "name": "python3"
  },
  "language_info": {
   "codemirror_mode": {
    "name": "ipython",
    "version": 3
   },
   "file_extension": ".py",
   "mimetype": "text/x-python",
   "name": "python",
   "nbconvert_exporter": "python",
   "pygments_lexer": "ipython3",
   "version": "3.6.2"
  }
 },
 "nbformat": 4,
 "nbformat_minor": 2
}
