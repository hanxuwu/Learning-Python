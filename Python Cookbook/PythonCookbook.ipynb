{
 "cells": [
  {
   "cell_type": "markdown",
   "metadata": {},
   "source": [
    "# 1数据结构和算法\n",
    "## 1.1 序列分解为单独的变量\n"
   ]
  },
  {
   "cell_type": "code",
   "execution_count": 1,
   "metadata": {},
   "outputs": [
    {
     "data": {
      "text/plain": [
       "(4, 5)"
      ]
     },
     "execution_count": 1,
     "metadata": {},
     "output_type": "execute_result"
    }
   ],
   "source": [
    "p=(4,5)\n",
    "x,y = p\n",
    "p"
   ]
  },
  {
   "cell_type": "code",
   "execution_count": 2,
   "metadata": {},
   "outputs": [
    {
     "name": "stdout",
     "output_type": "stream",
     "text": [
      "ACME\n",
      "(2017, 7, 30)\n"
     ]
    }
   ],
   "source": [
    "data = ['ACME',50,91.1,(2017,7,30)]\n",
    "name,share,price,date= data\n",
    "print(name)\n",
    "print(date)"
   ]
  },
  {
   "cell_type": "code",
   "execution_count": 3,
   "metadata": {},
   "outputs": [
    {
     "data": {
      "text/plain": [
       "(2017, 7, 30)"
      ]
     },
     "execution_count": 3,
     "metadata": {},
     "output_type": "execute_result"
    }
   ],
   "source": [
    "data = ['ACME',50,91.1,(2017,7,30)]\n",
    "name,share,price,date= data\n",
    "date\n"
   ]
  },
  {
   "cell_type": "code",
   "execution_count": 4,
   "metadata": {},
   "outputs": [
    {
     "name": "stdout",
     "output_type": "stream",
     "text": [
      "2017\n",
      "2017 30\n"
     ]
    }
   ],
   "source": [
    "data = ['ACME',50,91.1,(2017,7,30)]\n",
    "name,share,price,(year,month,day) = data\n",
    "print(year)\n",
    "print(year,day)"
   ]
  },
  {
   "cell_type": "markdown",
   "metadata": {},
   "source": [
    "**Tips：只要对象可迭代，就可以执行分解操作**"
   ]
  },
  {
   "cell_type": "code",
   "execution_count": 5,
   "metadata": {},
   "outputs": [
    {
     "name": "stdout",
     "output_type": "stream",
     "text": [
      "H\n",
      "o\n"
     ]
    }
   ],
   "source": [
    "s ='Hello'\n",
    "a,b,c,d,e=s\n",
    "print(a)\n",
    "print(e)"
   ]
  },
  {
   "cell_type": "markdown",
   "metadata": {},
   "source": [
    "**Tips:可以用一个用不到的值来丢弃不用的变量**"
   ]
  },
  {
   "cell_type": "code",
   "execution_count": 6,
   "metadata": {},
   "outputs": [
    {
     "name": "stdout",
     "output_type": "stream",
     "text": [
      "ACME\n",
      "91.1\n",
      "(2017, 7, 30)\n"
     ]
    }
   ],
   "source": [
    "data = ['ACME',50,91.1,(2017,7,30)]\n",
    "name,_,_,date=data\n",
    "print(name)\n",
    "print(_)\n",
    "print(date)"
   ]
  },
  {
   "cell_type": "markdown",
   "metadata": {},
   "source": [
    "## 1.2从任意长度的可迭代对象中分解元素\n",
    "Tips： 使用  *表达式"
   ]
  },
  {
   "cell_type": "code",
   "execution_count": 7,
   "metadata": {},
   "outputs": [
    {
     "data": {
      "text/plain": [
       "[2, 3, 4, 5, 6, 7]"
      ]
     },
     "execution_count": 7,
     "metadata": {},
     "output_type": "execute_result"
    }
   ],
   "source": [
    "Marks=[1,2,3,4,5,6,7,8]\n",
    "def drop_first_and_last(grade):\n",
    "    first,*middle,last=grade\n",
    "    return middle     # 写函数记得加返回值\n",
    "\n",
    "drop_first_and_last(Marks)\n"
   ]
  },
  {
   "cell_type": "markdown",
   "metadata": {},
   "source": [
    "*练习重写一遍*"
   ]
  },
  {
   "cell_type": "code",
   "execution_count": 8,
   "metadata": {},
   "outputs": [
    {
     "name": "stdout",
     "output_type": "stream",
     "text": [
      "[2, 3, 4, 5]\n"
     ]
    }
   ],
   "source": [
    "number = [1,2,3,4,5,6]\n",
    "def drop_first_last(number):\n",
    "    first,*middle,last = number\n",
    "    return middle\n",
    "print(drop_first_last(number))\n",
    "    "
   ]
  },
  {
   "cell_type": "markdown",
   "metadata": {},
   "source": [
    "**Tips:分解时不用考虑其不是列表的情况**"
   ]
  },
  {
   "cell_type": "code",
   "execution_count": 9,
   "metadata": {},
   "outputs": [
    {
     "data": {
      "text/plain": [
       "['0424554321', '0434567897']"
      ]
     },
     "execution_count": 9,
     "metadata": {},
     "output_type": "execute_result"
    }
   ],
   "source": [
    "record = ['Andrew','18','Andrew@gmail.com','0424554321','0434567897']\n",
    "name,age,mail,*phone_number =record\n",
    "phone_number"
   ]
  },
  {
   "cell_type": "code",
   "execution_count": 10,
   "metadata": {},
   "outputs": [
    {
     "name": "stdout",
     "output_type": "stream",
     "text": [
      "1 2\n",
      "hello\n",
      "4 5\n"
     ]
    }
   ],
   "source": [
    "record=[('foo',1,2),('bar','hello'),('foo',4,5)]\n",
    "def print_foo(x,y):   #记得加 冒号\n",
    "    print(x,y)\n",
    "def print_bar(s): # 未切换输入法  SyntaxError: invalid character in identifier\n",
    "    print(s)\n",
    "    \n",
    "for (name,*args) in record:\n",
    "    if name =='foo': # 记得加  冒号  否则  SyntaxError: invalid syntax\n",
    "        print_foo(*args)   # 记得 缩进   否则  IndentationError: expected an indented block\n",
    "    elif name =='bar':\n",
    "        print_bar(*args)"
   ]
  },
  {
   "cell_type": "markdown",
   "metadata": {},
   "source": [
    "**Tips:特定字符串的拆分操作**"
   ]
  },
  {
   "cell_type": "code",
   "execution_count": 11,
   "metadata": {},
   "outputs": [
    {
     "name": "stdout",
     "output_type": "stream",
     "text": [
      "nobody\n",
      "/var/empty\n",
      "/usr/bin/false\n"
     ]
    }
   ],
   "source": [
    "line = 'nobody:*:-2:-2:Unprivileged User:/var/empty:/usr/bin/false'\n",
    "name,*fields,homedir,sh = line.split(':')\n",
    "print(name)\n",
    "print(homedir)\n",
    "print(sh)"
   ]
  },
  {
   "cell_type": "markdown",
   "metadata": {},
   "source": [
    "**Tips:丢弃多个变量**"
   ]
  },
  {
   "cell_type": "code",
   "execution_count": 12,
   "metadata": {},
   "outputs": [
    {
     "name": "stdout",
     "output_type": "stream",
     "text": [
      "18\n"
     ]
    }
   ],
   "source": [
    "data = ['ACME',50,91.1,(2017,7,18)]\n",
    "name,*_,(*_,split_day) = data\n",
    "print(split_day)\n",
    "\n"
   ]
  },
  {
   "cell_type": "markdown",
   "metadata": {},
   "source": [
    "## 1.3保存最后N个元素"
   ]
  },
  {
   "cell_type": "markdown",
   "metadata": {},
   "source": [
    "**Tips:**  \n",
    "\n",
    "**1.collections.deque 可以用来保存有限的历史记录  from collections import deque  **\n",
    "\n",
    "**2.deque(maxlen=N)可以创建一个固定长度的队列，当有新纪录加入而队列已满时会自动移除最老的那条记录**"
   ]
  },
  {
   "cell_type": "code",
   "execution_count": 13,
   "metadata": {},
   "outputs": [
    {
     "name": "stdout",
     "output_type": "stream",
     "text": [
      "deque([1], maxlen=3)\n",
      "deque([1, 2, 3], maxlen=3)\n",
      "deque([2, 3, 4], maxlen=3)\n"
     ]
    }
   ],
   "source": [
    "from collections import deque\n",
    "\n",
    "q=deque(maxlen=3)\n",
    "q.append(1)\n",
    "print(q)\n",
    "q.append(2)\n",
    "q.append(3)\n",
    "print(q)\n",
    "q.append(4)\n",
    "print(q)"
   ]
  },
  {
   "cell_type": "markdown",
   "metadata": {},
   "source": [
    "** Tips: appendleft 可以从左边添加**"
   ]
  },
  {
   "cell_type": "code",
   "execution_count": 14,
   "metadata": {},
   "outputs": [
    {
     "name": "stdout",
     "output_type": "stream",
     "text": [
      "deque([11, 12, 13], maxlen=3)\n",
      "deque([10, 11, 12], maxlen=3)\n",
      "deque([10, 11], maxlen=3)\n",
      "deque([10, 11, 12], maxlen=3)\n"
     ]
    }
   ],
   "source": [
    "from collections import deque\n",
    "w= deque(maxlen = 3)  \n",
    "w.append(11)\n",
    "w.append(12)\n",
    "w.append(13)\n",
    "print(w)\n",
    "w.appendleft(10) #在左边添加\n",
    "print(w)\n",
    "w.pop() #默认弹出最右  \n",
    "print(w)\n",
    "w.append(12) # 在右边添加\n",
    "print(w)"
   ]
  },
  {
   "cell_type": "markdown",
   "metadata": {},
   "source": [
    "## 1.4 找出最大最小的N个元素\n",
    "**Tips: heapq模块的两个函数 nlargest()和nsmallest()**"
   ]
  },
  {
   "cell_type": "code",
   "execution_count": 15,
   "metadata": {},
   "outputs": [
    {
     "name": "stdout",
     "output_type": "stream",
     "text": [
      "[9, 8, 7]\n",
      "[1, 2]\n"
     ]
    }
   ],
   "source": [
    "import heapq\n",
    "\n",
    "nums =[1,2,3,4,5,6,7,8,9]\n",
    "print(heapq.nlargest(3,nums))   # 从nums 找出最大的三个\n",
    "print(heapq.nsmallest(2,nums))  # 从nums 找出最小的两个"
   ]
  },
  {
   "cell_type": "markdown",
   "metadata": {},
   "source": [
    "**Tips：使用参数key，使heapq工作在更复杂的结构上**"
   ]
  },
  {
   "cell_type": "code",
   "execution_count": 16,
   "metadata": {},
   "outputs": [
    {
     "name": "stdout",
     "output_type": "stream",
     "text": [
      "[{'name': 'FB', 'Share': 200, 'Price': 21.09}, {'name': 'IBM', 'Share': 100, 'Price': 91.1}]\n",
      "[{'name': 'YHOO', 'Share': 45, 'Price': 16.35}, {'name': 'FB', 'Share': 200, 'Price': 21.09}]\n"
     ]
    }
   ],
   "source": [
    "import heapq\n",
    "portfolio=[{'name':'IBM','Share':100,'Price':91.1},\n",
    "           {'name':'FB','Share':200,'Price':21.09},\n",
    "           {'name':'YHOO','Share':45,'Price':16.35},\n",
    "           {'name':'ACME','Share':75,'Price':115.65}\n",
    "            ]\n",
    "print(heapq.nlargest(2,portfolio,key=lambda s:s['Share']))\n",
    "print(heapq.nsmallest(2,portfolio,key=lambda s:s['Price']))"
   ]
  },
  {
   "cell_type": "markdown",
   "metadata": {},
   "source": [
    "**Tips：使用下面的函数可以提供更好地性能**  \n",
    "\n",
    "*heap 最重要特性是 heap[0]总是最小的那个元素，可以通过 heappop()方法弹出* "
   ]
  },
  {
   "cell_type": "code",
   "execution_count": 17,
   "metadata": {},
   "outputs": [
    {
     "name": "stdout",
     "output_type": "stream",
     "text": [
      "[1, 8, 2, 23, 7, -4, 18, 23, 42, 37, 2]\n",
      "[-4, 2, 1, 23, 7, 2, 18, 23, 42, 37, 8]\n",
      "[1, 2, 2, 23, 7, 8, 18, 23, 42, 37]\n"
     ]
    }
   ],
   "source": [
    "import heapq\n",
    "nums=[1,8,2,23,7,-4,18,23,42,37,2]\n",
    "print(nums)\n",
    "heapq.heapify(nums)\n",
    "print(nums)\n",
    "heapq.heappop(nums) \n",
    "print(nums)"
   ]
  },
  {
   "cell_type": "markdown",
   "metadata": {},
   "source": [
    "## 1.5 实现优先级队列（没太理解）\n",
    "**heapq.heappush(heap, item)  把一项值压入堆heap，同时维持堆的排序要求。**"
   ]
  },
  {
   "cell_type": "code",
   "execution_count": 4,
   "metadata": {},
   "outputs": [
    {
     "name": "stdout",
     "output_type": "stream",
     "text": [
      "Item('bar')\n"
     ]
    }
   ],
   "source": [
    "import heapq\n",
    "\n",
    "class PriorityQueue:\n",
    "    \n",
    "    def __init__(self):\n",
    "        self._queue = []\n",
    "        self._index = 0\n",
    "    \n",
    "    def push(self,item,priority):\n",
    "        heapq.heappush(self._queue,(-priority,self._index,item))\n",
    "        self._index +=1\n",
    "    \n",
    "    def pop(self):\n",
    "       #  return heapq.heappop(self._queue)   # (-5, 1, Item('bar'))\n",
    "          return heapq.heappop(self._queue)[-1]  # Item('bar')\n",
    "       #  return heapq.heappop(self._queue)[-2]  # 1\n",
    "    \n",
    "class Item:\n",
    "    def __init__(self,name):\n",
    "        self.name = name\n",
    "    def __repr__(self):\n",
    "        return 'Item({!r})'.format(self.name)\n",
    "    \n",
    "\n",
    "q = PriorityQueue()\n",
    "q.push(Item('foo'),1)\n",
    "q.push(Item('bar'),5)\n",
    "q.push(Item('spam'),4)\n",
    "print(q.pop())\n",
    "    "
   ]
  },
  {
   "cell_type": "markdown",
   "metadata": {},
   "source": [
    "**难点：理解 (-priority,self._index,item) 比较大小的方法**  \n",
    "\n",
    "1. priority取负值为了让队列能够按元素的优先级从高到低的顺序来排列\n",
    "2. index 为了将具有相同优先级的元素以适当的顺序排列\n",
    "3. 实例本身是没法进行次序比较的"
   ]
  },
  {
   "cell_type": "code",
   "execution_count": 5,
   "metadata": {},
   "outputs": [
    {
     "name": "stdout",
     "output_type": "stream",
     "text": [
      "True\n"
     ]
    }
   ],
   "source": [
    "a=(-1,1,'a')\n",
    "b=(1,1,'a')\n",
    "print(a<b)"
   ]
  },
  {
   "cell_type": "code",
   "execution_count": 6,
   "metadata": {},
   "outputs": [
    {
     "name": "stdout",
     "output_type": "stream",
     "text": [
      "True\n"
     ]
    }
   ],
   "source": [
    "a=(-1,1,'a')\n",
    "b=(-1,-1,'a')\n",
    "print(a>b)"
   ]
  },
  {
   "cell_type": "code",
   "execution_count": 7,
   "metadata": {},
   "outputs": [
    {
     "name": "stdout",
     "output_type": "stream",
     "text": [
      "True\n"
     ]
    }
   ],
   "source": [
    "a=(-1,1,'a')\n",
    "b=(1,-1,'a')\n",
    "print(a<b)"
   ]
  },
  {
   "cell_type": "markdown",
   "metadata": {},
   "source": [
    "所以：*队列比较大小的本质是  一个一个元组依次作比较*"
   ]
  },
  {
   "cell_type": "markdown",
   "metadata": {},
   "source": [
    "## 1.6 在字典中将键映射到多个值上"
   ]
  },
  {
   "cell_type": "code",
   "execution_count": 8,
   "metadata": {},
   "outputs": [
    {
     "name": "stdout",
     "output_type": "stream",
     "text": [
      "{'a': [1, 2, 3], 'b': [4, 5, 4]}\n",
      "{'a': {1, 2, 3}, 'b': {4, 5}}\n"
     ]
    }
   ],
   "source": [
    "d = {'a':[1,2,3],'b':[4,5,4]}  # 希望保留元素插入顺序，就用列表\n",
    "e = {'a':{1,2,3},'b':{4,5,4}}  # 希望消除重复元素，就用集合\n",
    "print(d)\n",
    "print(e)"
   ]
  },
  {
   "cell_type": "markdown",
   "metadata": {},
   "source": [
    "**Tips:可以使用collections模块中的defaultdict类，它会自动初始化第一个值**"
   ]
  },
  {
   "cell_type": "code",
   "execution_count": 9,
   "metadata": {},
   "outputs": [
    {
     "name": "stdout",
     "output_type": "stream",
     "text": [
      "defaultdict(<class 'list'>, {'a': [1, 2], 'b': [4]})\n"
     ]
    }
   ],
   "source": [
    "from collections import defaultdict\n",
    "\n",
    "d= defaultdict(list)\n",
    "d['a'].append(1)\n",
    "d['a'].append(2)\n",
    "d['b'].append(4)\n",
    "\n",
    "print(d)"
   ]
  },
  {
   "cell_type": "code",
   "execution_count": 10,
   "metadata": {},
   "outputs": [
    {
     "name": "stdout",
     "output_type": "stream",
     "text": [
      "defaultdict(<class 'set'>, {'a': {1, 2}, 'b': {4}})\n"
     ]
    }
   ],
   "source": [
    "from collections import defaultdict\n",
    "\n",
    "d= defaultdict(set)\n",
    "d['a'].add(1)\n",
    "d['a'].add(2)\n",
    "d['b'].add(4)\n",
    "\n",
    "print(d)"
   ]
  },
  {
   "cell_type": "code",
   "execution_count": 11,
   "metadata": {},
   "outputs": [
    {
     "name": "stdout",
     "output_type": "stream",
     "text": [
      "defaultdict(<class 'list'>, {'this': [1], 'that': [2]})\n"
     ]
    }
   ],
   "source": [
    "pairs=[('this',1),('that',2)]\n",
    "d = defaultdict(list)\n",
    "for key,value in pairs:\n",
    "    d[key].append(value)\n",
    "print(d)"
   ]
  },
  {
   "cell_type": "markdown",
   "metadata": {},
   "source": [
    "## 1.7 让字典保持有序\n",
    "\n",
    "实现原理：双向列表，会根据元素加入的顺序排列键的位置。\n",
    "*用处：构建映射结构以便以后对其做序列化或编码成另一种格式*\n"
   ]
  },
  {
   "cell_type": "code",
   "execution_count": 12,
   "metadata": {},
   "outputs": [
    {
     "name": "stdout",
     "output_type": "stream",
     "text": [
      "foo 1\n",
      "bar 2\n",
      "spam 3\n"
     ]
    }
   ],
   "source": [
    "from collections import OrderedDict\n",
    "\n",
    "d = OrderedDict()\n",
    "d['foo']=1\n",
    "d['bar']=2\n",
    "d['spam']=3\n",
    "\n",
    "for key in d:\n",
    "    print(key,d[key])"
   ]
  },
  {
   "cell_type": "markdown",
   "metadata": {},
   "source": [
    "## 1.8 与字典有关的计算问题\n",
    "对字典内容做些有用的计算，通常会利用zip()将字典的键和值反转过来"
   ]
  },
  {
   "cell_type": "code",
   "execution_count": 13,
   "metadata": {},
   "outputs": [
    {
     "name": "stdout",
     "output_type": "stream",
     "text": [
      "<zip object at 0x000001D4B7A3C548>\n",
      "(10.75, 'FB')\n"
     ]
    }
   ],
   "source": [
    "price={\n",
    "    'ACME':45.23,\n",
    "    'APPL':612.78,\n",
    "    'IBM':205.55,\n",
    "    'HPQ':37.20,\n",
    "    'FB':10.75\n",
    "}\n",
    "print(zip(price.values(),price.keys()))  # values,keys\n",
    "min_price = min(zip(price.values(),price.keys())) \n",
    "print(min_price)"
   ]
  },
  {
   "cell_type": "markdown",
   "metadata": {},
   "source": [
    "*zip()创建了一个迭代器，它的内容只能被消费一次*"
   ]
  },
  {
   "cell_type": "code",
   "execution_count": 2,
   "metadata": {},
   "outputs": [
    {
     "name": "stdout",
     "output_type": "stream",
     "text": [
      "<zip object at 0x0000020E7C4285C8>\n",
      "(612.78, 'APPL')\n"
     ]
    }
   ],
   "source": [
    "price={\n",
    "    'ACME':45.23,\n",
    "    'APPL':612.78,\n",
    "    'IBM':205.55,\n",
    "    'HPQ':37.20,\n",
    "    'FB':10.75\n",
    "}\n",
    "print(zip(price.values(),price.keys()))  # values,keys\n",
    "max_price = max(zip(price.values(),price.keys())) \n",
    "print(max_price)"
   ]
  },
  {
   "cell_type": "markdown",
   "metadata": {},
   "source": [
    "**Tips:需要排序再加上sorted()**"
   ]
  },
  {
   "cell_type": "code",
   "execution_count": 5,
   "metadata": {},
   "outputs": [
    {
     "name": "stdout",
     "output_type": "stream",
     "text": [
      "[(10.75, 'FB'), (37.2, 'HPQ'), (45.23, 'ACME'), (205.55, 'IBM'), (612.78, 'APPL')]\n"
     ]
    }
   ],
   "source": [
    "price={\n",
    "    'ACME':45.23,\n",
    "    'APPL':612.78,\n",
    "    'IBM':205.55,\n",
    "    'HPQ':37.20,\n",
    "    'FB':10.75\n",
    "}\n",
    "price_sorted=sorted(zip(price.values(),price.keys()))\n",
    "print(price_sorted)"
   ]
  },
  {
   "cell_type": "markdown",
   "metadata": {},
   "source": [
    "*在字典中进行常见的数据操作，将会发现他们只会处理键，而不是值*"
   ]
  },
  {
   "cell_type": "code",
   "execution_count": 12,
   "metadata": {},
   "outputs": [
    {
     "name": "stdout",
     "output_type": "stream",
     "text": [
      "ACME\n",
      "10.75\n",
      "FB\n"
     ]
    }
   ],
   "source": [
    "price={\n",
    "    'ACME':45.23,\n",
    "    'APPL':612.78,\n",
    "    'IBM':205.55,\n",
    "    'HPQ':37.20,\n",
    "    'FB':10.75\n",
    "}\n",
    "print(min(price))\n",
    "print(min(price.values()))\n",
    "print(min(price,key=lambda k:price[k])) #lambda存在的意义是减少单行函数的定义"
   ]
  },
  {
   "cell_type": "markdown",
   "metadata": {},
   "source": [
    "*我觉得lambda   min函数key = price[k]=values()=lambda k*"
   ]
  },
  {
   "cell_type": "markdown",
   "metadata": {},
   "source": [
    "**Tips:当字典值相同时，利用zip会返回拥有最小或最大key值的那个条目**"
   ]
  },
  {
   "cell_type": "code",
   "execution_count": 3,
   "metadata": {},
   "outputs": [
    {
     "name": "stdout",
     "output_type": "stream",
     "text": [
      "<zip object at 0x0000018068162988>\n",
      "(10.5, 'BBB')\n"
     ]
    }
   ],
   "source": [
    "price={'AAA':10.5,'BBB':10.5}\n",
    "price_largest=max(zip(price.values(),price.keys()))\n",
    "print(zip(price.values(),price.keys()))\n",
    "print(price_largest)"
   ]
  },
  {
   "cell_type": "markdown",
   "metadata": {},
   "source": [
    "## 1.9 在两个字典中寻找相同点\n",
    "**Tips:  **\n",
    "1. 可以通过key()或者item()方法执行常见的集合操作\n",
    "2. 使用zip后再使用dict可以将键值反转"
   ]
  },
  {
   "cell_type": "code",
   "execution_count": 14,
   "metadata": {},
   "outputs": [
    {
     "name": "stdout",
     "output_type": "stream",
     "text": [
      "{'Y', 'X'}\n",
      "{'Z'}\n",
      "{('Y', 2)}\n",
      "{1: 'X', 2: 'Y', 3: 'Z'}\n",
      "{10: 'W', 11: 'X', 2: 'Y'}\n",
      "{2}\n"
     ]
    }
   ],
   "source": [
    "a={'X':1,\n",
    "   'Y':2,\n",
    "   'Z':3\n",
    "  }\n",
    "b={'W':10,\n",
    "   'X':11,\n",
    "   'Y':2\n",
    "  }\n",
    "\n",
    "print(a.keys()&b.keys()) # 只能找键交集\n",
    "print(a.keys()-b.keys()) # Find keys in a that are not in b\n",
    "print(a.items()&b.items()) # Find (key,value) pairs in common\n",
    "\n",
    "#d=a.values()&b.values()#不能找值交集 unsupported operand type(s) for &: 'dict_values' and 'dict_values'\n",
    "a_reverse=dict(zip(a.values(),a.keys())) #反转后的a字典\n",
    "b_reverse=dict(zip(b.values(),b.keys())) #反转后的b字典\n",
    "print(a_reverse)\n",
    "print(b_reverse)\n",
    "e=a_reverse.keys()&b_reverse.keys()\n",
    "print(e)     # 交集"
   ]
  },
  {
   "cell_type": "markdown",
   "metadata": {},
   "source": [
    "**Tips:可以用来修改和过滤字典的内容**"
   ]
  },
  {
   "cell_type": "code",
   "execution_count": 2,
   "metadata": {},
   "outputs": [
    {
     "name": "stdout",
     "output_type": "stream",
     "text": [
      "{'Y': 2, 'X': 1}\n"
     ]
    }
   ],
   "source": [
    "a={'X':1,\n",
    "   'Y':2,\n",
    "   'Z':3\n",
    "  }\n",
    "b={'W':10,\n",
    "   'X':11,\n",
    "   'Y':2\n",
    "  }\n",
    "\n",
    "c = {key:a[key]for key in a.keys()-{'Z','W'}}  #字典推导式\n",
    "print(c)"
   ]
  },
  {
   "cell_type": "markdown",
   "metadata": {},
   "source": [
    "## 专题：推导式(Comprehensions)\n",
    "### 1. 列表推导式\n",
    "* 使用[]生成list"
   ]
  },
  {
   "cell_type": "code",
   "execution_count": 4,
   "metadata": {},
   "outputs": [
    {
     "name": "stdout",
     "output_type": "stream",
     "text": [
      "[0, 3, 6, 9, 12, 15, 18, 21, 24, 27]\n"
     ]
    }
   ],
   "source": [
    "mutiples =[i for i in range(30) if i%3==0]\n",
    "print(mutiples)"
   ]
  },
  {
   "cell_type": "code",
   "execution_count": 7,
   "metadata": {},
   "outputs": [
    {
     "name": "stdout",
     "output_type": "stream",
     "text": [
      "[0, 9, 36, 81, 144, 225, 324, 441, 576, 729]\n"
     ]
    }
   ],
   "source": [
    "def squared(x):\n",
    "    return x*x\n",
    "fun_1 = [squared(i) for i in range(30) if i%3==0]\n",
    "print(fun_1)"
   ]
  },
  {
   "cell_type": "markdown",
   "metadata": {},
   "source": [
    "* 使用()生成generator"
   ]
  },
  {
   "cell_type": "code",
   "execution_count": 18,
   "metadata": {},
   "outputs": [
    {
     "name": "stdout",
     "output_type": "stream",
     "text": [
      "<generator object <genexpr> at 0x000001EF16D37938>\n",
      "[0, 3, 6, 9, 12, 15, 18, 21, 24, 27]\n"
     ]
    }
   ],
   "source": [
    "mutiples =(i for i in range(30) if i%3==0)\n",
    "print(mutiples) # generator\n",
    "print(list(mutiples))"
   ]
  },
  {
   "cell_type": "markdown",
   "metadata": {},
   "source": [
    "### 2. 字典推导式\n",
    "字典推导和列表推导的使用方法是类似的，只不中括号该改成大括号。直接举例说明：  \n",
    "* 大小写key合并"
   ]
  },
  {
   "cell_type": "code",
   "execution_count": 20,
   "metadata": {},
   "outputs": [
    {
     "name": "stdout",
     "output_type": "stream",
     "text": [
      "{'a': 17, 'b': 34}\n"
     ]
    }
   ],
   "source": [
    "mcase = {'a': 10, 'b': 34, 'A': 7, 'Z': 3}\n",
    "mcase_frequency = {\n",
    "    k.lower(): mcase.get(k.lower(), 0) + mcase.get(k.upper(), 0) #最终生成的结构\n",
    "    for k in mcase.keys()  #写清楚在哪里\n",
    "    if k.lower() in ['a','b']\n",
    "}\n",
    "print(mcase_frequency)"
   ]
  },
  {
   "cell_type": "markdown",
   "metadata": {},
   "source": [
    "* 键值反转"
   ]
  },
  {
   "cell_type": "code",
   "execution_count": 24,
   "metadata": {},
   "outputs": [
    {
     "name": "stdout",
     "output_type": "stream",
     "text": [
      "dict_items([('a', 11), ('b', 12), ('c', 13)])\n",
      "{'a': 11, 'b': 12, 'c': 13}\n",
      "{11: 'a', 12: 'b', 13: 'c'}\n"
     ]
    }
   ],
   "source": [
    "mcase={'a':11,'b':12,'c':13}\n",
    "print(mcase.items()) #items 会转换成键值对的形式\n",
    "print(mcase)\n",
    "mcase_reverse = {v:k for k,v in mcase.items()}\n",
    "print(mcase_reverse)"
   ]
  },
  {
   "cell_type": "markdown",
   "metadata": {},
   "source": [
    "### 3. 集合推导式"
   ]
  },
  {
   "cell_type": "code",
   "execution_count": 27,
   "metadata": {},
   "outputs": [
    {
     "name": "stdout",
     "output_type": "stream",
     "text": [
      "{8, 1}\n"
     ]
    }
   ],
   "source": [
    "fun_3 = {i**3 for i in [1,1,2]}\n",
    "print(fun_3)"
   ]
  },
  {
   "cell_type": "markdown",
   "metadata": {},
   "source": [
    "## 1.10 从序列中被移除重复项且保持元素间顺序不变"
   ]
  },
  {
   "cell_type": "markdown",
   "metadata": {},
   "source": [
    "**Tips:如果序列中的值是可哈希（harshable）的，那么这个问题可以通过使用集合和生成器解决**"
   ]
  },
  {
   "cell_type": "code",
   "execution_count": 4,
   "metadata": {},
   "outputs": [
    {
     "data": {
      "text/plain": [
       "[1, 5, 2, 9, 10]"
      ]
     },
     "execution_count": 4,
     "metadata": {},
     "output_type": "execute_result"
    }
   ],
   "source": [
    "def dedupe(items):\n",
    "    seen = set()\n",
    "    for item in items:\n",
    "        if item not in seen:#通过集合剔除重复元素\n",
    "            \n",
    "            yield item  #作为生成器  遇到yield返回 值\n",
    "            seen.add(item)    \n",
    "            \n",
    "a=[1,5,2,1,9,1,5,10]\n",
    "list(dedupe(a))"
   ]
  },
  {
   "cell_type": "markdown",
   "metadata": {},
   "source": []
  }
 ],
 "metadata": {
  "kernelspec": {
   "display_name": "Python 3",
   "language": "python",
   "name": "python3"
  },
  "language_info": {
   "codemirror_mode": {
    "name": "ipython",
    "version": 3
   },
   "file_extension": ".py",
   "mimetype": "text/x-python",
   "name": "python",
   "nbconvert_exporter": "python",
   "pygments_lexer": "ipython3",
   "version": "3.6.1"
  }
 },
 "nbformat": 4,
 "nbformat_minor": 2
}
